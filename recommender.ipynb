{
 "cells": [
  {
   "cell_type": "code",
   "execution_count": 2,
   "id": "6fb1fff8",
   "metadata": {},
   "outputs": [],
   "source": [
    "import pandas as pd\n",
    "import ast\n",
    "from sklearn.feature_extraction.text import TfidfVectorizer, CountVectorizer\n",
    "from sklearn.preprocessing import MinMaxScaler, OneHotEncoder\n",
    "from sklearn.metrics.pairwise import cosine_similarity\n",
    "import re\n",
    "from sklearn.decomposition import NMF\n",
    "import numpy as np\n",
    "import math"
   ]
  },
  {
   "cell_type": "markdown",
   "id": "4f996ff9",
   "metadata": {},
   "source": [
    "#### Förberedelse av datan"
   ]
  },
  {
   "cell_type": "code",
   "execution_count": 3,
   "id": "3aebed53",
   "metadata": {},
   "outputs": [],
   "source": [
    "df_recipes = pd.read_csv('data/RAW_recipes.csv').dropna()\n",
    "df_ratings = pd.read_csv('data/RAW_interactions.csv').dropna()"
   ]
  },
  {
   "cell_type": "markdown",
   "id": "a344a97f",
   "metadata": {},
   "source": [
    "Se [EDA](eda.ipynb) för nogrannare förklaring av filtrering av datan"
   ]
  },
  {
   "cell_type": "code",
   "execution_count": 4,
   "id": "f4b82bfc",
   "metadata": {},
   "outputs": [],
   "source": [
    "df_recipes = df_recipes[\n",
    "    (df_recipes['minutes'] <= 1440) ##240 ### 1440\n",
    "    & (df_recipes['minutes'] != 0)\n",
    "    & (df_recipes['n_steps'] != 0)\n",
    "    & (df_recipes['n_ingredients'] != 0)\n",
    "]\n",
    "\n",
    "changed = True\n",
    "while changed:\n",
    "    prev_len = len(df_ratings)\n",
    "    \n",
    "    # Filter users\n",
    "    user_counts = df_ratings['user_id'].value_counts()\n",
    "    valid_users = user_counts[user_counts >= 24].index ##22 ### 24\n",
    "    df_ratings = df_ratings[df_ratings['user_id'].isin(valid_users)]\n",
    "    \n",
    "    # Filter recipes\n",
    "    review_counts = df_ratings['recipe_id'].value_counts()\n",
    "    valid_ids = review_counts[review_counts >= 18].index ##16 ### 16\n",
    "    df_ratings = df_ratings[df_ratings['recipe_id'].isin(valid_ids)]\n",
    "    df_recipes = df_recipes[df_recipes['id'].isin(valid_ids)]\n",
    "    \n",
    "    df_ratings = df_ratings[df_ratings['recipe_id'].isin(df_recipes['id'].values)]\n",
    "\n",
    "    changed = len(df_ratings) != prev_len\n",
    "\n",
    "df_ratings.reset_index(drop=True, inplace=True)\n",
    "df_recipes.reset_index(drop=True, inplace=True)"
   ]
  },
  {
   "cell_type": "markdown",
   "id": "acc8c0b3",
   "metadata": {},
   "source": [
    "'Minutes' (dvs. hur länge ett recept tar att laga) hade för det mesta tiderna som avrundat till närmsta 5 minuter, men vissa var ytterst specifica (t.ex 158 min). Delar upp tiderna i kategorier på 30 min intervaller så att små skillnader inte har en stor påverkan. Tar det 35 eller 36 min att laga är ju sak samma i verkligheten, men kommer skapa onöding 'noise' i datan."
   ]
  },
  {
   "cell_type": "code",
   "execution_count": 5,
   "id": "86136126",
   "metadata": {},
   "outputs": [],
   "source": [
    "bins = np.arange(0, 241, 30)  # 0,30,60,...,240\n",
    "labels = [f\"{i}-{i+30}\" for i in bins[:-1]]\n",
    "df_recipes['time_category'] = pd.cut(df_recipes['minutes'], bins=bins, \n",
    "                                     labels=labels, right=False, include_lowest=True)"
   ]
  },
  {
   "cell_type": "code",
   "execution_count": 6,
   "id": "b8119975",
   "metadata": {},
   "outputs": [],
   "source": [
    "df_recipes['tags'] = df_recipes['tags'].apply(lambda x: ast.literal_eval(x))\n",
    "df_recipes['tags_processed'] = df_recipes['tags'].apply(lambda x: ' '.join(x))\n",
    "df_recipes['ingredients'] = df_recipes['ingredients'].apply(lambda x: ast.literal_eval(x))"
   ]
  },
  {
   "cell_type": "markdown",
   "id": "94e3bf65",
   "metadata": {},
   "source": [
    "konverterar ingrediernserna till små bokstäver, tar bort mellanslag från individuella ingredienser ('olive oil' → 'oliveoil') så att de tokenize:s som en enhet. Raderar onödiga ord (t.ex. fresh) och insignifikanta ingredienser (t.ex salt, peppar) som inte bidrar mycket om receptet"
   ]
  },
  {
   "cell_type": "code",
   "execution_count": null,
   "id": "975c1cbc",
   "metadata": {},
   "outputs": [],
   "source": [
    "with open(\"garbage_words.txt\", \"r\") as f:\n",
    "        garbage_words = {line.strip().lower() for line in f if line.strip()}\n",
    "        more = {'salt', 'black', 'water', 'sugar'} ## insignificant ingredients\n",
    "        garbage_words = garbage_words.union(more)\n",
    "\n",
    "def process_ingredients(lst):\n",
    "    out = []\n",
    "    for ing in lst:\n",
    "        ing = ing.lower().strip()\n",
    "        ing = re.sub(r'[^a-z0-9\\- ]+', '', ing) ## removes everything except alpanumeric chars and '-'\n",
    "        ing = re.sub(r'(?<!bell\\s)pepper\\b', '', ing) ## removes 'pepper' if not preceded by 'bell'\n",
    "        ing = re.sub(r'\\s+', ' ', ing) ## swaps any created space with single space\n",
    "        words = [w for w in ing.split(' ') if w not in garbage_words]\n",
    "        if words:\n",
    "            out.append(''.join(words))\n",
    "    return ' '.join(out) ## creates a string out of a list"
   ]
  },
  {
   "cell_type": "code",
   "execution_count": 8,
   "id": "bcc4c896",
   "metadata": {},
   "outputs": [],
   "source": [
    "df_recipes['ingredients_processed'] = df_recipes['ingredients'].apply(process_ingredients)"
   ]
  },
  {
   "cell_type": "code",
   "execution_count": 9,
   "id": "e6c1ea2a",
   "metadata": {},
   "outputs": [
    {
     "name": "stdout",
     "output_type": "stream",
     "text": [
      "['vegetable oil', 'all-purpose flour', 'onion', 'fresh parsley', 'celery', 'green bell pepper', 'red bell pepper', 'scallion', 'garlic', 'chicken broth', 'salt', 'creole seasoning', 'sausage']\n",
      "vegetableoil all-purposeflour onion parsley celery greenbellpepper redbellpepper scallion garlic chickenbroth creoleseasoning sausage\n"
     ]
    }
   ],
   "source": [
    "print(df_recipes.iloc[1234]['ingredients'])\n",
    "print(df_recipes.iloc[1234]['ingredients_processed'])"
   ]
  },
  {
   "cell_type": "code",
   "execution_count": 10,
   "id": "c03d1a8d",
   "metadata": {},
   "outputs": [],
   "source": [
    "with open(\"garbage_words.txt\", \"r\") as f:\n",
    "        garbage_words = {line.strip().lower() for line in f if line.strip()}\n",
    "        \n",
    "def clean_name(name:str):\n",
    "        \"\"\"Removes unnesseccary words from recipe names (like best, easy etc.) that cause noise.\"\"\"\n",
    "        pattern = r'\\b(?:' + '|'.join(re.escape(w) for w in garbage_words) + r')\\b'\n",
    "        name = name.lower()\n",
    "        name = re.sub(pattern, '', name)\n",
    "        name = re.sub(r'\\b\\s+[sS]\\s+\\b', ' ', name) ## 's -> (space)s\n",
    "        name = name.replace(r'\\s+', ' ').strip() \n",
    "        return name"
   ]
  },
  {
   "cell_type": "code",
   "execution_count": 11,
   "id": "2c56dd21",
   "metadata": {},
   "outputs": [],
   "source": [
    "df_recipes['clean_name'] = df_recipes['name'].apply(clean_name)"
   ]
  },
  {
   "cell_type": "code",
   "execution_count": 12,
   "id": "7571dce2",
   "metadata": {},
   "outputs": [
    {
     "name": "stdout",
     "output_type": "stream",
     "text": [
      "gwen s butter rich dinner rolls\n",
      "gwen butter rich dinner rolls\n"
     ]
    }
   ],
   "source": [
    "print(df_recipes.iloc[1235]['name'])\n",
    "print(df_recipes.iloc[1235]['clean_name'])"
   ]
  },
  {
   "cell_type": "markdown",
   "id": "cab2ff0e",
   "metadata": {},
   "source": [
    "#### Content recommender\n",
    "\n",
    "Rekommenderar på basis av en `recipe seed`. Tar hänsyn till antal ingredienser, antal steg, tidskategori, taggar och själva ingredienserna.\n",
    "\n",
    "`weights` är hur mycket de enskilda datapunkterna skall påverka slutliga resultatet för individuella recept.\n",
    "\n",
    "**Numerisk data (n_steps, n_ingredients)** – MinMaxScaler\n",
    "- Skalar värderna till mellan 0,1 då de har stor skala\n",
    "\n",
    "**Tidskategori** – OneHotEncoder\n",
    "-  Ger numeriska värden för kategorisk data så att de kan användas i beräkningar\n",
    "\n",
    "**Ingredienser** – CountVectorizer\n",
    "- Konverterar ingredienslistan till vektorer (\"bag of words\")\n",
    "- Alla ingredienser ska ha samma vikt, oavsett hur många gånger de förekommer i datasettet, men ordning spelar inte roll\n",
    "\n",
    "**Taggar** – TF-IDF\n",
    "- Viktar ner ofta förekommande taggar \n",
    "- Många recept har samma generiska taggar som inte bidrar mycket\n",
    "\n",
    "<br>\n",
    "\n",
    "Räknar `cosine similarity` mellan de indivduella datapunkter och beräknar ett slutligt resultat genom att multiplicera varje värde med tillhörande vikt och addera dem ihop. Returnerar en `Series` med `recipe_id` som index och resultat som värde, som kan sedan användas i [HybridRecommender](#hybridrecommender) eller i `recommend_direct` för att få direkta rekommendationer.\n",
    "\n",
    "<br>\n",
    "\n",
    "**Vikter**\n",
    "\n",
    "Ingredienser beskriver kanske bäst likheten hos recept och taggarna verkade informativa om receptets typ. Därför är de mest viktade.\n",
    "\n",
    "Numeriska datan (n ingrediencer, n steg) kan beskriva komplexiteten hos ett recept, men beskriver inte innehållet.\n",
    "Tid kan beskriva ansträngningen ett recept behöver, men är inte nödvändigtvis alltid så. Därför har de lägre vikt.\n"
   ]
  },
  {
   "cell_type": "code",
   "execution_count": null,
   "id": "16d8a1ac",
   "metadata": {},
   "outputs": [],
   "source": [
    "class ContentRecommender:\n",
    "    def __init__(self, df_recipes, weights={'tags':0.35, 'numeric_data':0.15, 'time': 0.15, 'ingredients':35}):\n",
    "        \"\"\"\n",
    "        Args:\n",
    "            df_recipes (Dataframe): the dataframe that contains the recipes.\n",
    "            weights (dict): weights for calculating final score\n",
    "        \"\"\"\n",
    "        self.garbage_words = garbage_words\n",
    "        self.weights = weights\n",
    "        #self.name_matrix = None\n",
    "        self.numeric_matrix = None\n",
    "        self.time_matrix = None\n",
    "        self.ingredient_matrix = None\n",
    "        self.tag_matrix = None\n",
    "\n",
    "        self.recipe_indices = None\n",
    "        self.recipes_df = df_recipes\n",
    "    \n",
    "    \n",
    "    def fit(self):\n",
    "        #name_tfidf = TfidfVectorizer(stop_words='english')\n",
    "        scaler = MinMaxScaler()\n",
    "        ohe = OneHotEncoder()\n",
    "        countvec = CountVectorizer(stop_words='english')\n",
    "        tag_tfidf = TfidfVectorizer(stop_words='english')\n",
    "\n",
    "        #self.name_matrix = name_tfidf.fit_transform(self.recipes_df['clean_name'])\n",
    "        self.numeric_matrix = scaler.fit_transform(self.recipes_df[['n_ingredients', 'n_steps']])\n",
    "        self.time_matrix = ohe.fit_transform(self.recipes_df[['time_category']])\n",
    "        self.ingredient_matrix = countvec.fit_transform(self.recipes_df['ingredients_processed'])\n",
    "        self.tag_matrix = tag_tfidf.fit_transform(self.recipes_df['tags_processed'])\n",
    "\n",
    "        self.recipe_indices = pd.Series(self.recipes_df.index, index=self.recipes_df['name'])\n",
    "\n",
    "\n",
    "    def recommend(self, recipe_name):\n",
    "        if recipe_name not in self.recipe_indices: return None\n",
    "        idx = self.recipe_indices[recipe_name]\n",
    "        \n",
    "        #name_vector = self.name_matrix[idx]\n",
    "        #name_simil = cosine_similarity(name_vector, self.name_matrix).flatten()\n",
    "\n",
    "        num_data_vector = self.numeric_matrix[idx].reshape(1, -1)\n",
    "        num_data_simil = cosine_similarity(num_data_vector, self.numeric_matrix).flatten()\n",
    "\n",
    "        time_vector = self.time_matrix[idx]\n",
    "        time_simil = cosine_similarity(time_vector, self.time_matrix).flatten()\n",
    "\n",
    "        ingr_vector = self.ingredient_matrix[idx]\n",
    "        ingr_simil = cosine_similarity(ingr_vector, self.ingredient_matrix).flatten()\n",
    "\n",
    "        tag_vector = self.tag_matrix[idx]\n",
    "        tag_simil = cosine_similarity(tag_vector, self.tag_matrix).flatten()\n",
    "\n",
    "        \n",
    "        scores =  num_data_simil * self.weights['numeric_data'] \\\n",
    "                + time_simil * self.weights['time'] \\\n",
    "                + ingr_simil * self.weights['ingredients'] \\\n",
    "                + tag_simil * self.weights['tags']\n",
    "                #+ name_simil * self.weights['name']\n",
    "\n",
    "        scores = [(i, score) for i, score in enumerate(scores) if i != idx]\n",
    "        scores = pd.Series(\n",
    "            data=[s for _, s in scores],\n",
    "            index=self.recipes_df.iloc[[i for i, _ in scores]]['id']\n",
    "        )\n",
    "        scores.sort_values(ascending=False, inplace=True)\n",
    "        return scores\n",
    "    \n",
    "\n",
    "    def recommend_direct(self, recipe_name, num_recs=10):\n",
    "        \"\"\"\n",
    "        For calling the recommender directly.\n",
    "\n",
    "        Args:\n",
    "            recipe_name (str): The name of a recipe to use as the seed for recommendations\n",
    "            num_recs (int): How many recommendations to produce\n",
    "\n",
    "        Returns:\n",
    "            list: The names of the recommended recipes\n",
    "        \"\"\"\n",
    "        recs = self.recommend(recipe_name)\n",
    "        if recs is None: return None\n",
    "        return self.recipes_df[self.recipes_df['id'].isin(recs.index[:num_recs])]['name'].to_list()\n"
   ]
  },
  {
   "cell_type": "code",
   "execution_count": 482,
   "id": "7e55f475",
   "metadata": {},
   "outputs": [],
   "source": [
    "contRec = ContentRecommender(df_recipes)\n",
    "contRec.fit()"
   ]
  },
  {
   "cell_type": "code",
   "execution_count": 839,
   "id": "cfb46eb0",
   "metadata": {},
   "outputs": [
    {
     "data": {
      "text/plain": [
       "['apple enchiladas',\n",
       " 'baked pork chops and apples',\n",
       " 'bisquick coffee cake',\n",
       " 'cinnamon flop',\n",
       " 'fresh fruit fiesta bars',\n",
       " 'overnight french toast casserole',\n",
       " 'really really good candied sweet potatoes',\n",
       " 'rhubarb crisp',\n",
       " 'strawberry crisp for two',\n",
       " 'sweet potato  yam  casserole with marshmallows']"
      ]
     },
     "execution_count": 839,
     "metadata": {},
     "output_type": "execute_result"
    }
   ],
   "source": [
    "contRec.recommend_direct('land of nod  cinnamon buns', 10)"
   ]
  },
  {
   "cell_type": "markdown",
   "id": "99a57609",
   "metadata": {},
   "source": [
    ">Rekommendationerna har ett sammanhang, men är ändå varierade. Det som står ut mest som den udda är *'baked pork chops and apples'*, men på vidare inspektion delar de en del ingredeienser och är på så sätt lika."
   ]
  },
  {
   "cell_type": "markdown",
   "id": "919f5407",
   "metadata": {},
   "source": [
    "#### CollaborativeRecommender\n",
    "\n",
    "Rekommenderar på basis av vad andra liknande användare har tyckt, tar `user Id` som input. Skapar en `user_item_matrix` med användare som rader, recept som kolumner och ratings som värden – fyller på med 0 var det saknas värde.\n",
    "\n",
    "NMF bryter ner `user_item_matrix` till två matriser och söker mönster i datan. Räknar värdena med punktprodukten av användarens vektor och egenskaperna NMF har producerat. Raderar de recept som användaren har redan gett recension på (värdet är > 0)\n",
    "\n",
    "Returnerar en `Series` med `recipe_id` som index och resultat som värde, som kan sedan användas i [HybridRecommender](#hybridrecommender) eller i `recommend_direct` för att få direkta rekommendationer."
   ]
  },
  {
   "cell_type": "code",
   "execution_count": null,
   "id": "e9c6415a",
   "metadata": {},
   "outputs": [],
   "source": [
    "class CollaborativeRecommender():\n",
    "    def __init__(self, df_recipes, df_ratings):\n",
    "        \"\"\"\n",
    "        Args:\n",
    "            df_recipes (DataFrame): the dataframe that contains the recipes.\n",
    "            df_ratings (DataFrame): the dataframe that contains the ratings for recipes.\n",
    "        \"\"\"\n",
    "        self.recipes_df = df_recipes\n",
    "        self.ratings_df = df_ratings\n",
    "        \n",
    "        self.nmf_model = None\n",
    "        self.user_item_matrix = None\n",
    "        self.user_mapper = None\n",
    "        self.recipe_mapper = None\n",
    "\n",
    "    def fit(self):\n",
    "\n",
    "        self.user_item_matrix = self.ratings_df.pivot(columns='recipe_id', index='user_id', values='rating').fillna(0)\n",
    "        self.user_mapper = {user_id: i for i, user_id in enumerate(self.user_item_matrix.index)}\n",
    "        self.recipe_mapper = {recipe_id: i for i, recipe_id in enumerate(self.user_item_matrix.columns)}\n",
    "\n",
    "        nmf = NMF(n_components=30, init='random', random_state=42, max_iter=600) ## 30\n",
    "        self.nmf_model = nmf.fit(self.user_item_matrix)\n",
    "\n",
    "    def recommend(self, user_id):\n",
    "        #self.fit()       \n",
    "        if user_id not in self.user_mapper: return None\n",
    "\n",
    "        user_idx = self.user_mapper[user_id]\n",
    "        user_vector = self.user_item_matrix.iloc[user_idx].values\n",
    "        user_p = self.nmf_model.transform(user_vector.reshape(1, -1))\n",
    "        pred_ratings = np.dot(user_p, self.nmf_model.components_)\n",
    "\n",
    "        preds = pd.Series(data=pred_ratings[0], index=self.recipe_mapper.keys())\n",
    "        preds = preds[~(user_vector > 0)].sort_values(ascending=False)\n",
    "        return preds\n",
    "        \n",
    "    \n",
    "    def recommend_direct(self, user_id, num_recs=10):\n",
    "        \"\"\"\n",
    "        For calling the recommender directly.\n",
    "\n",
    "        Args:\n",
    "            user_id (int): The id of the user to produce recommendations for.\n",
    "            num_recs (int): How many recommendations to produce.\n",
    "\n",
    "        Returns:\n",
    "            list: The names of the recommended recipes.\n",
    "        \"\"\"\n",
    "        recs = self.recommend(user_id)\n",
    "        if recs is None: return None\n",
    "        return self.recipes_df[self.recipes_df['id'].isin(recs.index[:num_recs])]['name'].to_list()"
   ]
  },
  {
   "cell_type": "code",
   "execution_count": 842,
   "id": "efb293ca",
   "metadata": {},
   "outputs": [],
   "source": [
    "colRec = CollaborativeRecommender(df_recipes, df_ratings)\n",
    "colRec.fit()"
   ]
  },
  {
   "cell_type": "code",
   "execution_count": 843,
   "id": "bc63e12d",
   "metadata": {},
   "outputs": [
    {
     "data": {
      "text/plain": [
       "['whatever floats your boat  brownies',\n",
       " 'banana banana bread',\n",
       " 'best ever banana cake with cream cheese frosting',\n",
       " 'creamy burrito casserole',\n",
       " 'crock pot chicken with black beans   cream cheese',\n",
       " 'crumb topped banana muffins',\n",
       " 'delicious chicken pot pie',\n",
       " 'denny s style french toast',\n",
       " 'kittencal s famous greek salad',\n",
       " 'pulled pork  crock pot']"
      ]
     },
     "execution_count": 843,
     "metadata": {},
     "output_type": "execute_result"
    }
   ],
   "source": [
    "colRec.recommend_direct(user_id=139930)"
   ]
  },
  {
   "cell_type": "code",
   "execution_count": 860,
   "id": "70e589b4",
   "metadata": {},
   "outputs": [
    {
     "data": {
      "text/plain": [
       "114                        asian steamed dumpling filling\n",
       "127                        authentic italian tomato sauce\n",
       "489                                        cherry cookies\n",
       "803                                     crock pot special\n",
       "805                                     crock pot stifado\n",
       "959     easy peezy pizza dough  bread machine pizza dough\n",
       "1101    fudge crinkles  a great 4 ingredient cake mix ...\n",
       "1102                                    fudge filled bars\n",
       "1192                               greek style oven fries\n",
       "1374                inside out stuffed green bell peppers\n",
       "1397                    italian pepper and sausage dinner\n",
       "1451                       kelly s southwestern beef stew\n",
       "1464       kittencal s 5 minute cinnamon flop brunch cake\n",
       "1465    kittencal s baked potato salad casserole  or c...\n",
       "1469    kittencal s banana cinnamon snack cake or muff...\n",
       "1484                 kittencal s chocolate frosting icing\n",
       "1495                          kittencal s famous coleslaw\n",
       "1505     kittencal s italian melt in your mouth meatballs\n",
       "1570                                           lemon bark\n",
       "1639    magnolia bakery s vanilla birthday cake and fr...\n",
       "1646                           mama s   bestest  biscuits\n",
       "1903                      oven fried chicken chimichangas\n",
       "2062      potsie s creamed chicken and biscuits casserole\n",
       "2073         pumpkin cake bars with cream cheese frosting\n",
       "2209                             rustic italian bread abm\n",
       "2226                                        santa cookies\n",
       "2458                               sue b s chocolate cake\n",
       "2750                 white almond sour cream wedding cake\n",
       "Name: name, dtype: object"
      ]
     },
     "execution_count": 860,
     "metadata": {},
     "output_type": "execute_result"
    }
   ],
   "source": [
    "ids = df_ratings[df_ratings['user_id'] == 139930]['recipe_id']\n",
    "df_recipes[df_recipes['id'].isin(ids.values)]['name']"
   ]
  },
  {
   "cell_type": "markdown",
   "id": "bbd12cda",
   "metadata": {},
   "source": [
    ">På basis av vad denna användare tyckt, tycker jag att rekommendationerna verkar rimliga och möjligen som något användaren kunde gilla."
   ]
  },
  {
   "cell_type": "markdown",
   "id": "20e206ef",
   "metadata": {},
   "source": [
    "#### HybridRecommender\n",
    "\n",
    "Söker rekommendationerna från `ContentRecommender` och `CollaborativeRecommender`, normaliserar värdena på rekommendationerna så de är i samma skala. Räknar sedan de nya värdena med vikterna, sorterar och returnerar top `num_recs` rekommendationer. \n",
    "\n",
    "I fall `user_id` är ogiltigt returnerar den endast innehållsrekommendationer, och på samma sätt, om inte `recipe_seed` inte är giltigt returnerar den endast kollaborativa rekommendationer.\n",
    "\n",
    "Returnerar en `DataFrame` med recept id som index och namn som kolumn. Detta för att kunna använda recept id för att räkna i [Evaluator](#evaluator) då det fanns skilda recept med samma namn."
   ]
  },
  {
   "cell_type": "code",
   "execution_count": null,
   "id": "510a8776",
   "metadata": {},
   "outputs": [],
   "source": [
    "class HybridRecommender():\n",
    "    def __init__(self, recipes_df, ratings_df, weights={'collaborative': 0.7, 'content': 0.3}):\n",
    "        \"\"\"\n",
    "        Args:\n",
    "            recipes_df (DataFrame): the dataframe that contains the recipes.\n",
    "            ratings_df (DataFrame): the dataframe that contains the ratings for the recipes.\n",
    "            weights (Dict): weights for calculating final score.\n",
    "        \"\"\"\n",
    "        self.recipes_df = recipes_df\n",
    "        self.ratings_df = ratings_df\n",
    "        self.weights = weights\n",
    "\n",
    "        self.contRec = ContentRecommender(recipes_df)\n",
    "        self.collRec = CollaborativeRecommender(recipes_df, ratings_df)\n",
    "\n",
    "    def fit(self):\n",
    "        self.contRec.fit()\n",
    "        self.collRec.fit()\n",
    "        \n",
    "    def recommend(self, recipe_seed, user_id, num_recs=10):\n",
    "        \"\"\"\n",
    "        For generating recommendations.\n",
    "\n",
    "        Args:\n",
    "            recipe_seed (str): The name of a recipe to use as the seed for recommendations\n",
    "            user_id (int): The id of the user to produce recommendations for.\n",
    "            num_recs (int): How many recommendations to produce.\n",
    "\n",
    "        Returns:\n",
    "            DataFrame: Id, Name of the recommended recipes.\n",
    "        \"\"\"\n",
    "        cont_recs = self.contRec.recommend(recipe_name=recipe_seed)\n",
    "        coll_recs = self.collRec.recommend(user_id=user_id)\n",
    "\n",
    "        if cont_recs is None and coll_recs is None:\n",
    "            print('Invalid input')\n",
    "            return None\n",
    "\n",
    "        ## both return None if input is invalid\n",
    "        if cont_recs is None: return self.recipes_df[self.recipes_df['id'].isin(coll_recs.index[:num_recs])]['name'].to_list()\n",
    "        if coll_recs is None: return self.recipes_df[self.recipes_df['id'].isin(cont_recs.index[:num_recs])]['name'].to_list()\n",
    "        \n",
    "        ## Normalise scores so one doesn't weigh dispropotinally (coll_recs returend values > 1)\n",
    "        cont_recs = (cont_recs - cont_recs.min()) / (cont_recs.max() - cont_recs.min())\n",
    "        coll_recs = (coll_recs - coll_recs.min()) / (coll_recs.max() - coll_recs.min())\n",
    "\n",
    "        ## Align so both have all id's, fill empty with 0 (avoids NaN on weighing)\n",
    "        cont_recs, coll_recs = cont_recs.align(coll_recs, join='outer', fill_value=0)\n",
    "\n",
    "        hybrid_recs = cont_recs * self.weights['collaborative'] + coll_recs * self.weights['content']\n",
    "        recs = hybrid_recs.sort_values(ascending=False).head(num_recs)\n",
    "        \n",
    "        res = self.recipes_df[['id', 'name']].set_index('id').loc[recs.index]\n",
    "\n",
    "        return res\n",
    "\n"
   ]
  },
  {
   "cell_type": "code",
   "execution_count": 846,
   "id": "c90fba35",
   "metadata": {},
   "outputs": [],
   "source": [
    "hybrid = HybridRecommender(df_recipes, df_ratings)\n",
    "hybrid.fit()"
   ]
  },
  {
   "cell_type": "code",
   "execution_count": 847,
   "id": "ffd1e2e2",
   "metadata": {},
   "outputs": [
    {
     "data": {
      "text/html": [
       "<div>\n",
       "<style scoped>\n",
       "    .dataframe tbody tr th:only-of-type {\n",
       "        vertical-align: middle;\n",
       "    }\n",
       "\n",
       "    .dataframe tbody tr th {\n",
       "        vertical-align: top;\n",
       "    }\n",
       "\n",
       "    .dataframe thead th {\n",
       "        text-align: right;\n",
       "    }\n",
       "</style>\n",
       "<table border=\"1\" class=\"dataframe\">\n",
       "  <thead>\n",
       "    <tr style=\"text-align: right;\">\n",
       "      <th></th>\n",
       "      <th>name</th>\n",
       "    </tr>\n",
       "  </thead>\n",
       "  <tbody>\n",
       "    <tr>\n",
       "      <th>43509</th>\n",
       "      <td>crumb topped banana muffins</td>\n",
       "    </tr>\n",
       "    <tr>\n",
       "      <th>21859</th>\n",
       "      <td>apple enchiladas</td>\n",
       "    </tr>\n",
       "    <tr>\n",
       "      <th>122412</th>\n",
       "      <td>strawberry crisp for two</td>\n",
       "    </tr>\n",
       "    <tr>\n",
       "      <th>41541</th>\n",
       "      <td>really really good candied sweet potatoes</td>\n",
       "    </tr>\n",
       "    <tr>\n",
       "      <th>90771</th>\n",
       "      <td>baked pork chops and apples</td>\n",
       "    </tr>\n",
       "    <tr>\n",
       "      <th>25885</th>\n",
       "      <td>banana banana bread</td>\n",
       "    </tr>\n",
       "    <tr>\n",
       "      <th>82925</th>\n",
       "      <td>edna s apple crumble  aka  apple crisp</td>\n",
       "    </tr>\n",
       "    <tr>\n",
       "      <th>32554</th>\n",
       "      <td>cinnamon flop</td>\n",
       "    </tr>\n",
       "    <tr>\n",
       "      <th>93946</th>\n",
       "      <td>rhubarb crisp</td>\n",
       "    </tr>\n",
       "    <tr>\n",
       "      <th>104150</th>\n",
       "      <td>sweet potato  yam  casserole with marshmallows</td>\n",
       "    </tr>\n",
       "  </tbody>\n",
       "</table>\n",
       "</div>"
      ],
      "text/plain": [
       "                                                  name\n",
       "43509                      crumb topped banana muffins\n",
       "21859                                 apple enchiladas\n",
       "122412                        strawberry crisp for two\n",
       "41541        really really good candied sweet potatoes\n",
       "90771                      baked pork chops and apples\n",
       "25885                              banana banana bread\n",
       "82925           edna s apple crumble  aka  apple crisp\n",
       "32554                                    cinnamon flop\n",
       "93946                                    rhubarb crisp\n",
       "104150  sweet potato  yam  casserole with marshmallows"
      ]
     },
     "execution_count": 847,
     "metadata": {},
     "output_type": "execute_result"
    }
   ],
   "source": [
    "hybrid.recommend('land of nod  cinnamon buns', 139930)"
   ]
  },
  {
   "cell_type": "markdown",
   "id": "8b639a77",
   "metadata": {},
   "source": [
    "Resultatet är en blandning av innehållsbaserade och kollaborativa rekommendationer. Rekommendationerna är i helt ny ordning, då de fått nya värden av viktandet.\n",
    "\n",
    "För denna person med detta recept, består majoriteten av rekommendationerna utav de innehållsbaserade, top rekommendationen är dock ifrån de kollaborativa. Det har också kommit en totalt ny rekommendation, som antagligen har varit just utanför top 10 i någon dera rekommendation och nu med kombinationen av båda blivit förstärkt och klättrat upp. "
   ]
  },
  {
   "cell_type": "code",
   "execution_count": 855,
   "id": "a006597b",
   "metadata": {},
   "outputs": [
    {
     "data": {
      "text/plain": [
       "rating\n",
       "5    22\n",
       "4     4\n",
       "3     2\n",
       "Name: count, dtype: int64"
      ]
     },
     "execution_count": 855,
     "metadata": {},
     "output_type": "execute_result"
    }
   ],
   "source": [
    "df_ratings[df_ratings['user_id'] == 139930]['rating'].value_counts()"
   ]
  },
  {
   "cell_type": "markdown",
   "id": "abfa5e57",
   "metadata": {},
   "source": [
    "Användaren har gett 28 st ratings, och med tanke på att datan innehåller tusentals recept är det inte konstigt att innehållsbaserade rekommendationerna i det här fallet får mera tyngd i slutresultatet, då det kan vara svårare att dra slutsatser av denna användares preferencer då det i förhållande till datasettet finns väldigt lite data om denna användare och antagligen väldigt lite överlappning med andra användare."
   ]
  },
  {
   "cell_type": "markdown",
   "id": "8c4de550",
   "metadata": {},
   "source": [
    "#### Evaluator"
   ]
  },
  {
   "cell_type": "code",
   "execution_count": 867,
   "id": "7a84a8ee",
   "metadata": {},
   "outputs": [],
   "source": [
    "class Evaluator():\n",
    "    def __init__(self, df_recipes, df_ratings, recipe_seed='to die for crock pot roast'):\n",
    "        self.recommender = HybridRecommender(df_recipes, df_ratings)\n",
    "        self.recipes_df = df_recipes\n",
    "        self.ratings_df = df_ratings\n",
    "        self.popularity_scores = None\n",
    "        self.name_to_id = None\n",
    "        self.recipe_seed = recipe_seed\n",
    "        \n",
    "\n",
    "    def fit(self):\n",
    "        self.recommender.fit()\n",
    "\n",
    "        rating_counts = self.ratings_df['recipe_id'].value_counts()\n",
    "        num_users = self.ratings_df['user_id'].nunique()\n",
    "        self.popularity_scores = rating_counts / num_users\n",
    "\n",
    "        self.name_to_id = pd.Series(self.recipes_df['id'].values, index=self.recipes_df['name'])\n",
    "\n",
    "    def generate_all_recommendations(self):\n",
    "        all_recs = {}\n",
    "        \n",
    "        for user_id in self.ratings_df['user_id'].unique():\n",
    "            recs = self.recommender.recommend(self.recipe_seed, user_id, 10)\n",
    "            all_recs[user_id] = recs\n",
    "        return all_recs\n",
    "    \n",
    "    def calculate_precision_at_k(self, all_recommendations, k=10):\n",
    "        precision = []\n",
    "        for uid, recs in all_recommendations.items():\n",
    "            liked = self.ratings_df[(self.ratings_df['user_id'] == uid) & (self.ratings_df['rating'] >= 4)]\n",
    "            #rec_ids = [self.name_to_id[r] for r in recs]\n",
    "            hits = len(liked[liked['recipe_id'].isin(recs.index)])\n",
    "            precision.append(hits/k)\n",
    "        \n",
    "        return sum(precision) / len(precision)\n",
    "    \n",
    "    def calculate_coverage(self, all_recommendations):\n",
    "\n",
    "        unique_names = {v for val in all_recommendations.values() for v in val}\n",
    "        return len(unique_names) / self.recipes_df['name'].nunique()\n",
    "    \n",
    "    def calculate_novelty(self, all_recommendations):\n",
    "     \n",
    "        novelty = []\n",
    "        for uid, recs in all_recommendations.items():\n",
    "            scores = [-math.log2(self.popularity_scores[idx]) for idx in recs.index]\n",
    "            novelty.append(sum(scores) / len(scores))\n",
    "        \n",
    "        return sum(novelty) / len(novelty)"
   ]
  },
  {
   "cell_type": "code",
   "execution_count": 868,
   "id": "1c5ba389",
   "metadata": {},
   "outputs": [],
   "source": [
    "evaluator = Evaluator(df_recipes, df_ratings)\n",
    "evaluator.fit()"
   ]
  },
  {
   "cell_type": "code",
   "execution_count": 869,
   "id": "490c607a",
   "metadata": {},
   "outputs": [],
   "source": [
    "all_recs = evaluator.generate_all_recommendations()\n",
    "    \n",
    "precision = evaluator.calculate_precision_at_k(all_recs)\n",
    "coverage = evaluator.calculate_coverage(all_recs)\n",
    "novelty = evaluator.calculate_novelty(all_recs)"
   ]
  },
  {
   "cell_type": "code",
   "execution_count": 870,
   "id": "55ef2bf5",
   "metadata": {},
   "outputs": [
    {
     "name": "stdout",
     "output_type": "stream",
     "text": [
      "\n",
      "--- Evaluation Metrics ---\n",
      "Average Precision@10: 0.0124\n",
      "Catalog Coverage: 0.0004\n",
      "Average Novelty: 6.0060\n"
     ]
    }
   ],
   "source": [
    "print(\"\\n--- Evaluation Metrics ---\")\n",
    "print(f\"Average Precision@10: {precision:.4f}\")\n",
    "print(f\"Catalog Coverage: {coverage:.4f}\")\n",
    "print(f\"Average Novelty: {novelty:.4f}\")"
   ]
  },
  {
   "cell_type": "markdown",
   "id": "63b436e5",
   "metadata": {},
   "source": [
    "#### Resultat och analys\n",
    "\n",
    "Kunde ha justerat vikter och spelat runt med datan i all oändlighet för att försöka slipa på resultatet, men i allmänhet hade filtrering av datan, lite beroende på raderar man fler recept eller användare, tendens att öka precision och coverage, men sänka novelty en aning (några tion-/hundradelar). Aggressiv filtrering ökar densiteten av datan (mindre nollor i `user_item_matrix`), men samtidigt tappar man recept som inte har lika många ratings och datan börjar luta sig mot endast populära recept. Dock är datan även med denna filtering fortfarande ganska gläs.\n",
    "\n",
    "Högre vikt på `collaborative` rekommendationer i `hybridRecommender` hade liknande effekt som filtrering av datan – precision och coverage ökar, novelty sjunker en aning. Detta kan också bero på att om rekommendationerna från kollaborativa systemet har allmänt lägre beräknat värde (pga. liten överlappning och då svårighet att ge meningsfulla rekommendationer) behöver de viktas högre för att inte bli utfiltrerade av innehållsrekommendationerna.\n",
    "\n",
    "Att inte använda receptnamn i `contentRecommender` producerade även bättre resultat i evaluering. Detta verkar helt rimligt då flera receptnamn är 'noisy' var de är skämtsamma etc., och inte nödvändigtvis berättar så mycket om själva receptet. \n",
    "\n",
    "Lite beroende på filtreringen av datan gav 30-40 `n_components` bäst resultat. Initsialisering som 'random' eller 'nndsv' producerade bästa, lika, precision och coverage.\n",
    "\n",
    "Presision och coverage är inte fantastiska: 1.24% av rekommendationerna är relevanta och endast 0.4% av all data används i rekommendationerna. Novelty är medel, rekommendationerna består av både populära recept och också mer nichade, oväntade, rekommendationer.\n",
    "\n",
    "Som slutsats: datan behövde filtreras rejält för att få någorlunda resultat. Kvaliten på metadatan om recepten var sisådär (då det är producerat av community) och för att få bättre resultat behövde systemet vikta mera på kollaborativa rekommendationer."
   ]
  }
 ],
 "metadata": {
  "kernelspec": {
   "display_name": ".venv (3.12.8)",
   "language": "python",
   "name": "python3"
  },
  "language_info": {
   "codemirror_mode": {
    "name": "ipython",
    "version": 3
   },
   "file_extension": ".py",
   "mimetype": "text/x-python",
   "name": "python",
   "nbconvert_exporter": "python",
   "pygments_lexer": "ipython3",
   "version": "3.12.8"
  }
 },
 "nbformat": 4,
 "nbformat_minor": 5
}
