{
 "cells": [
  {
   "cell_type": "markdown",
   "id": "20a4aa16",
   "metadata": {},
   "source": [
    "Data från: https://cseweb.ucsd.edu/~jmcauley/datasets.html#foodcom\n",
    "\n",
    "[RAW_interactions.csv.zip](https://www.kaggle.com/datasets/shuyangli94/food-com-recipes-and-user-interactions?select=RAW_interactions.csv)\n",
    "\n",
    "[RAW_recipes.csv.zip](https://www.kaggle.com/datasets/shuyangli94/food-com-recipes-and-user-interactions?select=RAW_recipes.csv)\n",
    "\n",
    "referens:\n",
    "\n",
    "**Generating Personalized Recipes from Historical User Preferences** <br>\n",
    "Bodhisattwa Prasad Majumder*, Shuyang Li*, Jianmo Ni, Julian McAuley <br>\n",
    "*EMNLP*, 2019\n",
    "\n",
    "\\*\\* Länk till tillhörande graf finns under varje kodsnutt, då plotly grafer har tendes att inte synas efter filuppladning "
   ]
  },
  {
   "cell_type": "code",
   "execution_count": null,
   "id": "7aa7e328",
   "metadata": {},
   "outputs": [],
   "source": [
    "!unzip -o data/RAW_recipes.csv.zip -d data/\n",
    "!unzip -o data/RAW_interactions.csv.zip -d data/"
   ]
  },
  {
   "cell_type": "code",
   "execution_count": 2,
   "id": "4cecfe5e",
   "metadata": {},
   "outputs": [],
   "source": [
    "import pandas as pd\n",
    "import plotly.express as px\n",
    "import numpy as np"
   ]
  },
  {
   "cell_type": "code",
   "execution_count": 3,
   "id": "9aadfa3f",
   "metadata": {},
   "outputs": [],
   "source": [
    "df_recipes = pd.read_csv('data/RAW_recipes.csv')\n",
    "df_ratings = pd.read_csv('data/RAW_interactions.csv')"
   ]
  },
  {
   "cell_type": "markdown",
   "id": "d9640c89",
   "metadata": {},
   "source": [
    "#### Städning av data"
   ]
  },
  {
   "cell_type": "code",
   "execution_count": 368,
   "id": "3b097684",
   "metadata": {},
   "outputs": [
    {
     "name": "stdout",
     "output_type": "stream",
     "text": [
      "Recipes shape: (231637, 12)\n",
      "Ratings shape: (1132367, 5)\n"
     ]
    }
   ],
   "source": [
    "print(f'Recipes shape: {df_recipes.shape}')\n",
    "print(f'Ratings shape: {df_ratings.shape}')"
   ]
  },
  {
   "cell_type": "markdown",
   "id": "a0cead96",
   "metadata": {},
   "source": [
    "230 tusen recept och över 1 miljon indviduella ratings"
   ]
  },
  {
   "cell_type": "code",
   "execution_count": 369,
   "id": "b459b689",
   "metadata": {},
   "outputs": [
    {
     "data": {
      "text/plain": [
       "226570"
      ]
     },
     "execution_count": 369,
     "metadata": {},
     "output_type": "execute_result"
    }
   ],
   "source": [
    "df_ratings['user_id'].nunique()"
   ]
  },
  {
   "cell_type": "code",
   "execution_count": 370,
   "id": "afd892c8",
   "metadata": {},
   "outputs": [
    {
     "data": {
      "text/plain": [
       "52481995090"
      ]
     },
     "execution_count": 370,
     "metadata": {},
     "output_type": "execute_result"
    }
   ],
   "source": [
    "len(df_recipes) * df_ratings['user_id'].nunique()"
   ]
  },
  {
   "cell_type": "markdown",
   "id": "3dbfac35",
   "metadata": {},
   "source": [
    "226 tusen indivduella användare\n",
    "\n",
    "Detta leder till en `user x item` matris blir över 52 miljarder värden, vilket blir för stort med dessa verktyg och resurser (pandas sa nej) → en del data behöver filtreras bort"
   ]
  },
  {
   "cell_type": "code",
   "execution_count": 371,
   "id": "056f5ef8",
   "metadata": {},
   "outputs": [
    {
     "data": {
      "text/html": [
       "<div>\n",
       "<style scoped>\n",
       "    .dataframe tbody tr th:only-of-type {\n",
       "        vertical-align: middle;\n",
       "    }\n",
       "\n",
       "    .dataframe tbody tr th {\n",
       "        vertical-align: top;\n",
       "    }\n",
       "\n",
       "    .dataframe thead th {\n",
       "        text-align: right;\n",
       "    }\n",
       "</style>\n",
       "<table border=\"1\" class=\"dataframe\">\n",
       "  <thead>\n",
       "    <tr style=\"text-align: right;\">\n",
       "      <th></th>\n",
       "      <th>id</th>\n",
       "      <th>minutes</th>\n",
       "      <th>contributor_id</th>\n",
       "      <th>n_steps</th>\n",
       "      <th>n_ingredients</th>\n",
       "    </tr>\n",
       "  </thead>\n",
       "  <tbody>\n",
       "    <tr>\n",
       "      <th>count</th>\n",
       "      <td>231637.000000</td>\n",
       "      <td>2.316370e+05</td>\n",
       "      <td>2.316370e+05</td>\n",
       "      <td>231637.000000</td>\n",
       "      <td>231637.000000</td>\n",
       "    </tr>\n",
       "    <tr>\n",
       "      <th>mean</th>\n",
       "      <td>222014.708984</td>\n",
       "      <td>9.398546e+03</td>\n",
       "      <td>5.534885e+06</td>\n",
       "      <td>9.765499</td>\n",
       "      <td>9.051153</td>\n",
       "    </tr>\n",
       "    <tr>\n",
       "      <th>std</th>\n",
       "      <td>141206.635626</td>\n",
       "      <td>4.461963e+06</td>\n",
       "      <td>9.979141e+07</td>\n",
       "      <td>5.995128</td>\n",
       "      <td>3.734796</td>\n",
       "    </tr>\n",
       "    <tr>\n",
       "      <th>min</th>\n",
       "      <td>38.000000</td>\n",
       "      <td>0.000000e+00</td>\n",
       "      <td>2.700000e+01</td>\n",
       "      <td>0.000000</td>\n",
       "      <td>1.000000</td>\n",
       "    </tr>\n",
       "    <tr>\n",
       "      <th>25%</th>\n",
       "      <td>99944.000000</td>\n",
       "      <td>2.000000e+01</td>\n",
       "      <td>5.690500e+04</td>\n",
       "      <td>6.000000</td>\n",
       "      <td>6.000000</td>\n",
       "    </tr>\n",
       "    <tr>\n",
       "      <th>50%</th>\n",
       "      <td>207249.000000</td>\n",
       "      <td>4.000000e+01</td>\n",
       "      <td>1.736140e+05</td>\n",
       "      <td>9.000000</td>\n",
       "      <td>9.000000</td>\n",
       "    </tr>\n",
       "    <tr>\n",
       "      <th>75%</th>\n",
       "      <td>333816.000000</td>\n",
       "      <td>6.500000e+01</td>\n",
       "      <td>3.982750e+05</td>\n",
       "      <td>12.000000</td>\n",
       "      <td>11.000000</td>\n",
       "    </tr>\n",
       "    <tr>\n",
       "      <th>max</th>\n",
       "      <td>537716.000000</td>\n",
       "      <td>2.147484e+09</td>\n",
       "      <td>2.002290e+09</td>\n",
       "      <td>145.000000</td>\n",
       "      <td>43.000000</td>\n",
       "    </tr>\n",
       "  </tbody>\n",
       "</table>\n",
       "</div>"
      ],
      "text/plain": [
       "                  id       minutes  contributor_id        n_steps  \\\n",
       "count  231637.000000  2.316370e+05    2.316370e+05  231637.000000   \n",
       "mean   222014.708984  9.398546e+03    5.534885e+06       9.765499   \n",
       "std    141206.635626  4.461963e+06    9.979141e+07       5.995128   \n",
       "min        38.000000  0.000000e+00    2.700000e+01       0.000000   \n",
       "25%     99944.000000  2.000000e+01    5.690500e+04       6.000000   \n",
       "50%    207249.000000  4.000000e+01    1.736140e+05       9.000000   \n",
       "75%    333816.000000  6.500000e+01    3.982750e+05      12.000000   \n",
       "max    537716.000000  2.147484e+09    2.002290e+09     145.000000   \n",
       "\n",
       "       n_ingredients  \n",
       "count  231637.000000  \n",
       "mean        9.051153  \n",
       "std         3.734796  \n",
       "min         1.000000  \n",
       "25%         6.000000  \n",
       "50%         9.000000  \n",
       "75%        11.000000  \n",
       "max        43.000000  "
      ]
     },
     "execution_count": 371,
     "metadata": {},
     "output_type": "execute_result"
    }
   ],
   "source": [
    "df_recipes.describe()"
   ]
  },
  {
   "cell_type": "code",
   "execution_count": 372,
   "id": "3519800c",
   "metadata": {},
   "outputs": [
    {
     "data": {
      "text/plain": [
       "array([        55,         30,        130,         45,        190,\n",
       "                0,         15,        120,        180,         70,\n",
       "                5,       1460,       2970,        525,        500,\n",
       "              110,         35,         20,         25,         10,\n",
       "               40,        495,         90,         13,         26,\n",
       "               12,         50,         18,        230,      14450,\n",
       "            20160,        125,        135,         28,         60,\n",
       "              160,       1470,         65,        150,         75,\n",
       "                2,         32,        100,        330,        510,\n",
       "              280,        175,         80,          6,        345,\n",
       "              195,        300,        200,        105,         85,\n",
       "               68,         38,          7,        315,        645,\n",
       "               95,        255,          9,        185,        245,\n",
       "                1,        260,        240,        250,        370,\n",
       "             1500,        140,        171,       1440,      43200,\n",
       "               94,         62,          4,         21,        430,\n",
       "                8,        215,        155,        450,        265,\n",
       "               67,         33,         22,         56,         16,\n",
       "               27,         53,        210,        170,          3,\n",
       "               84,       1680,        375,         72,        550,\n",
       "              570,        750,        115,         48,       1260,\n",
       "               24,         43,         76,        320,         17,\n",
       "              423,         64,         11,        305,        122,\n",
       "              780,         19,        205,        220,         23,\n",
       "              725,        730,        193,      20175,        970,\n",
       "             2880,         42,        127,        482,         77,\n",
       "              145,        365,        136,         37,       1455,\n",
       "             1450,        605,        104,        740,        490,\n",
       "             4365,        143,        485,        275,         14,\n",
       "             2205,        420,        165,        610,       2890,\n",
       "               31,        720,        310,         86,         83,\n",
       "               36,         29,         87,        480,        248,\n",
       "              498,        112,        147,         66,        225,\n",
       "              380,        745,        186,         47,        285,\n",
       "             2915,       1485,         46,        390,         41,\n",
       "              760,       1620,         58,        108,        630,\n",
       "              219,        735,       1210,        615,         34,\n",
       "              270,      30260,      36015,        132,         49,\n",
       "             1530,       4325,       1445,      18720,        915,\n",
       "              540,         63,        360,        121,        602,\n",
       "              505,        435,        795,         57,       1515,\n",
       "             2400,         78,         39,       2940,         52,\n",
       "              144,       1090,        440,        425,       3060,\n",
       "              342,       1447,       4590,        810,         51,\n",
       "              290,      20190,      10110,       4335,       1456,\n",
       "             1560,        164,       1520,       7230,        555,\n",
       "              182,        148,      14460,      14405,       1449,\n",
       "              560,        723,        465,        111,       1490,\n",
       "             4395,     201610,        722,        620,        102,\n",
       "             4410,       1444,      14420,        488,         73,\n",
       "             1020,        960,       1495,        800,        825,\n",
       "             4350,       2910,         61,       5820,     129615,\n",
       "              400,        151,       1575,        585,        455,\n",
       "              134,         44,        213,       1465,        235,\n",
       "              246,      11520,        765,        545,      34570,\n",
       "             4380,       7202,         54,       2920,      47520,\n",
       "              460,       1562,       1800,         96,       1850,\n",
       "              860,       1425,        395,         93,       1480,\n",
       "              520,       4330,        204,         82,        123,\n",
       "               59,         89,       1442,      30270,        805,\n",
       "            14430,        790,         71,         92,        755,\n",
       "             4340,       1170,        600,        690,        335,\n",
       "             1685,        301,       2885,        385,        188,\n",
       "              362,        660,       2220,        945,      86400,\n",
       "              535,        128,        990,        109,        724,\n",
       "             1140,        124,         81,       1272,      11535,\n",
       "             1645,       1740,       1250,        815,        530,\n",
       "             9015,       9740,         74,        295,        252,\n",
       "              117,       2190,         79,         99,        675,\n",
       "            12975,       5880,        372,       1441,        625,\n",
       "              855,       1030,        840,      40325,       6000,\n",
       "              845,        340,       1215,        197,       1980,\n",
       "             4920,        263,        515,        680,        350,\n",
       "             1443,       2160,        405,        318,         98,\n",
       "            32040,        142,        107,        162,       1452,\n",
       "             1448,       1545,       5800,       4320,      15900,\n",
       "             3660,       4500,        325,        114,      43380,\n",
       "             1475,       1454,        129,       1820,        445,\n",
       "             4010,        710,        705,        177,       5760,\n",
       "              126,        367,       2715,         97,       2895,\n",
       "            86410,        153,      30243,        366,       1860,\n",
       "              382,       2460,        848,       5780,        870,\n",
       "             2175,       4440,       4800,      30300,        424,\n",
       "              217,        590,        214,        212,        218,\n",
       "             1225,      14400,        905,        487,         69,\n",
       "              588,         91,        608,         88,        137,\n",
       "              189,        192,       2892,        138,        268,\n",
       "              304,        242,        900,       1080,        483,\n",
       "              312,        580,        184,        211,       2640,\n",
       "             1805,      10090,      20165,        355,       1135,\n",
       "            21630,       2905,       2950,       1550,     259260,\n",
       "              665,        166,        920,        930,        470,\n",
       "              247,       2410,       1940,     144015,        284,\n",
       "              173,       1595,       1555,        208,        157,\n",
       "              278,        308,        481,        565,        575,\n",
       "              880,       1580,       4080,      10085,        314,\n",
       "              156,        228,       2900,       1590,        176,\n",
       "            10082,        721,       3020,        950,      21615,\n",
       "              553,       1504,      72000,        910,        196,\n",
       "              700,       2745,        307,       5775,       1725,\n",
       "             3600,        262,        980,       1220,        616,\n",
       "              169,       6360,     172800,        101,       1458,\n",
       "              475,       1380,        640,      10019,      11521,\n",
       "             5040,       2893,        243,      30255,      10140,\n",
       "             1815,      15860,      10320,      14600,        492,\n",
       "            14410,        415,        978,      11550,        103,\n",
       "             2710,       2430,      17300,       7215,       1245,\n",
       "              254,        183,        339,       3040,        650,\n",
       "             6510,        497,        410,       1000,      10095,\n",
       "              256,        306,        361,       8655,        606,\n",
       "              368,        363,      10100,        670,        541,\n",
       "             8650,       1095,        441,        364,        524,\n",
       "             1920,        302,        820,       1330,      20163,\n",
       "              547,        785,        975,       3455,        201,\n",
       "              386,       1810,        352,      87842,      20168,\n",
       "              830,      43250,       3240,       1830,       1453,\n",
       "              187,       1540,       3000,      28800,       5770,\n",
       "              412,      43260,      60540,        222,       1200,\n",
       "              249,       4545,       1505,       4620,       1230,\n",
       "             1290,      64815,       1320,      43205,       5790,\n",
       "             5350,        113,       1488,      28830,      50400,\n",
       "             7200,        223,      43210,        685,       2925,\n",
       "             1890,        528,       7220,        576,        635,\n",
       "              238,      63360,     129630,        742,       1535,\n",
       "              181,      30240,      49050,      21660,        875,\n",
       "              542,        118,        484,      10080,       4560,\n",
       "              965,      20161,      10105,       4355,       2250,\n",
       "            10125,        376,        321,        154,      18725,\n",
       "            16200,        116,      28805,      10230,       1160,\n",
       "              133,       1570,       1446,        526,        274,\n",
       "              149,        846,       1510,        402,        167,\n",
       "              241,        161,        159,        272,        369,\n",
       "             2955,        617,       1100,        221,     167040,\n",
       "              885,       8640,       1770,      50405,       7210,\n",
       "             3915,        381,       2887,      14425,      14445,\n",
       "              603,      69120,      11565,       9120,      21690,\n",
       "            44655,       1665,      20170,     288000,      21600,\n",
       "            10120,      41775,     259205,     129600,        209,\n",
       "              172,        106,        168,        834,    1051200,\n",
       "              486,       8675,       2165,        178,      10440,\n",
       "              258,        727,      57610,       1469,        303,\n",
       "            86407,       1463,        693,       3180,        319,\n",
       "              146,       1085,        496,        152,       8665,\n",
       "              264,       1710,        624,       2040,        141,\n",
       "             2881,        371,      44645,       3390,        194,\n",
       "              158,        538,     115230,      12965,        206,\n",
       "             7225,        427,        273,        198,       2145,\n",
       "             3030,        202,        512,       2985,       5850,\n",
       "             2415,      28810,       1700,       1630,        394,\n",
       "              770,       2760,       3605,       1695,       7380,\n",
       "             5765,        728,       1110,        378,        940,\n",
       "            60500,       1280,        174, 2147483647,       1105,\n",
       "            60510,     132495,      20340,      13005,       1865,\n",
       "              232,       4215,      63375,        716,       2930,\n",
       "             3615,        289,       1275,       3480,        729,\n",
       "              985,       3610,        595,     216015,      86415,\n",
       "              338,        316,       4321,        607,      40410,\n",
       "             3120,      50410,       5785,       7440,      17340,\n",
       "             1050,        234,       1632,      23050,       1970,\n",
       "             8760,       1270,       3035,      43230,       7205,\n",
       "              842,       2935,       3360,      43220,     172810,\n",
       "            43202,     146880,       5805,      34590,      43215,\n",
       "             2480,       4680,       4515,       1462,     187200,\n",
       "            60555,       1650,      86405,       1125,       4345,\n",
       "             2340,        516,       1845,       2490,       5970,\n",
       "              503,       1649,      26100,       4385,        257,\n",
       "              293,       1235,      11540,       1120,        399,\n",
       "             1525,     129610,      53290,        207,        317,\n",
       "              432,        422,        604,        775,       2295,\n",
       "            17310,        935,        856,      15880,       1875,\n",
       "             1040,      14415,        494,        612,      21610,\n",
       "              139,       1870,       4415,       3070,       1285,\n",
       "              902,       2180,       1935,      14535,        732,\n",
       "            20180,       4425,        493,       1605,        864,\n",
       "              428,        648,      28820,        850,        507,\n",
       "              858,     129620,        843,       3900,        277,\n",
       "            20280,       3010,        421,      11555,       1640,\n",
       "              726,        964,        504])"
      ]
     },
     "execution_count": 372,
     "metadata": {},
     "output_type": "execute_result"
    }
   ],
   "source": [
    "df_recipes['minutes'].unique()"
   ]
  },
  {
   "cell_type": "markdown",
   "id": "eba0e41d",
   "metadata": {},
   "source": [
    ">filtrerar bort rader var information saknas\n",
    "\n",
    "Som man kan se av `.describe`, finns det en del märkliga värden i 'minutes' (hur länge det tar att laga) kolumnen, raderar rader var minutes är mer än 1440 (dvs 24h) och var det är 0. Det finns även recept var antalet steg är 0"
   ]
  },
  {
   "cell_type": "code",
   "execution_count": 373,
   "id": "ac7d7cf4",
   "metadata": {},
   "outputs": [
    {
     "data": {
      "text/html": [
       "<div>\n",
       "<style scoped>\n",
       "    .dataframe tbody tr th:only-of-type {\n",
       "        vertical-align: middle;\n",
       "    }\n",
       "\n",
       "    .dataframe tbody tr th {\n",
       "        vertical-align: top;\n",
       "    }\n",
       "\n",
       "    .dataframe thead th {\n",
       "        text-align: right;\n",
       "    }\n",
       "</style>\n",
       "<table border=\"1\" class=\"dataframe\">\n",
       "  <thead>\n",
       "    <tr style=\"text-align: right;\">\n",
       "      <th></th>\n",
       "      <th>name</th>\n",
       "      <th>id</th>\n",
       "      <th>minutes</th>\n",
       "      <th>contributor_id</th>\n",
       "      <th>submitted</th>\n",
       "      <th>tags</th>\n",
       "      <th>nutrition</th>\n",
       "      <th>n_steps</th>\n",
       "      <th>steps</th>\n",
       "      <th>description</th>\n",
       "      <th>ingredients</th>\n",
       "      <th>n_ingredients</th>\n",
       "    </tr>\n",
       "  </thead>\n",
       "  <tbody>\n",
       "    <tr>\n",
       "      <th>144074</th>\n",
       "      <td>no bake granola balls</td>\n",
       "      <td>261647</td>\n",
       "      <td>2147483647</td>\n",
       "      <td>464080</td>\n",
       "      <td>2007-10-26</td>\n",
       "      <td>['60-minutes-or-less', 'time-to-make', 'course...</td>\n",
       "      <td>[330.3, 23.0, 110.0, 4.0, 15.0, 24.0, 15.0]</td>\n",
       "      <td>9</td>\n",
       "      <td>['preheat the oven to 350 degrees', 'spread oa...</td>\n",
       "      <td>healthy snacks that kids (and grown ups) will ...</td>\n",
       "      <td>['rolled oats', 'unsweetened dried shredded co...</td>\n",
       "      <td>8</td>\n",
       "    </tr>\n",
       "  </tbody>\n",
       "</table>\n",
       "</div>"
      ],
      "text/plain": [
       "                         name      id     minutes  contributor_id   submitted  \\\n",
       "144074  no bake granola balls  261647  2147483647          464080  2007-10-26   \n",
       "\n",
       "                                                     tags  \\\n",
       "144074  ['60-minutes-or-less', 'time-to-make', 'course...   \n",
       "\n",
       "                                          nutrition  n_steps  \\\n",
       "144074  [330.3, 23.0, 110.0, 4.0, 15.0, 24.0, 15.0]        9   \n",
       "\n",
       "                                                    steps  \\\n",
       "144074  ['preheat the oven to 350 degrees', 'spread oa...   \n",
       "\n",
       "                                              description  \\\n",
       "144074  healthy snacks that kids (and grown ups) will ...   \n",
       "\n",
       "                                              ingredients  n_ingredients  \n",
       "144074  ['rolled oats', 'unsweetened dried shredded co...              8  "
      ]
     },
     "execution_count": 373,
     "metadata": {},
     "output_type": "execute_result"
    }
   ],
   "source": [
    "df_recipes[df_recipes['minutes'] == 2147483647]"
   ]
  },
  {
   "cell_type": "markdown",
   "id": "fc4d0f2d",
   "metadata": {},
   "source": [
    "Hoppas att det inte tar över 4000 år att laga *granola balls*"
   ]
  },
  {
   "cell_type": "code",
   "execution_count": 4,
   "id": "a1a12e51",
   "metadata": {},
   "outputs": [],
   "source": [
    "## tar bort ovalida recept\n",
    "df_recipes = df_recipes[(df_recipes['minutes'] <= 1440) \n",
    "        & (df_recipes['minutes'] != 0) \n",
    "        & (df_recipes['n_steps'] != 0) \n",
    "        & (df_recipes['n_ingredients'] != 0)]\n",
    "\n",
    "df_ratings = df_ratings[df_ratings['recipe_id'].isin(df_recipes['id'])]"
   ]
  },
  {
   "cell_type": "markdown",
   "id": "bf2029fb",
   "metadata": {},
   "source": [
    ">Filtrerar bort användare som har gett färre än 24 recensioner och recept med färre än 18 recensioner\n",
    "\n",
    "Detta behöver köras tills inga fler ändringar sker då:\n",
    "- radering av recept påverkar hur många reviews en användare har gett\n",
    "- radering av användare påverkar hur många reviews ett recept har"
   ]
  },
  {
   "cell_type": "code",
   "execution_count": 5,
   "id": "9fd15a5a",
   "metadata": {},
   "outputs": [],
   "source": [
    "changed = True\n",
    "while changed:\n",
    "    prev_len = len(df_ratings)\n",
    "    \n",
    "    ## filter users\n",
    "    user_counts = df_ratings['user_id'].value_counts()\n",
    "    valid_users = user_counts[user_counts >= 24].index\n",
    "    df_ratings = df_ratings[df_ratings['user_id'].isin(valid_users)]\n",
    "    \n",
    "    ## filter recipes\n",
    "    review_counts = df_ratings['recipe_id'].value_counts()\n",
    "    valid_ids = review_counts[review_counts >= 18].index\n",
    "    df_ratings = df_ratings[df_ratings['recipe_id'].isin(valid_ids)]\n",
    "    df_recipes = df_recipes[df_recipes['id'].isin(valid_ids)]\n",
    "\n",
    "    df_ratings = df_ratings[df_ratings['recipe_id'].isin(df_recipes['id'].values)]\n",
    "    \n",
    "    changed = len(df_ratings) != prev_len"
   ]
  },
  {
   "cell_type": "code",
   "execution_count": 6,
   "id": "a5f61d0a",
   "metadata": {},
   "outputs": [],
   "source": [
    "df_recipes.reset_index(drop=True, inplace=True)\n",
    "df_ratings.reset_index(drop=True, inplace=True)"
   ]
  },
  {
   "cell_type": "code",
   "execution_count": 377,
   "id": "f94c3d36",
   "metadata": {},
   "outputs": [
    {
     "name": "stdout",
     "output_type": "stream",
     "text": [
      "2908\n",
      "2908\n"
     ]
    }
   ],
   "source": [
    "print(df_ratings['recipe_id'].nunique())\n",
    "print(df_recipes['id'].nunique())"
   ]
  },
  {
   "cell_type": "code",
   "execution_count": 378,
   "id": "6cf16cc4",
   "metadata": {},
   "outputs": [
    {
     "data": {
      "text/plain": [
       "1842"
      ]
     },
     "execution_count": 378,
     "metadata": {},
     "output_type": "execute_result"
    }
   ],
   "source": [
    "df_ratings['user_id'].nunique()"
   ]
  },
  {
   "cell_type": "code",
   "execution_count": 379,
   "id": "2e0f1cfe",
   "metadata": {},
   "outputs": [
    {
     "name": "stdout",
     "output_type": "stream",
     "text": [
      "Recipes shape: (2908, 12)\n",
      "Ratings shape: (106288, 5)\n"
     ]
    }
   ],
   "source": [
    "print(f'Recipes shape: {df_recipes.shape}')\n",
    "print(f'Ratings shape: {df_ratings.shape}')"
   ]
  },
  {
   "cell_type": "code",
   "execution_count": 10,
   "id": "a51f9a7e",
   "metadata": {},
   "outputs": [
    {
     "data": {
      "text/plain": [
       "5356536"
      ]
     },
     "execution_count": 10,
     "metadata": {},
     "output_type": "execute_result"
    }
   ],
   "source": [
    "len(df_recipes) * df_ratings['user_id'].nunique()"
   ]
  },
  {
   "cell_type": "markdown",
   "id": "55cb065a",
   "metadata": {},
   "source": [
    "5 356 536"
   ]
  },
  {
   "cell_type": "markdown",
   "id": "eb1a2e1d",
   "metadata": {},
   "source": [
    "`user x item` matrisen kommer ha dryga 5 miljoner värden, vilket är rimligare"
   ]
  },
  {
   "cell_type": "code",
   "execution_count": 11,
   "id": "2d3af440",
   "metadata": {},
   "outputs": [
    {
     "data": {
      "text/plain": [
       "0.019842674444827776"
      ]
     },
     "execution_count": 11,
     "metadata": {},
     "output_type": "execute_result"
    }
   ],
   "source": [
    "len(df_ratings) / (len(df_recipes) * df_ratings['user_id'].nunique())"
   ]
  },
  {
   "cell_type": "markdown",
   "id": "ad77f51b",
   "metadata": {},
   "source": [
    "1 - 0.02 = 98% gläshet"
   ]
  },
  {
   "cell_type": "markdown",
   "id": "f2fd700a",
   "metadata": {},
   "source": [
    "#### Exploring"
   ]
  },
  {
   "cell_type": "code",
   "execution_count": 381,
   "id": "8c5d53a1",
   "metadata": {},
   "outputs": [
    {
     "data": {
      "text/html": [
       "<div>\n",
       "<style scoped>\n",
       "    .dataframe tbody tr th:only-of-type {\n",
       "        vertical-align: middle;\n",
       "    }\n",
       "\n",
       "    .dataframe tbody tr th {\n",
       "        vertical-align: top;\n",
       "    }\n",
       "\n",
       "    .dataframe thead th {\n",
       "        text-align: right;\n",
       "    }\n",
       "</style>\n",
       "<table border=\"1\" class=\"dataframe\">\n",
       "  <thead>\n",
       "    <tr style=\"text-align: right;\">\n",
       "      <th></th>\n",
       "      <th>name</th>\n",
       "      <th>id</th>\n",
       "      <th>minutes</th>\n",
       "      <th>contributor_id</th>\n",
       "      <th>submitted</th>\n",
       "      <th>tags</th>\n",
       "      <th>nutrition</th>\n",
       "      <th>n_steps</th>\n",
       "      <th>steps</th>\n",
       "      <th>description</th>\n",
       "      <th>ingredients</th>\n",
       "      <th>n_ingredients</th>\n",
       "    </tr>\n",
       "  </thead>\n",
       "  <tbody>\n",
       "    <tr>\n",
       "      <th>0</th>\n",
       "      <td>how i got my family to eat spinach  spinach ca...</td>\n",
       "      <td>25775</td>\n",
       "      <td>50</td>\n",
       "      <td>37305</td>\n",
       "      <td>2002-04-22</td>\n",
       "      <td>['60-minutes-or-less', 'time-to-make', 'course...</td>\n",
       "      <td>[166.1, 16.0, 6.0, 32.0, 19.0, 26.0, 3.0]</td>\n",
       "      <td>5</td>\n",
       "      <td>['preheat oven to 350 degrees', 'place spinach...</td>\n",
       "      <td>if spinach scares you, this is one recipe that...</td>\n",
       "      <td>['frozen chopped spinach', 'egg', 'salt', 'bla...</td>\n",
       "      <td>8</td>\n",
       "    </tr>\n",
       "    <tr>\n",
       "      <th>1</th>\n",
       "      <td>land of nod  cinnamon buns</td>\n",
       "      <td>22526</td>\n",
       "      <td>35</td>\n",
       "      <td>29212</td>\n",
       "      <td>2002-03-14</td>\n",
       "      <td>['60-minutes-or-less', 'time-to-make', 'course...</td>\n",
       "      <td>[575.3, 18.0, 116.0, 34.0, 28.0, 22.0, 34.0]</td>\n",
       "      <td>7</td>\n",
       "      <td>['before you turn in for the night , grease a ...</td>\n",
       "      <td>i have made this several times and it's dead e...</td>\n",
       "      <td>['rolls', 'brown sugar', 'instant vanilla pudd...</td>\n",
       "      <td>6</td>\n",
       "    </tr>\n",
       "    <tr>\n",
       "      <th>2</th>\n",
       "      <td>never weep  whipped cream</td>\n",
       "      <td>74805</td>\n",
       "      <td>5</td>\n",
       "      <td>87877</td>\n",
       "      <td>2003-11-01</td>\n",
       "      <td>['15-minutes-or-less', 'time-to-make', 'course...</td>\n",
       "      <td>[276.3, 45.0, 2.0, 1.0, 3.0, 91.0, 0.0]</td>\n",
       "      <td>4</td>\n",
       "      <td>['whip all ingredients together until firm pea...</td>\n",
       "      <td>i don't know where i got this, but it works. t...</td>\n",
       "      <td>['whipping cream', 'vanilla instant pudding mi...</td>\n",
       "      <td>4</td>\n",
       "    </tr>\n",
       "    <tr>\n",
       "      <th>3</th>\n",
       "      <td>ant  kelly s london broil marinade</td>\n",
       "      <td>155959</td>\n",
       "      <td>200</td>\n",
       "      <td>59476</td>\n",
       "      <td>2006-02-13</td>\n",
       "      <td>['time-to-make', 'main-ingredient', 'preparati...</td>\n",
       "      <td>[673.5, 61.0, 18.0, 67.0, 133.0, 57.0, 2.0]</td>\n",
       "      <td>13</td>\n",
       "      <td>['mix all marinade ingredients together', 'lig...</td>\n",
       "      <td>my niece shwana loves this!  she always writes...</td>\n",
       "      <td>['balsamic vinegar', 'soy sauce', 'worcestersh...</td>\n",
       "      <td>8</td>\n",
       "    </tr>\n",
       "    <tr>\n",
       "      <th>4</th>\n",
       "      <td>bar  cheese</td>\n",
       "      <td>42151</td>\n",
       "      <td>35</td>\n",
       "      <td>44807</td>\n",
       "      <td>2002-10-03</td>\n",
       "      <td>['60-minutes-or-less', 'time-to-make', 'course...</td>\n",
       "      <td>[707.1, 76.0, 91.0, 147.0, 74.0, 161.0, 9.0]</td>\n",
       "      <td>8</td>\n",
       "      <td>['in a large sauce pan over low heat , melt th...</td>\n",
       "      <td>a friend shared this with me last year. i have...</td>\n",
       "      <td>['velveeta cheese', 'mayonnaise', 'horseradish...</td>\n",
       "      <td>5</td>\n",
       "    </tr>\n",
       "    <tr>\n",
       "      <th>...</th>\n",
       "      <td>...</td>\n",
       "      <td>...</td>\n",
       "      <td>...</td>\n",
       "      <td>...</td>\n",
       "      <td>...</td>\n",
       "      <td>...</td>\n",
       "      <td>...</td>\n",
       "      <td>...</td>\n",
       "      <td>...</td>\n",
       "      <td>...</td>\n",
       "      <td>...</td>\n",
       "      <td>...</td>\n",
       "    </tr>\n",
       "    <tr>\n",
       "      <th>2903</th>\n",
       "      <td>zucchini oven   fries</td>\n",
       "      <td>178820</td>\n",
       "      <td>25</td>\n",
       "      <td>219942</td>\n",
       "      <td>2006-07-24</td>\n",
       "      <td>['30-minutes-or-less', 'time-to-make', 'course...</td>\n",
       "      <td>[128.1, 1.0, 17.0, 13.0, 12.0, 0.0, 8.0]</td>\n",
       "      <td>8</td>\n",
       "      <td>['preheat oven to 400f', 'lightly coat baking ...</td>\n",
       "      <td>these are really good and have the added bonus...</td>\n",
       "      <td>['zucchini', 'egg white', 'flour', 'cornstarch...</td>\n",
       "      <td>7</td>\n",
       "    </tr>\n",
       "    <tr>\n",
       "      <th>2904</th>\n",
       "      <td>zucchini pancakes</td>\n",
       "      <td>16702</td>\n",
       "      <td>35</td>\n",
       "      <td>27416</td>\n",
       "      <td>2002-01-04</td>\n",
       "      <td>['60-minutes-or-less', 'time-to-make', 'course...</td>\n",
       "      <td>[363.0, 41.0, 9.0, 34.0, 19.0, 51.0, 7.0]</td>\n",
       "      <td>16</td>\n",
       "      <td>['wash and shred zucchini on a fine shredder',...</td>\n",
       "      <td>this is a great vegetarian pancake, easy to ma...</td>\n",
       "      <td>['fresh zucchini', 'eggs', 'all-purpose flour'...</td>\n",
       "      <td>8</td>\n",
       "    </tr>\n",
       "    <tr>\n",
       "      <th>2905</th>\n",
       "      <td>zucchini ribbons with basil butter</td>\n",
       "      <td>34110</td>\n",
       "      <td>35</td>\n",
       "      <td>14015</td>\n",
       "      <td>2002-07-15</td>\n",
       "      <td>['60-minutes-or-less', 'time-to-make', 'course...</td>\n",
       "      <td>[99.9, 11.0, 19.0, 3.0, 6.0, 14.0, 2.0]</td>\n",
       "      <td>8</td>\n",
       "      <td>['bring pot of water to boil', 'mean-while , w...</td>\n",
       "      <td>found this in a magazine! made it with the gar...</td>\n",
       "      <td>['zucchini', 'butter', 'olive oil', 'parmesan ...</td>\n",
       "      <td>6</td>\n",
       "    </tr>\n",
       "    <tr>\n",
       "      <th>2906</th>\n",
       "      <td>zucchini salsa  canned</td>\n",
       "      <td>11217</td>\n",
       "      <td>105</td>\n",
       "      <td>4470</td>\n",
       "      <td>2001-08-29</td>\n",
       "      <td>['weeknight', 'time-to-make', 'course', 'main-...</td>\n",
       "      <td>[211.9, 2.0, 139.0, 159.0, 10.0, 1.0, 15.0]</td>\n",
       "      <td>7</td>\n",
       "      <td>['day one:in a large bowl combine', 'zucchini ...</td>\n",
       "      <td>this recipe is from a friend's, daughter's mot...</td>\n",
       "      <td>['zucchini', 'onions', 'green peppers', 'red p...</td>\n",
       "      <td>16</td>\n",
       "    </tr>\n",
       "    <tr>\n",
       "      <th>2907</th>\n",
       "      <td>zucchini they will eat</td>\n",
       "      <td>151956</td>\n",
       "      <td>10</td>\n",
       "      <td>209747</td>\n",
       "      <td>2006-01-17</td>\n",
       "      <td>['bacon', '15-minutes-or-less', 'time-to-make'...</td>\n",
       "      <td>[70.1, 7.0, 10.0, 4.0, 7.0, 11.0, 1.0]</td>\n",
       "      <td>7</td>\n",
       "      <td>['fry bacon until crisp and drain on paper tow...</td>\n",
       "      <td>quick and easy- hot and cheesy! seasonings, ba...</td>\n",
       "      <td>['zucchini', 'basil', 'green onion', 'cheddar ...</td>\n",
       "      <td>7</td>\n",
       "    </tr>\n",
       "  </tbody>\n",
       "</table>\n",
       "<p>2908 rows × 12 columns</p>\n",
       "</div>"
      ],
      "text/plain": [
       "                                                   name      id  minutes  \\\n",
       "0     how i got my family to eat spinach  spinach ca...   25775       50   \n",
       "1                            land of nod  cinnamon buns   22526       35   \n",
       "2                             never weep  whipped cream   74805        5   \n",
       "3                    ant  kelly s london broil marinade  155959      200   \n",
       "4                                           bar  cheese   42151       35   \n",
       "...                                                 ...     ...      ...   \n",
       "2903                              zucchini oven   fries  178820       25   \n",
       "2904                                  zucchini pancakes   16702       35   \n",
       "2905                 zucchini ribbons with basil butter   34110       35   \n",
       "2906                             zucchini salsa  canned   11217      105   \n",
       "2907                             zucchini they will eat  151956       10   \n",
       "\n",
       "      contributor_id   submitted  \\\n",
       "0              37305  2002-04-22   \n",
       "1              29212  2002-03-14   \n",
       "2              87877  2003-11-01   \n",
       "3              59476  2006-02-13   \n",
       "4              44807  2002-10-03   \n",
       "...              ...         ...   \n",
       "2903          219942  2006-07-24   \n",
       "2904           27416  2002-01-04   \n",
       "2905           14015  2002-07-15   \n",
       "2906            4470  2001-08-29   \n",
       "2907          209747  2006-01-17   \n",
       "\n",
       "                                                   tags  \\\n",
       "0     ['60-minutes-or-less', 'time-to-make', 'course...   \n",
       "1     ['60-minutes-or-less', 'time-to-make', 'course...   \n",
       "2     ['15-minutes-or-less', 'time-to-make', 'course...   \n",
       "3     ['time-to-make', 'main-ingredient', 'preparati...   \n",
       "4     ['60-minutes-or-less', 'time-to-make', 'course...   \n",
       "...                                                 ...   \n",
       "2903  ['30-minutes-or-less', 'time-to-make', 'course...   \n",
       "2904  ['60-minutes-or-less', 'time-to-make', 'course...   \n",
       "2905  ['60-minutes-or-less', 'time-to-make', 'course...   \n",
       "2906  ['weeknight', 'time-to-make', 'course', 'main-...   \n",
       "2907  ['bacon', '15-minutes-or-less', 'time-to-make'...   \n",
       "\n",
       "                                         nutrition  n_steps  \\\n",
       "0        [166.1, 16.0, 6.0, 32.0, 19.0, 26.0, 3.0]        5   \n",
       "1     [575.3, 18.0, 116.0, 34.0, 28.0, 22.0, 34.0]        7   \n",
       "2          [276.3, 45.0, 2.0, 1.0, 3.0, 91.0, 0.0]        4   \n",
       "3      [673.5, 61.0, 18.0, 67.0, 133.0, 57.0, 2.0]       13   \n",
       "4     [707.1, 76.0, 91.0, 147.0, 74.0, 161.0, 9.0]        8   \n",
       "...                                            ...      ...   \n",
       "2903      [128.1, 1.0, 17.0, 13.0, 12.0, 0.0, 8.0]        8   \n",
       "2904     [363.0, 41.0, 9.0, 34.0, 19.0, 51.0, 7.0]       16   \n",
       "2905       [99.9, 11.0, 19.0, 3.0, 6.0, 14.0, 2.0]        8   \n",
       "2906   [211.9, 2.0, 139.0, 159.0, 10.0, 1.0, 15.0]        7   \n",
       "2907        [70.1, 7.0, 10.0, 4.0, 7.0, 11.0, 1.0]        7   \n",
       "\n",
       "                                                  steps  \\\n",
       "0     ['preheat oven to 350 degrees', 'place spinach...   \n",
       "1     ['before you turn in for the night , grease a ...   \n",
       "2     ['whip all ingredients together until firm pea...   \n",
       "3     ['mix all marinade ingredients together', 'lig...   \n",
       "4     ['in a large sauce pan over low heat , melt th...   \n",
       "...                                                 ...   \n",
       "2903  ['preheat oven to 400f', 'lightly coat baking ...   \n",
       "2904  ['wash and shred zucchini on a fine shredder',...   \n",
       "2905  ['bring pot of water to boil', 'mean-while , w...   \n",
       "2906  ['day one:in a large bowl combine', 'zucchini ...   \n",
       "2907  ['fry bacon until crisp and drain on paper tow...   \n",
       "\n",
       "                                            description  \\\n",
       "0     if spinach scares you, this is one recipe that...   \n",
       "1     i have made this several times and it's dead e...   \n",
       "2     i don't know where i got this, but it works. t...   \n",
       "3     my niece shwana loves this!  she always writes...   \n",
       "4     a friend shared this with me last year. i have...   \n",
       "...                                                 ...   \n",
       "2903  these are really good and have the added bonus...   \n",
       "2904  this is a great vegetarian pancake, easy to ma...   \n",
       "2905  found this in a magazine! made it with the gar...   \n",
       "2906  this recipe is from a friend's, daughter's mot...   \n",
       "2907  quick and easy- hot and cheesy! seasonings, ba...   \n",
       "\n",
       "                                            ingredients  n_ingredients  \n",
       "0     ['frozen chopped spinach', 'egg', 'salt', 'bla...              8  \n",
       "1     ['rolls', 'brown sugar', 'instant vanilla pudd...              6  \n",
       "2     ['whipping cream', 'vanilla instant pudding mi...              4  \n",
       "3     ['balsamic vinegar', 'soy sauce', 'worcestersh...              8  \n",
       "4     ['velveeta cheese', 'mayonnaise', 'horseradish...              5  \n",
       "...                                                 ...            ...  \n",
       "2903  ['zucchini', 'egg white', 'flour', 'cornstarch...              7  \n",
       "2904  ['fresh zucchini', 'eggs', 'all-purpose flour'...              8  \n",
       "2905  ['zucchini', 'butter', 'olive oil', 'parmesan ...              6  \n",
       "2906  ['zucchini', 'onions', 'green peppers', 'red p...             16  \n",
       "2907  ['zucchini', 'basil', 'green onion', 'cheddar ...              7  \n",
       "\n",
       "[2908 rows x 12 columns]"
      ]
     },
     "execution_count": 381,
     "metadata": {},
     "output_type": "execute_result"
    }
   ],
   "source": [
    "df_recipes"
   ]
  },
  {
   "cell_type": "markdown",
   "id": "8685e80c",
   "metadata": {},
   "source": [
    "Namnen på recepten är varierande i hur väl de beskriver receptet och koncishet."
   ]
  },
  {
   "cell_type": "code",
   "execution_count": 382,
   "id": "91cc336c",
   "metadata": {},
   "outputs": [
    {
     "data": {
      "text/plain": [
       "minutes\n",
       "30    209\n",
       "20    195\n",
       "35    184\n",
       "25    181\n",
       "40    157\n",
       "10    154\n",
       "5     138\n",
       "45    135\n",
       "15    134\n",
       "50    128\n",
       "Name: count, dtype: int64"
      ]
     },
     "execution_count": 382,
     "metadata": {},
     "output_type": "execute_result"
    }
   ],
   "source": [
    "df_recipes['minutes'].value_counts().head(10)"
   ]
  },
  {
   "cell_type": "code",
   "execution_count": 383,
   "id": "9ecc780d",
   "metadata": {},
   "outputs": [
    {
     "data": {
      "application/vnd.plotly.v1+json": {
       "config": {
        "plotlyServerURL": "https://plot.ly"
       },
       "data": [
        {
         "bingroup": "x",
         "hovertemplate": "Time (minutes)=%{x}<br>count=%{y}<extra></extra>",
         "legendgroup": "",
         "marker": {
          "color": "#636efa",
          "pattern": {
           "shape": ""
          }
         },
         "name": "",
         "nbinsx": 80,
         "orientation": "v",
         "showlegend": false,
         "type": "histogram",
         "x": {
          "bdata": "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",
          "dtype": "i2"
         },
         "xaxis": "x",
         "yaxis": "y"
        }
       ],
       "layout": {
        "bargap": 0.1,
        "barmode": "relative",
        "legend": {
         "tracegroupgap": 0
        },
        "template": {
         "data": {
          "bar": [
           {
            "error_x": {
             "color": "#2a3f5f"
            },
            "error_y": {
             "color": "#2a3f5f"
            },
            "marker": {
             "line": {
              "color": "#E5ECF6",
              "width": 0.5
             },
             "pattern": {
              "fillmode": "overlay",
              "size": 10,
              "solidity": 0.2
             }
            },
            "type": "bar"
           }
          ],
          "barpolar": [
           {
            "marker": {
             "line": {
              "color": "#E5ECF6",
              "width": 0.5
             },
             "pattern": {
              "fillmode": "overlay",
              "size": 10,
              "solidity": 0.2
             }
            },
            "type": "barpolar"
           }
          ],
          "carpet": [
           {
            "aaxis": {
             "endlinecolor": "#2a3f5f",
             "gridcolor": "white",
             "linecolor": "white",
             "minorgridcolor": "white",
             "startlinecolor": "#2a3f5f"
            },
            "baxis": {
             "endlinecolor": "#2a3f5f",
             "gridcolor": "white",
             "linecolor": "white",
             "minorgridcolor": "white",
             "startlinecolor": "#2a3f5f"
            },
            "type": "carpet"
           }
          ],
          "choropleth": [
           {
            "colorbar": {
             "outlinewidth": 0,
             "ticks": ""
            },
            "type": "choropleth"
           }
          ],
          "contour": [
           {
            "colorbar": {
             "outlinewidth": 0,
             "ticks": ""
            },
            "colorscale": [
             [
              0,
              "#0d0887"
             ],
             [
              0.1111111111111111,
              "#46039f"
             ],
             [
              0.2222222222222222,
              "#7201a8"
             ],
             [
              0.3333333333333333,
              "#9c179e"
             ],
             [
              0.4444444444444444,
              "#bd3786"
             ],
             [
              0.5555555555555556,
              "#d8576b"
             ],
             [
              0.6666666666666666,
              "#ed7953"
             ],
             [
              0.7777777777777778,
              "#fb9f3a"
             ],
             [
              0.8888888888888888,
              "#fdca26"
             ],
             [
              1,
              "#f0f921"
             ]
            ],
            "type": "contour"
           }
          ],
          "contourcarpet": [
           {
            "colorbar": {
             "outlinewidth": 0,
             "ticks": ""
            },
            "type": "contourcarpet"
           }
          ],
          "heatmap": [
           {
            "colorbar": {
             "outlinewidth": 0,
             "ticks": ""
            },
            "colorscale": [
             [
              0,
              "#0d0887"
             ],
             [
              0.1111111111111111,
              "#46039f"
             ],
             [
              0.2222222222222222,
              "#7201a8"
             ],
             [
              0.3333333333333333,
              "#9c179e"
             ],
             [
              0.4444444444444444,
              "#bd3786"
             ],
             [
              0.5555555555555556,
              "#d8576b"
             ],
             [
              0.6666666666666666,
              "#ed7953"
             ],
             [
              0.7777777777777778,
              "#fb9f3a"
             ],
             [
              0.8888888888888888,
              "#fdca26"
             ],
             [
              1,
              "#f0f921"
             ]
            ],
            "type": "heatmap"
           }
          ],
          "histogram": [
           {
            "marker": {
             "pattern": {
              "fillmode": "overlay",
              "size": 10,
              "solidity": 0.2
             }
            },
            "type": "histogram"
           }
          ],
          "histogram2d": [
           {
            "colorbar": {
             "outlinewidth": 0,
             "ticks": ""
            },
            "colorscale": [
             [
              0,
              "#0d0887"
             ],
             [
              0.1111111111111111,
              "#46039f"
             ],
             [
              0.2222222222222222,
              "#7201a8"
             ],
             [
              0.3333333333333333,
              "#9c179e"
             ],
             [
              0.4444444444444444,
              "#bd3786"
             ],
             [
              0.5555555555555556,
              "#d8576b"
             ],
             [
              0.6666666666666666,
              "#ed7953"
             ],
             [
              0.7777777777777778,
              "#fb9f3a"
             ],
             [
              0.8888888888888888,
              "#fdca26"
             ],
             [
              1,
              "#f0f921"
             ]
            ],
            "type": "histogram2d"
           }
          ],
          "histogram2dcontour": [
           {
            "colorbar": {
             "outlinewidth": 0,
             "ticks": ""
            },
            "colorscale": [
             [
              0,
              "#0d0887"
             ],
             [
              0.1111111111111111,
              "#46039f"
             ],
             [
              0.2222222222222222,
              "#7201a8"
             ],
             [
              0.3333333333333333,
              "#9c179e"
             ],
             [
              0.4444444444444444,
              "#bd3786"
             ],
             [
              0.5555555555555556,
              "#d8576b"
             ],
             [
              0.6666666666666666,
              "#ed7953"
             ],
             [
              0.7777777777777778,
              "#fb9f3a"
             ],
             [
              0.8888888888888888,
              "#fdca26"
             ],
             [
              1,
              "#f0f921"
             ]
            ],
            "type": "histogram2dcontour"
           }
          ],
          "mesh3d": [
           {
            "colorbar": {
             "outlinewidth": 0,
             "ticks": ""
            },
            "type": "mesh3d"
           }
          ],
          "parcoords": [
           {
            "line": {
             "colorbar": {
              "outlinewidth": 0,
              "ticks": ""
             }
            },
            "type": "parcoords"
           }
          ],
          "pie": [
           {
            "automargin": true,
            "type": "pie"
           }
          ],
          "scatter": [
           {
            "fillpattern": {
             "fillmode": "overlay",
             "size": 10,
             "solidity": 0.2
            },
            "type": "scatter"
           }
          ],
          "scatter3d": [
           {
            "line": {
             "colorbar": {
              "outlinewidth": 0,
              "ticks": ""
             }
            },
            "marker": {
             "colorbar": {
              "outlinewidth": 0,
              "ticks": ""
             }
            },
            "type": "scatter3d"
           }
          ],
          "scattercarpet": [
           {
            "marker": {
             "colorbar": {
              "outlinewidth": 0,
              "ticks": ""
             }
            },
            "type": "scattercarpet"
           }
          ],
          "scattergeo": [
           {
            "marker": {
             "colorbar": {
              "outlinewidth": 0,
              "ticks": ""
             }
            },
            "type": "scattergeo"
           }
          ],
          "scattergl": [
           {
            "marker": {
             "colorbar": {
              "outlinewidth": 0,
              "ticks": ""
             }
            },
            "type": "scattergl"
           }
          ],
          "scattermap": [
           {
            "marker": {
             "colorbar": {
              "outlinewidth": 0,
              "ticks": ""
             }
            },
            "type": "scattermap"
           }
          ],
          "scattermapbox": [
           {
            "marker": {
             "colorbar": {
              "outlinewidth": 0,
              "ticks": ""
             }
            },
            "type": "scattermapbox"
           }
          ],
          "scatterpolar": [
           {
            "marker": {
             "colorbar": {
              "outlinewidth": 0,
              "ticks": ""
             }
            },
            "type": "scatterpolar"
           }
          ],
          "scatterpolargl": [
           {
            "marker": {
             "colorbar": {
              "outlinewidth": 0,
              "ticks": ""
             }
            },
            "type": "scatterpolargl"
           }
          ],
          "scatterternary": [
           {
            "marker": {
             "colorbar": {
              "outlinewidth": 0,
              "ticks": ""
             }
            },
            "type": "scatterternary"
           }
          ],
          "surface": [
           {
            "colorbar": {
             "outlinewidth": 0,
             "ticks": ""
            },
            "colorscale": [
             [
              0,
              "#0d0887"
             ],
             [
              0.1111111111111111,
              "#46039f"
             ],
             [
              0.2222222222222222,
              "#7201a8"
             ],
             [
              0.3333333333333333,
              "#9c179e"
             ],
             [
              0.4444444444444444,
              "#bd3786"
             ],
             [
              0.5555555555555556,
              "#d8576b"
             ],
             [
              0.6666666666666666,
              "#ed7953"
             ],
             [
              0.7777777777777778,
              "#fb9f3a"
             ],
             [
              0.8888888888888888,
              "#fdca26"
             ],
             [
              1,
              "#f0f921"
             ]
            ],
            "type": "surface"
           }
          ],
          "table": [
           {
            "cells": {
             "fill": {
              "color": "#EBF0F8"
             },
             "line": {
              "color": "white"
             }
            },
            "header": {
             "fill": {
              "color": "#C8D4E3"
             },
             "line": {
              "color": "white"
             }
            },
            "type": "table"
           }
          ]
         },
         "layout": {
          "annotationdefaults": {
           "arrowcolor": "#2a3f5f",
           "arrowhead": 0,
           "arrowwidth": 1
          },
          "autotypenumbers": "strict",
          "coloraxis": {
           "colorbar": {
            "outlinewidth": 0,
            "ticks": ""
           }
          },
          "colorscale": {
           "diverging": [
            [
             0,
             "#8e0152"
            ],
            [
             0.1,
             "#c51b7d"
            ],
            [
             0.2,
             "#de77ae"
            ],
            [
             0.3,
             "#f1b6da"
            ],
            [
             0.4,
             "#fde0ef"
            ],
            [
             0.5,
             "#f7f7f7"
            ],
            [
             0.6,
             "#e6f5d0"
            ],
            [
             0.7,
             "#b8e186"
            ],
            [
             0.8,
             "#7fbc41"
            ],
            [
             0.9,
             "#4d9221"
            ],
            [
             1,
             "#276419"
            ]
           ],
           "sequential": [
            [
             0,
             "#0d0887"
            ],
            [
             0.1111111111111111,
             "#46039f"
            ],
            [
             0.2222222222222222,
             "#7201a8"
            ],
            [
             0.3333333333333333,
             "#9c179e"
            ],
            [
             0.4444444444444444,
             "#bd3786"
            ],
            [
             0.5555555555555556,
             "#d8576b"
            ],
            [
             0.6666666666666666,
             "#ed7953"
            ],
            [
             0.7777777777777778,
             "#fb9f3a"
            ],
            [
             0.8888888888888888,
             "#fdca26"
            ],
            [
             1,
             "#f0f921"
            ]
           ],
           "sequentialminus": [
            [
             0,
             "#0d0887"
            ],
            [
             0.1111111111111111,
             "#46039f"
            ],
            [
             0.2222222222222222,
             "#7201a8"
            ],
            [
             0.3333333333333333,
             "#9c179e"
            ],
            [
             0.4444444444444444,
             "#bd3786"
            ],
            [
             0.5555555555555556,
             "#d8576b"
            ],
            [
             0.6666666666666666,
             "#ed7953"
            ],
            [
             0.7777777777777778,
             "#fb9f3a"
            ],
            [
             0.8888888888888888,
             "#fdca26"
            ],
            [
             1,
             "#f0f921"
            ]
           ]
          },
          "colorway": [
           "#636efa",
           "#EF553B",
           "#00cc96",
           "#ab63fa",
           "#FFA15A",
           "#19d3f3",
           "#FF6692",
           "#B6E880",
           "#FF97FF",
           "#FECB52"
          ],
          "font": {
           "color": "#2a3f5f"
          },
          "geo": {
           "bgcolor": "white",
           "lakecolor": "white",
           "landcolor": "#E5ECF6",
           "showlakes": true,
           "showland": true,
           "subunitcolor": "white"
          },
          "hoverlabel": {
           "align": "left"
          },
          "hovermode": "closest",
          "mapbox": {
           "style": "light"
          },
          "paper_bgcolor": "white",
          "plot_bgcolor": "#E5ECF6",
          "polar": {
           "angularaxis": {
            "gridcolor": "white",
            "linecolor": "white",
            "ticks": ""
           },
           "bgcolor": "#E5ECF6",
           "radialaxis": {
            "gridcolor": "white",
            "linecolor": "white",
            "ticks": ""
           }
          },
          "scene": {
           "xaxis": {
            "backgroundcolor": "#E5ECF6",
            "gridcolor": "white",
            "gridwidth": 2,
            "linecolor": "white",
            "showbackground": true,
            "ticks": "",
            "zerolinecolor": "white"
           },
           "yaxis": {
            "backgroundcolor": "#E5ECF6",
            "gridcolor": "white",
            "gridwidth": 2,
            "linecolor": "white",
            "showbackground": true,
            "ticks": "",
            "zerolinecolor": "white"
           },
           "zaxis": {
            "backgroundcolor": "#E5ECF6",
            "gridcolor": "white",
            "gridwidth": 2,
            "linecolor": "white",
            "showbackground": true,
            "ticks": "",
            "zerolinecolor": "white"
           }
          },
          "shapedefaults": {
           "line": {
            "color": "#2a3f5f"
           }
          },
          "ternary": {
           "aaxis": {
            "gridcolor": "white",
            "linecolor": "white",
            "ticks": ""
           },
           "baxis": {
            "gridcolor": "white",
            "linecolor": "white",
            "ticks": ""
           },
           "bgcolor": "#E5ECF6",
           "caxis": {
            "gridcolor": "white",
            "linecolor": "white",
            "ticks": ""
           }
          },
          "title": {
           "x": 0.05
          },
          "xaxis": {
           "automargin": true,
           "gridcolor": "white",
           "linecolor": "white",
           "ticks": "",
           "title": {
            "standoff": 15
           },
           "zerolinecolor": "white",
           "zerolinewidth": 2
          },
          "yaxis": {
           "automargin": true,
           "gridcolor": "white",
           "linecolor": "white",
           "ticks": "",
           "title": {
            "standoff": 15
           },
           "zerolinecolor": "white",
           "zerolinewidth": 2
          }
         }
        },
        "title": {
         "text": "Distribution of time to make"
        },
        "xaxis": {
         "anchor": "y",
         "domain": [
          0,
          1
         ],
         "title": {
          "text": "Time (minutes)"
         }
        },
        "yaxis": {
         "anchor": "x",
         "domain": [
          0,
          1
         ],
         "title": {
          "text": "count"
         }
        }
       }
      }
     },
     "metadata": {},
     "output_type": "display_data"
    }
   ],
   "source": [
    "fig = px.histogram(df_recipes, x='minutes', nbins=80,\n",
    "                   title='Distribution of time to make',\n",
    "                   labels={'minutes': 'Time (minutes)'})\n",
    "fig.update_layout(bargap=0.1)\n",
    "fig.show()"
   ]
  },
  {
   "cell_type": "markdown",
   "id": "834579b7",
   "metadata": {},
   "source": [
    "[plot](plots/dist_tt.png)"
   ]
  },
  {
   "cell_type": "markdown",
   "id": "314dd10c",
   "metadata": {},
   "source": [
    "< 100 minuters recept är vanligast. Majoriteten av recept är runt 20-40min, med fåtal recept som tar länge. Här ska man också komma ihåg att olika personer kan defineiera lagningstid på olika vis."
   ]
  },
  {
   "cell_type": "code",
   "execution_count": 384,
   "id": "a3954319",
   "metadata": {},
   "outputs": [
    {
     "data": {
      "text/plain": [
       "n_steps\n",
       "7     321\n",
       "6     304\n",
       "8     275\n",
       "5     261\n",
       "9     221\n",
       "10    204\n",
       "4     195\n",
       "11    180\n",
       "3     169\n",
       "13    118\n",
       "Name: count, dtype: int64"
      ]
     },
     "execution_count": 384,
     "metadata": {},
     "output_type": "execute_result"
    }
   ],
   "source": [
    "df_recipes['n_steps'].value_counts().head(10)"
   ]
  },
  {
   "cell_type": "code",
   "execution_count": 385,
   "id": "7b384b9a",
   "metadata": {},
   "outputs": [
    {
     "data": {
      "application/vnd.plotly.v1+json": {
       "config": {
        "plotlyServerURL": "https://plot.ly"
       },
       "data": [
        {
         "bingroup": "x",
         "hovertemplate": "steps=%{x}<br>count=%{y}<extra></extra>",
         "legendgroup": "",
         "marker": {
          "color": "#636efa",
          "pattern": {
           "shape": ""
          }
         },
         "name": "",
         "nbinsx": 40,
         "orientation": "v",
         "showlegend": false,
         "type": "histogram",
         "x": {
          "bdata": "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",
          "dtype": "i1"
         },
         "xaxis": "x",
         "yaxis": "y"
        }
       ],
       "layout": {
        "bargap": 0.1,
        "barmode": "relative",
        "legend": {
         "tracegroupgap": 0
        },
        "template": {
         "data": {
          "bar": [
           {
            "error_x": {
             "color": "#2a3f5f"
            },
            "error_y": {
             "color": "#2a3f5f"
            },
            "marker": {
             "line": {
              "color": "#E5ECF6",
              "width": 0.5
             },
             "pattern": {
              "fillmode": "overlay",
              "size": 10,
              "solidity": 0.2
             }
            },
            "type": "bar"
           }
          ],
          "barpolar": [
           {
            "marker": {
             "line": {
              "color": "#E5ECF6",
              "width": 0.5
             },
             "pattern": {
              "fillmode": "overlay",
              "size": 10,
              "solidity": 0.2
             }
            },
            "type": "barpolar"
           }
          ],
          "carpet": [
           {
            "aaxis": {
             "endlinecolor": "#2a3f5f",
             "gridcolor": "white",
             "linecolor": "white",
             "minorgridcolor": "white",
             "startlinecolor": "#2a3f5f"
            },
            "baxis": {
             "endlinecolor": "#2a3f5f",
             "gridcolor": "white",
             "linecolor": "white",
             "minorgridcolor": "white",
             "startlinecolor": "#2a3f5f"
            },
            "type": "carpet"
           }
          ],
          "choropleth": [
           {
            "colorbar": {
             "outlinewidth": 0,
             "ticks": ""
            },
            "type": "choropleth"
           }
          ],
          "contour": [
           {
            "colorbar": {
             "outlinewidth": 0,
             "ticks": ""
            },
            "colorscale": [
             [
              0,
              "#0d0887"
             ],
             [
              0.1111111111111111,
              "#46039f"
             ],
             [
              0.2222222222222222,
              "#7201a8"
             ],
             [
              0.3333333333333333,
              "#9c179e"
             ],
             [
              0.4444444444444444,
              "#bd3786"
             ],
             [
              0.5555555555555556,
              "#d8576b"
             ],
             [
              0.6666666666666666,
              "#ed7953"
             ],
             [
              0.7777777777777778,
              "#fb9f3a"
             ],
             [
              0.8888888888888888,
              "#fdca26"
             ],
             [
              1,
              "#f0f921"
             ]
            ],
            "type": "contour"
           }
          ],
          "contourcarpet": [
           {
            "colorbar": {
             "outlinewidth": 0,
             "ticks": ""
            },
            "type": "contourcarpet"
           }
          ],
          "heatmap": [
           {
            "colorbar": {
             "outlinewidth": 0,
             "ticks": ""
            },
            "colorscale": [
             [
              0,
              "#0d0887"
             ],
             [
              0.1111111111111111,
              "#46039f"
             ],
             [
              0.2222222222222222,
              "#7201a8"
             ],
             [
              0.3333333333333333,
              "#9c179e"
             ],
             [
              0.4444444444444444,
              "#bd3786"
             ],
             [
              0.5555555555555556,
              "#d8576b"
             ],
             [
              0.6666666666666666,
              "#ed7953"
             ],
             [
              0.7777777777777778,
              "#fb9f3a"
             ],
             [
              0.8888888888888888,
              "#fdca26"
             ],
             [
              1,
              "#f0f921"
             ]
            ],
            "type": "heatmap"
           }
          ],
          "histogram": [
           {
            "marker": {
             "pattern": {
              "fillmode": "overlay",
              "size": 10,
              "solidity": 0.2
             }
            },
            "type": "histogram"
           }
          ],
          "histogram2d": [
           {
            "colorbar": {
             "outlinewidth": 0,
             "ticks": ""
            },
            "colorscale": [
             [
              0,
              "#0d0887"
             ],
             [
              0.1111111111111111,
              "#46039f"
             ],
             [
              0.2222222222222222,
              "#7201a8"
             ],
             [
              0.3333333333333333,
              "#9c179e"
             ],
             [
              0.4444444444444444,
              "#bd3786"
             ],
             [
              0.5555555555555556,
              "#d8576b"
             ],
             [
              0.6666666666666666,
              "#ed7953"
             ],
             [
              0.7777777777777778,
              "#fb9f3a"
             ],
             [
              0.8888888888888888,
              "#fdca26"
             ],
             [
              1,
              "#f0f921"
             ]
            ],
            "type": "histogram2d"
           }
          ],
          "histogram2dcontour": [
           {
            "colorbar": {
             "outlinewidth": 0,
             "ticks": ""
            },
            "colorscale": [
             [
              0,
              "#0d0887"
             ],
             [
              0.1111111111111111,
              "#46039f"
             ],
             [
              0.2222222222222222,
              "#7201a8"
             ],
             [
              0.3333333333333333,
              "#9c179e"
             ],
             [
              0.4444444444444444,
              "#bd3786"
             ],
             [
              0.5555555555555556,
              "#d8576b"
             ],
             [
              0.6666666666666666,
              "#ed7953"
             ],
             [
              0.7777777777777778,
              "#fb9f3a"
             ],
             [
              0.8888888888888888,
              "#fdca26"
             ],
             [
              1,
              "#f0f921"
             ]
            ],
            "type": "histogram2dcontour"
           }
          ],
          "mesh3d": [
           {
            "colorbar": {
             "outlinewidth": 0,
             "ticks": ""
            },
            "type": "mesh3d"
           }
          ],
          "parcoords": [
           {
            "line": {
             "colorbar": {
              "outlinewidth": 0,
              "ticks": ""
             }
            },
            "type": "parcoords"
           }
          ],
          "pie": [
           {
            "automargin": true,
            "type": "pie"
           }
          ],
          "scatter": [
           {
            "fillpattern": {
             "fillmode": "overlay",
             "size": 10,
             "solidity": 0.2
            },
            "type": "scatter"
           }
          ],
          "scatter3d": [
           {
            "line": {
             "colorbar": {
              "outlinewidth": 0,
              "ticks": ""
             }
            },
            "marker": {
             "colorbar": {
              "outlinewidth": 0,
              "ticks": ""
             }
            },
            "type": "scatter3d"
           }
          ],
          "scattercarpet": [
           {
            "marker": {
             "colorbar": {
              "outlinewidth": 0,
              "ticks": ""
             }
            },
            "type": "scattercarpet"
           }
          ],
          "scattergeo": [
           {
            "marker": {
             "colorbar": {
              "outlinewidth": 0,
              "ticks": ""
             }
            },
            "type": "scattergeo"
           }
          ],
          "scattergl": [
           {
            "marker": {
             "colorbar": {
              "outlinewidth": 0,
              "ticks": ""
             }
            },
            "type": "scattergl"
           }
          ],
          "scattermap": [
           {
            "marker": {
             "colorbar": {
              "outlinewidth": 0,
              "ticks": ""
             }
            },
            "type": "scattermap"
           }
          ],
          "scattermapbox": [
           {
            "marker": {
             "colorbar": {
              "outlinewidth": 0,
              "ticks": ""
             }
            },
            "type": "scattermapbox"
           }
          ],
          "scatterpolar": [
           {
            "marker": {
             "colorbar": {
              "outlinewidth": 0,
              "ticks": ""
             }
            },
            "type": "scatterpolar"
           }
          ],
          "scatterpolargl": [
           {
            "marker": {
             "colorbar": {
              "outlinewidth": 0,
              "ticks": ""
             }
            },
            "type": "scatterpolargl"
           }
          ],
          "scatterternary": [
           {
            "marker": {
             "colorbar": {
              "outlinewidth": 0,
              "ticks": ""
             }
            },
            "type": "scatterternary"
           }
          ],
          "surface": [
           {
            "colorbar": {
             "outlinewidth": 0,
             "ticks": ""
            },
            "colorscale": [
             [
              0,
              "#0d0887"
             ],
             [
              0.1111111111111111,
              "#46039f"
             ],
             [
              0.2222222222222222,
              "#7201a8"
             ],
             [
              0.3333333333333333,
              "#9c179e"
             ],
             [
              0.4444444444444444,
              "#bd3786"
             ],
             [
              0.5555555555555556,
              "#d8576b"
             ],
             [
              0.6666666666666666,
              "#ed7953"
             ],
             [
              0.7777777777777778,
              "#fb9f3a"
             ],
             [
              0.8888888888888888,
              "#fdca26"
             ],
             [
              1,
              "#f0f921"
             ]
            ],
            "type": "surface"
           }
          ],
          "table": [
           {
            "cells": {
             "fill": {
              "color": "#EBF0F8"
             },
             "line": {
              "color": "white"
             }
            },
            "header": {
             "fill": {
              "color": "#C8D4E3"
             },
             "line": {
              "color": "white"
             }
            },
            "type": "table"
           }
          ]
         },
         "layout": {
          "annotationdefaults": {
           "arrowcolor": "#2a3f5f",
           "arrowhead": 0,
           "arrowwidth": 1
          },
          "autotypenumbers": "strict",
          "coloraxis": {
           "colorbar": {
            "outlinewidth": 0,
            "ticks": ""
           }
          },
          "colorscale": {
           "diverging": [
            [
             0,
             "#8e0152"
            ],
            [
             0.1,
             "#c51b7d"
            ],
            [
             0.2,
             "#de77ae"
            ],
            [
             0.3,
             "#f1b6da"
            ],
            [
             0.4,
             "#fde0ef"
            ],
            [
             0.5,
             "#f7f7f7"
            ],
            [
             0.6,
             "#e6f5d0"
            ],
            [
             0.7,
             "#b8e186"
            ],
            [
             0.8,
             "#7fbc41"
            ],
            [
             0.9,
             "#4d9221"
            ],
            [
             1,
             "#276419"
            ]
           ],
           "sequential": [
            [
             0,
             "#0d0887"
            ],
            [
             0.1111111111111111,
             "#46039f"
            ],
            [
             0.2222222222222222,
             "#7201a8"
            ],
            [
             0.3333333333333333,
             "#9c179e"
            ],
            [
             0.4444444444444444,
             "#bd3786"
            ],
            [
             0.5555555555555556,
             "#d8576b"
            ],
            [
             0.6666666666666666,
             "#ed7953"
            ],
            [
             0.7777777777777778,
             "#fb9f3a"
            ],
            [
             0.8888888888888888,
             "#fdca26"
            ],
            [
             1,
             "#f0f921"
            ]
           ],
           "sequentialminus": [
            [
             0,
             "#0d0887"
            ],
            [
             0.1111111111111111,
             "#46039f"
            ],
            [
             0.2222222222222222,
             "#7201a8"
            ],
            [
             0.3333333333333333,
             "#9c179e"
            ],
            [
             0.4444444444444444,
             "#bd3786"
            ],
            [
             0.5555555555555556,
             "#d8576b"
            ],
            [
             0.6666666666666666,
             "#ed7953"
            ],
            [
             0.7777777777777778,
             "#fb9f3a"
            ],
            [
             0.8888888888888888,
             "#fdca26"
            ],
            [
             1,
             "#f0f921"
            ]
           ]
          },
          "colorway": [
           "#636efa",
           "#EF553B",
           "#00cc96",
           "#ab63fa",
           "#FFA15A",
           "#19d3f3",
           "#FF6692",
           "#B6E880",
           "#FF97FF",
           "#FECB52"
          ],
          "font": {
           "color": "#2a3f5f"
          },
          "geo": {
           "bgcolor": "white",
           "lakecolor": "white",
           "landcolor": "#E5ECF6",
           "showlakes": true,
           "showland": true,
           "subunitcolor": "white"
          },
          "hoverlabel": {
           "align": "left"
          },
          "hovermode": "closest",
          "mapbox": {
           "style": "light"
          },
          "paper_bgcolor": "white",
          "plot_bgcolor": "#E5ECF6",
          "polar": {
           "angularaxis": {
            "gridcolor": "white",
            "linecolor": "white",
            "ticks": ""
           },
           "bgcolor": "#E5ECF6",
           "radialaxis": {
            "gridcolor": "white",
            "linecolor": "white",
            "ticks": ""
           }
          },
          "scene": {
           "xaxis": {
            "backgroundcolor": "#E5ECF6",
            "gridcolor": "white",
            "gridwidth": 2,
            "linecolor": "white",
            "showbackground": true,
            "ticks": "",
            "zerolinecolor": "white"
           },
           "yaxis": {
            "backgroundcolor": "#E5ECF6",
            "gridcolor": "white",
            "gridwidth": 2,
            "linecolor": "white",
            "showbackground": true,
            "ticks": "",
            "zerolinecolor": "white"
           },
           "zaxis": {
            "backgroundcolor": "#E5ECF6",
            "gridcolor": "white",
            "gridwidth": 2,
            "linecolor": "white",
            "showbackground": true,
            "ticks": "",
            "zerolinecolor": "white"
           }
          },
          "shapedefaults": {
           "line": {
            "color": "#2a3f5f"
           }
          },
          "ternary": {
           "aaxis": {
            "gridcolor": "white",
            "linecolor": "white",
            "ticks": ""
           },
           "baxis": {
            "gridcolor": "white",
            "linecolor": "white",
            "ticks": ""
           },
           "bgcolor": "#E5ECF6",
           "caxis": {
            "gridcolor": "white",
            "linecolor": "white",
            "ticks": ""
           }
          },
          "title": {
           "x": 0.05
          },
          "xaxis": {
           "automargin": true,
           "gridcolor": "white",
           "linecolor": "white",
           "ticks": "",
           "title": {
            "standoff": 15
           },
           "zerolinecolor": "white",
           "zerolinewidth": 2
          },
          "yaxis": {
           "automargin": true,
           "gridcolor": "white",
           "linecolor": "white",
           "ticks": "",
           "title": {
            "standoff": 15
           },
           "zerolinecolor": "white",
           "zerolinewidth": 2
          }
         }
        },
        "title": {
         "text": "Distribution of step count"
        },
        "xaxis": {
         "anchor": "y",
         "domain": [
          0,
          1
         ],
         "title": {
          "text": "steps"
         }
        },
        "yaxis": {
         "anchor": "x",
         "domain": [
          0,
          1
         ],
         "title": {
          "text": "count"
         }
        }
       }
      }
     },
     "metadata": {},
     "output_type": "display_data"
    }
   ],
   "source": [
    "fig = px.histogram(df_recipes, x='n_steps', nbins=40,\n",
    "                   title='Distribution of step count',\n",
    "                   labels={'n_steps': 'steps'})\n",
    "fig.update_layout(bargap=0.1)\n",
    "fig.show()"
   ]
  },
  {
   "cell_type": "markdown",
   "id": "1a6bd9a9",
   "metadata": {},
   "source": [
    "[plot](plots/dist_sc.png)"
   ]
  },
  {
   "cell_type": "markdown",
   "id": "19c7c645",
   "metadata": {},
   "source": [
    "Recept med 6-8 steg är vanligast. Datan lutar mot recept med färre steg"
   ]
  },
  {
   "cell_type": "code",
   "execution_count": 386,
   "id": "99d65294",
   "metadata": {},
   "outputs": [
    {
     "data": {
      "text/plain": [
       "n_ingredients\n",
       "7     341\n",
       "6     327\n",
       "8     322\n",
       "9     319\n",
       "10    278\n",
       "5     259\n",
       "11    226\n",
       "4     175\n",
       "12    141\n",
       "3     118\n",
       "Name: count, dtype: int64"
      ]
     },
     "execution_count": 386,
     "metadata": {},
     "output_type": "execute_result"
    }
   ],
   "source": [
    "df_recipes['n_ingredients'].value_counts().head(10)"
   ]
  },
  {
   "cell_type": "code",
   "execution_count": 387,
   "id": "cdf75612",
   "metadata": {},
   "outputs": [
    {
     "data": {
      "application/vnd.plotly.v1+json": {
       "config": {
        "plotlyServerURL": "https://plot.ly"
       },
       "data": [
        {
         "bingroup": "x",
         "hovertemplate": "ingredients=%{x}<br>count=%{y}<extra></extra>",
         "legendgroup": "",
         "marker": {
          "color": "#636efa",
          "pattern": {
           "shape": ""
          }
         },
         "name": "",
         "nbinsx": 20,
         "orientation": "v",
         "showlegend": false,
         "type": "histogram",
         "x": {
          "bdata": "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",
          "dtype": "i1"
         },
         "xaxis": "x",
         "yaxis": "y"
        }
       ],
       "layout": {
        "bargap": 0.1,
        "barmode": "relative",
        "legend": {
         "tracegroupgap": 0
        },
        "template": {
         "data": {
          "bar": [
           {
            "error_x": {
             "color": "#2a3f5f"
            },
            "error_y": {
             "color": "#2a3f5f"
            },
            "marker": {
             "line": {
              "color": "#E5ECF6",
              "width": 0.5
             },
             "pattern": {
              "fillmode": "overlay",
              "size": 10,
              "solidity": 0.2
             }
            },
            "type": "bar"
           }
          ],
          "barpolar": [
           {
            "marker": {
             "line": {
              "color": "#E5ECF6",
              "width": 0.5
             },
             "pattern": {
              "fillmode": "overlay",
              "size": 10,
              "solidity": 0.2
             }
            },
            "type": "barpolar"
           }
          ],
          "carpet": [
           {
            "aaxis": {
             "endlinecolor": "#2a3f5f",
             "gridcolor": "white",
             "linecolor": "white",
             "minorgridcolor": "white",
             "startlinecolor": "#2a3f5f"
            },
            "baxis": {
             "endlinecolor": "#2a3f5f",
             "gridcolor": "white",
             "linecolor": "white",
             "minorgridcolor": "white",
             "startlinecolor": "#2a3f5f"
            },
            "type": "carpet"
           }
          ],
          "choropleth": [
           {
            "colorbar": {
             "outlinewidth": 0,
             "ticks": ""
            },
            "type": "choropleth"
           }
          ],
          "contour": [
           {
            "colorbar": {
             "outlinewidth": 0,
             "ticks": ""
            },
            "colorscale": [
             [
              0,
              "#0d0887"
             ],
             [
              0.1111111111111111,
              "#46039f"
             ],
             [
              0.2222222222222222,
              "#7201a8"
             ],
             [
              0.3333333333333333,
              "#9c179e"
             ],
             [
              0.4444444444444444,
              "#bd3786"
             ],
             [
              0.5555555555555556,
              "#d8576b"
             ],
             [
              0.6666666666666666,
              "#ed7953"
             ],
             [
              0.7777777777777778,
              "#fb9f3a"
             ],
             [
              0.8888888888888888,
              "#fdca26"
             ],
             [
              1,
              "#f0f921"
             ]
            ],
            "type": "contour"
           }
          ],
          "contourcarpet": [
           {
            "colorbar": {
             "outlinewidth": 0,
             "ticks": ""
            },
            "type": "contourcarpet"
           }
          ],
          "heatmap": [
           {
            "colorbar": {
             "outlinewidth": 0,
             "ticks": ""
            },
            "colorscale": [
             [
              0,
              "#0d0887"
             ],
             [
              0.1111111111111111,
              "#46039f"
             ],
             [
              0.2222222222222222,
              "#7201a8"
             ],
             [
              0.3333333333333333,
              "#9c179e"
             ],
             [
              0.4444444444444444,
              "#bd3786"
             ],
             [
              0.5555555555555556,
              "#d8576b"
             ],
             [
              0.6666666666666666,
              "#ed7953"
             ],
             [
              0.7777777777777778,
              "#fb9f3a"
             ],
             [
              0.8888888888888888,
              "#fdca26"
             ],
             [
              1,
              "#f0f921"
             ]
            ],
            "type": "heatmap"
           }
          ],
          "histogram": [
           {
            "marker": {
             "pattern": {
              "fillmode": "overlay",
              "size": 10,
              "solidity": 0.2
             }
            },
            "type": "histogram"
           }
          ],
          "histogram2d": [
           {
            "colorbar": {
             "outlinewidth": 0,
             "ticks": ""
            },
            "colorscale": [
             [
              0,
              "#0d0887"
             ],
             [
              0.1111111111111111,
              "#46039f"
             ],
             [
              0.2222222222222222,
              "#7201a8"
             ],
             [
              0.3333333333333333,
              "#9c179e"
             ],
             [
              0.4444444444444444,
              "#bd3786"
             ],
             [
              0.5555555555555556,
              "#d8576b"
             ],
             [
              0.6666666666666666,
              "#ed7953"
             ],
             [
              0.7777777777777778,
              "#fb9f3a"
             ],
             [
              0.8888888888888888,
              "#fdca26"
             ],
             [
              1,
              "#f0f921"
             ]
            ],
            "type": "histogram2d"
           }
          ],
          "histogram2dcontour": [
           {
            "colorbar": {
             "outlinewidth": 0,
             "ticks": ""
            },
            "colorscale": [
             [
              0,
              "#0d0887"
             ],
             [
              0.1111111111111111,
              "#46039f"
             ],
             [
              0.2222222222222222,
              "#7201a8"
             ],
             [
              0.3333333333333333,
              "#9c179e"
             ],
             [
              0.4444444444444444,
              "#bd3786"
             ],
             [
              0.5555555555555556,
              "#d8576b"
             ],
             [
              0.6666666666666666,
              "#ed7953"
             ],
             [
              0.7777777777777778,
              "#fb9f3a"
             ],
             [
              0.8888888888888888,
              "#fdca26"
             ],
             [
              1,
              "#f0f921"
             ]
            ],
            "type": "histogram2dcontour"
           }
          ],
          "mesh3d": [
           {
            "colorbar": {
             "outlinewidth": 0,
             "ticks": ""
            },
            "type": "mesh3d"
           }
          ],
          "parcoords": [
           {
            "line": {
             "colorbar": {
              "outlinewidth": 0,
              "ticks": ""
             }
            },
            "type": "parcoords"
           }
          ],
          "pie": [
           {
            "automargin": true,
            "type": "pie"
           }
          ],
          "scatter": [
           {
            "fillpattern": {
             "fillmode": "overlay",
             "size": 10,
             "solidity": 0.2
            },
            "type": "scatter"
           }
          ],
          "scatter3d": [
           {
            "line": {
             "colorbar": {
              "outlinewidth": 0,
              "ticks": ""
             }
            },
            "marker": {
             "colorbar": {
              "outlinewidth": 0,
              "ticks": ""
             }
            },
            "type": "scatter3d"
           }
          ],
          "scattercarpet": [
           {
            "marker": {
             "colorbar": {
              "outlinewidth": 0,
              "ticks": ""
             }
            },
            "type": "scattercarpet"
           }
          ],
          "scattergeo": [
           {
            "marker": {
             "colorbar": {
              "outlinewidth": 0,
              "ticks": ""
             }
            },
            "type": "scattergeo"
           }
          ],
          "scattergl": [
           {
            "marker": {
             "colorbar": {
              "outlinewidth": 0,
              "ticks": ""
             }
            },
            "type": "scattergl"
           }
          ],
          "scattermap": [
           {
            "marker": {
             "colorbar": {
              "outlinewidth": 0,
              "ticks": ""
             }
            },
            "type": "scattermap"
           }
          ],
          "scattermapbox": [
           {
            "marker": {
             "colorbar": {
              "outlinewidth": 0,
              "ticks": ""
             }
            },
            "type": "scattermapbox"
           }
          ],
          "scatterpolar": [
           {
            "marker": {
             "colorbar": {
              "outlinewidth": 0,
              "ticks": ""
             }
            },
            "type": "scatterpolar"
           }
          ],
          "scatterpolargl": [
           {
            "marker": {
             "colorbar": {
              "outlinewidth": 0,
              "ticks": ""
             }
            },
            "type": "scatterpolargl"
           }
          ],
          "scatterternary": [
           {
            "marker": {
             "colorbar": {
              "outlinewidth": 0,
              "ticks": ""
             }
            },
            "type": "scatterternary"
           }
          ],
          "surface": [
           {
            "colorbar": {
             "outlinewidth": 0,
             "ticks": ""
            },
            "colorscale": [
             [
              0,
              "#0d0887"
             ],
             [
              0.1111111111111111,
              "#46039f"
             ],
             [
              0.2222222222222222,
              "#7201a8"
             ],
             [
              0.3333333333333333,
              "#9c179e"
             ],
             [
              0.4444444444444444,
              "#bd3786"
             ],
             [
              0.5555555555555556,
              "#d8576b"
             ],
             [
              0.6666666666666666,
              "#ed7953"
             ],
             [
              0.7777777777777778,
              "#fb9f3a"
             ],
             [
              0.8888888888888888,
              "#fdca26"
             ],
             [
              1,
              "#f0f921"
             ]
            ],
            "type": "surface"
           }
          ],
          "table": [
           {
            "cells": {
             "fill": {
              "color": "#EBF0F8"
             },
             "line": {
              "color": "white"
             }
            },
            "header": {
             "fill": {
              "color": "#C8D4E3"
             },
             "line": {
              "color": "white"
             }
            },
            "type": "table"
           }
          ]
         },
         "layout": {
          "annotationdefaults": {
           "arrowcolor": "#2a3f5f",
           "arrowhead": 0,
           "arrowwidth": 1
          },
          "autotypenumbers": "strict",
          "coloraxis": {
           "colorbar": {
            "outlinewidth": 0,
            "ticks": ""
           }
          },
          "colorscale": {
           "diverging": [
            [
             0,
             "#8e0152"
            ],
            [
             0.1,
             "#c51b7d"
            ],
            [
             0.2,
             "#de77ae"
            ],
            [
             0.3,
             "#f1b6da"
            ],
            [
             0.4,
             "#fde0ef"
            ],
            [
             0.5,
             "#f7f7f7"
            ],
            [
             0.6,
             "#e6f5d0"
            ],
            [
             0.7,
             "#b8e186"
            ],
            [
             0.8,
             "#7fbc41"
            ],
            [
             0.9,
             "#4d9221"
            ],
            [
             1,
             "#276419"
            ]
           ],
           "sequential": [
            [
             0,
             "#0d0887"
            ],
            [
             0.1111111111111111,
             "#46039f"
            ],
            [
             0.2222222222222222,
             "#7201a8"
            ],
            [
             0.3333333333333333,
             "#9c179e"
            ],
            [
             0.4444444444444444,
             "#bd3786"
            ],
            [
             0.5555555555555556,
             "#d8576b"
            ],
            [
             0.6666666666666666,
             "#ed7953"
            ],
            [
             0.7777777777777778,
             "#fb9f3a"
            ],
            [
             0.8888888888888888,
             "#fdca26"
            ],
            [
             1,
             "#f0f921"
            ]
           ],
           "sequentialminus": [
            [
             0,
             "#0d0887"
            ],
            [
             0.1111111111111111,
             "#46039f"
            ],
            [
             0.2222222222222222,
             "#7201a8"
            ],
            [
             0.3333333333333333,
             "#9c179e"
            ],
            [
             0.4444444444444444,
             "#bd3786"
            ],
            [
             0.5555555555555556,
             "#d8576b"
            ],
            [
             0.6666666666666666,
             "#ed7953"
            ],
            [
             0.7777777777777778,
             "#fb9f3a"
            ],
            [
             0.8888888888888888,
             "#fdca26"
            ],
            [
             1,
             "#f0f921"
            ]
           ]
          },
          "colorway": [
           "#636efa",
           "#EF553B",
           "#00cc96",
           "#ab63fa",
           "#FFA15A",
           "#19d3f3",
           "#FF6692",
           "#B6E880",
           "#FF97FF",
           "#FECB52"
          ],
          "font": {
           "color": "#2a3f5f"
          },
          "geo": {
           "bgcolor": "white",
           "lakecolor": "white",
           "landcolor": "#E5ECF6",
           "showlakes": true,
           "showland": true,
           "subunitcolor": "white"
          },
          "hoverlabel": {
           "align": "left"
          },
          "hovermode": "closest",
          "mapbox": {
           "style": "light"
          },
          "paper_bgcolor": "white",
          "plot_bgcolor": "#E5ECF6",
          "polar": {
           "angularaxis": {
            "gridcolor": "white",
            "linecolor": "white",
            "ticks": ""
           },
           "bgcolor": "#E5ECF6",
           "radialaxis": {
            "gridcolor": "white",
            "linecolor": "white",
            "ticks": ""
           }
          },
          "scene": {
           "xaxis": {
            "backgroundcolor": "#E5ECF6",
            "gridcolor": "white",
            "gridwidth": 2,
            "linecolor": "white",
            "showbackground": true,
            "ticks": "",
            "zerolinecolor": "white"
           },
           "yaxis": {
            "backgroundcolor": "#E5ECF6",
            "gridcolor": "white",
            "gridwidth": 2,
            "linecolor": "white",
            "showbackground": true,
            "ticks": "",
            "zerolinecolor": "white"
           },
           "zaxis": {
            "backgroundcolor": "#E5ECF6",
            "gridcolor": "white",
            "gridwidth": 2,
            "linecolor": "white",
            "showbackground": true,
            "ticks": "",
            "zerolinecolor": "white"
           }
          },
          "shapedefaults": {
           "line": {
            "color": "#2a3f5f"
           }
          },
          "ternary": {
           "aaxis": {
            "gridcolor": "white",
            "linecolor": "white",
            "ticks": ""
           },
           "baxis": {
            "gridcolor": "white",
            "linecolor": "white",
            "ticks": ""
           },
           "bgcolor": "#E5ECF6",
           "caxis": {
            "gridcolor": "white",
            "linecolor": "white",
            "ticks": ""
           }
          },
          "title": {
           "x": 0.05
          },
          "xaxis": {
           "automargin": true,
           "gridcolor": "white",
           "linecolor": "white",
           "ticks": "",
           "title": {
            "standoff": 15
           },
           "zerolinecolor": "white",
           "zerolinewidth": 2
          },
          "yaxis": {
           "automargin": true,
           "gridcolor": "white",
           "linecolor": "white",
           "ticks": "",
           "title": {
            "standoff": 15
           },
           "zerolinecolor": "white",
           "zerolinewidth": 2
          }
         }
        },
        "title": {
         "text": "Distribution of ingredient count"
        },
        "xaxis": {
         "anchor": "y",
         "domain": [
          0,
          1
         ],
         "title": {
          "text": "ingredients"
         }
        },
        "yaxis": {
         "anchor": "x",
         "domain": [
          0,
          1
         ],
         "title": {
          "text": "count"
         }
        }
       }
      }
     },
     "metadata": {},
     "output_type": "display_data"
    }
   ],
   "source": [
    "fig = px.histogram(df_recipes, x='n_ingredients', nbins=20,\n",
    "                   title='Distribution of ingredient count',\n",
    "                   labels={'n_ingredients': 'ingredients'})\n",
    "fig.update_layout(bargap=0.1)\n",
    "fig.show()"
   ]
  },
  {
   "cell_type": "markdown",
   "id": "89c78dbe",
   "metadata": {},
   "source": [
    "[plot](plots/dist_ic.png)"
   ]
  },
  {
   "cell_type": "markdown",
   "id": "8c215494",
   "metadata": {},
   "source": [
    "7 ingrediencer är vanligast, men 6 - 9 är väldigt jämnt, de flesta recept har färre ingrediencer och överlag är distributionen mindre än t.ex antal steg.\n",
    "\n",
    "Vill gissa att det mest populära receptet har 7 ingrediencer, 8 steg och tar max 30 minuter"
   ]
  },
  {
   "cell_type": "code",
   "execution_count": 414,
   "id": "69279005",
   "metadata": {},
   "outputs": [
    {
     "data": {
      "application/vnd.plotly.v1+json": {
       "config": {
        "plotlyServerURL": "https://plot.ly"
       },
       "data": [
        {
         "hovertemplate": "Number of ingredients=%{x}<br>Number of steps=%{y}<extra></extra>",
         "legendgroup": "",
         "marker": {
          "color": "#636efa",
          "opacity": 0.6,
          "symbol": "circle"
         },
         "mode": "markers",
         "name": "",
         "showlegend": false,
         "type": "scattergl",
         "x": {
          "bdata": "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",
          "dtype": "i1"
         },
         "xaxis": "x",
         "y": {
          "bdata": "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",
          "dtype": "i1"
         },
         "yaxis": "y"
        }
       ],
       "layout": {
        "legend": {
         "tracegroupgap": 0
        },
        "template": {
         "data": {
          "bar": [
           {
            "error_x": {
             "color": "#2a3f5f"
            },
            "error_y": {
             "color": "#2a3f5f"
            },
            "marker": {
             "line": {
              "color": "#E5ECF6",
              "width": 0.5
             },
             "pattern": {
              "fillmode": "overlay",
              "size": 10,
              "solidity": 0.2
             }
            },
            "type": "bar"
           }
          ],
          "barpolar": [
           {
            "marker": {
             "line": {
              "color": "#E5ECF6",
              "width": 0.5
             },
             "pattern": {
              "fillmode": "overlay",
              "size": 10,
              "solidity": 0.2
             }
            },
            "type": "barpolar"
           }
          ],
          "carpet": [
           {
            "aaxis": {
             "endlinecolor": "#2a3f5f",
             "gridcolor": "white",
             "linecolor": "white",
             "minorgridcolor": "white",
             "startlinecolor": "#2a3f5f"
            },
            "baxis": {
             "endlinecolor": "#2a3f5f",
             "gridcolor": "white",
             "linecolor": "white",
             "minorgridcolor": "white",
             "startlinecolor": "#2a3f5f"
            },
            "type": "carpet"
           }
          ],
          "choropleth": [
           {
            "colorbar": {
             "outlinewidth": 0,
             "ticks": ""
            },
            "type": "choropleth"
           }
          ],
          "contour": [
           {
            "colorbar": {
             "outlinewidth": 0,
             "ticks": ""
            },
            "colorscale": [
             [
              0,
              "#0d0887"
             ],
             [
              0.1111111111111111,
              "#46039f"
             ],
             [
              0.2222222222222222,
              "#7201a8"
             ],
             [
              0.3333333333333333,
              "#9c179e"
             ],
             [
              0.4444444444444444,
              "#bd3786"
             ],
             [
              0.5555555555555556,
              "#d8576b"
             ],
             [
              0.6666666666666666,
              "#ed7953"
             ],
             [
              0.7777777777777778,
              "#fb9f3a"
             ],
             [
              0.8888888888888888,
              "#fdca26"
             ],
             [
              1,
              "#f0f921"
             ]
            ],
            "type": "contour"
           }
          ],
          "contourcarpet": [
           {
            "colorbar": {
             "outlinewidth": 0,
             "ticks": ""
            },
            "type": "contourcarpet"
           }
          ],
          "heatmap": [
           {
            "colorbar": {
             "outlinewidth": 0,
             "ticks": ""
            },
            "colorscale": [
             [
              0,
              "#0d0887"
             ],
             [
              0.1111111111111111,
              "#46039f"
             ],
             [
              0.2222222222222222,
              "#7201a8"
             ],
             [
              0.3333333333333333,
              "#9c179e"
             ],
             [
              0.4444444444444444,
              "#bd3786"
             ],
             [
              0.5555555555555556,
              "#d8576b"
             ],
             [
              0.6666666666666666,
              "#ed7953"
             ],
             [
              0.7777777777777778,
              "#fb9f3a"
             ],
             [
              0.8888888888888888,
              "#fdca26"
             ],
             [
              1,
              "#f0f921"
             ]
            ],
            "type": "heatmap"
           }
          ],
          "histogram": [
           {
            "marker": {
             "pattern": {
              "fillmode": "overlay",
              "size": 10,
              "solidity": 0.2
             }
            },
            "type": "histogram"
           }
          ],
          "histogram2d": [
           {
            "colorbar": {
             "outlinewidth": 0,
             "ticks": ""
            },
            "colorscale": [
             [
              0,
              "#0d0887"
             ],
             [
              0.1111111111111111,
              "#46039f"
             ],
             [
              0.2222222222222222,
              "#7201a8"
             ],
             [
              0.3333333333333333,
              "#9c179e"
             ],
             [
              0.4444444444444444,
              "#bd3786"
             ],
             [
              0.5555555555555556,
              "#d8576b"
             ],
             [
              0.6666666666666666,
              "#ed7953"
             ],
             [
              0.7777777777777778,
              "#fb9f3a"
             ],
             [
              0.8888888888888888,
              "#fdca26"
             ],
             [
              1,
              "#f0f921"
             ]
            ],
            "type": "histogram2d"
           }
          ],
          "histogram2dcontour": [
           {
            "colorbar": {
             "outlinewidth": 0,
             "ticks": ""
            },
            "colorscale": [
             [
              0,
              "#0d0887"
             ],
             [
              0.1111111111111111,
              "#46039f"
             ],
             [
              0.2222222222222222,
              "#7201a8"
             ],
             [
              0.3333333333333333,
              "#9c179e"
             ],
             [
              0.4444444444444444,
              "#bd3786"
             ],
             [
              0.5555555555555556,
              "#d8576b"
             ],
             [
              0.6666666666666666,
              "#ed7953"
             ],
             [
              0.7777777777777778,
              "#fb9f3a"
             ],
             [
              0.8888888888888888,
              "#fdca26"
             ],
             [
              1,
              "#f0f921"
             ]
            ],
            "type": "histogram2dcontour"
           }
          ],
          "mesh3d": [
           {
            "colorbar": {
             "outlinewidth": 0,
             "ticks": ""
            },
            "type": "mesh3d"
           }
          ],
          "parcoords": [
           {
            "line": {
             "colorbar": {
              "outlinewidth": 0,
              "ticks": ""
             }
            },
            "type": "parcoords"
           }
          ],
          "pie": [
           {
            "automargin": true,
            "type": "pie"
           }
          ],
          "scatter": [
           {
            "fillpattern": {
             "fillmode": "overlay",
             "size": 10,
             "solidity": 0.2
            },
            "type": "scatter"
           }
          ],
          "scatter3d": [
           {
            "line": {
             "colorbar": {
              "outlinewidth": 0,
              "ticks": ""
             }
            },
            "marker": {
             "colorbar": {
              "outlinewidth": 0,
              "ticks": ""
             }
            },
            "type": "scatter3d"
           }
          ],
          "scattercarpet": [
           {
            "marker": {
             "colorbar": {
              "outlinewidth": 0,
              "ticks": ""
             }
            },
            "type": "scattercarpet"
           }
          ],
          "scattergeo": [
           {
            "marker": {
             "colorbar": {
              "outlinewidth": 0,
              "ticks": ""
             }
            },
            "type": "scattergeo"
           }
          ],
          "scattergl": [
           {
            "marker": {
             "colorbar": {
              "outlinewidth": 0,
              "ticks": ""
             }
            },
            "type": "scattergl"
           }
          ],
          "scattermap": [
           {
            "marker": {
             "colorbar": {
              "outlinewidth": 0,
              "ticks": ""
             }
            },
            "type": "scattermap"
           }
          ],
          "scattermapbox": [
           {
            "marker": {
             "colorbar": {
              "outlinewidth": 0,
              "ticks": ""
             }
            },
            "type": "scattermapbox"
           }
          ],
          "scatterpolar": [
           {
            "marker": {
             "colorbar": {
              "outlinewidth": 0,
              "ticks": ""
             }
            },
            "type": "scatterpolar"
           }
          ],
          "scatterpolargl": [
           {
            "marker": {
             "colorbar": {
              "outlinewidth": 0,
              "ticks": ""
             }
            },
            "type": "scatterpolargl"
           }
          ],
          "scatterternary": [
           {
            "marker": {
             "colorbar": {
              "outlinewidth": 0,
              "ticks": ""
             }
            },
            "type": "scatterternary"
           }
          ],
          "surface": [
           {
            "colorbar": {
             "outlinewidth": 0,
             "ticks": ""
            },
            "colorscale": [
             [
              0,
              "#0d0887"
             ],
             [
              0.1111111111111111,
              "#46039f"
             ],
             [
              0.2222222222222222,
              "#7201a8"
             ],
             [
              0.3333333333333333,
              "#9c179e"
             ],
             [
              0.4444444444444444,
              "#bd3786"
             ],
             [
              0.5555555555555556,
              "#d8576b"
             ],
             [
              0.6666666666666666,
              "#ed7953"
             ],
             [
              0.7777777777777778,
              "#fb9f3a"
             ],
             [
              0.8888888888888888,
              "#fdca26"
             ],
             [
              1,
              "#f0f921"
             ]
            ],
            "type": "surface"
           }
          ],
          "table": [
           {
            "cells": {
             "fill": {
              "color": "#EBF0F8"
             },
             "line": {
              "color": "white"
             }
            },
            "header": {
             "fill": {
              "color": "#C8D4E3"
             },
             "line": {
              "color": "white"
             }
            },
            "type": "table"
           }
          ]
         },
         "layout": {
          "annotationdefaults": {
           "arrowcolor": "#2a3f5f",
           "arrowhead": 0,
           "arrowwidth": 1
          },
          "autotypenumbers": "strict",
          "coloraxis": {
           "colorbar": {
            "outlinewidth": 0,
            "ticks": ""
           }
          },
          "colorscale": {
           "diverging": [
            [
             0,
             "#8e0152"
            ],
            [
             0.1,
             "#c51b7d"
            ],
            [
             0.2,
             "#de77ae"
            ],
            [
             0.3,
             "#f1b6da"
            ],
            [
             0.4,
             "#fde0ef"
            ],
            [
             0.5,
             "#f7f7f7"
            ],
            [
             0.6,
             "#e6f5d0"
            ],
            [
             0.7,
             "#b8e186"
            ],
            [
             0.8,
             "#7fbc41"
            ],
            [
             0.9,
             "#4d9221"
            ],
            [
             1,
             "#276419"
            ]
           ],
           "sequential": [
            [
             0,
             "#0d0887"
            ],
            [
             0.1111111111111111,
             "#46039f"
            ],
            [
             0.2222222222222222,
             "#7201a8"
            ],
            [
             0.3333333333333333,
             "#9c179e"
            ],
            [
             0.4444444444444444,
             "#bd3786"
            ],
            [
             0.5555555555555556,
             "#d8576b"
            ],
            [
             0.6666666666666666,
             "#ed7953"
            ],
            [
             0.7777777777777778,
             "#fb9f3a"
            ],
            [
             0.8888888888888888,
             "#fdca26"
            ],
            [
             1,
             "#f0f921"
            ]
           ],
           "sequentialminus": [
            [
             0,
             "#0d0887"
            ],
            [
             0.1111111111111111,
             "#46039f"
            ],
            [
             0.2222222222222222,
             "#7201a8"
            ],
            [
             0.3333333333333333,
             "#9c179e"
            ],
            [
             0.4444444444444444,
             "#bd3786"
            ],
            [
             0.5555555555555556,
             "#d8576b"
            ],
            [
             0.6666666666666666,
             "#ed7953"
            ],
            [
             0.7777777777777778,
             "#fb9f3a"
            ],
            [
             0.8888888888888888,
             "#fdca26"
            ],
            [
             1,
             "#f0f921"
            ]
           ]
          },
          "colorway": [
           "#636efa",
           "#EF553B",
           "#00cc96",
           "#ab63fa",
           "#FFA15A",
           "#19d3f3",
           "#FF6692",
           "#B6E880",
           "#FF97FF",
           "#FECB52"
          ],
          "font": {
           "color": "#2a3f5f"
          },
          "geo": {
           "bgcolor": "white",
           "lakecolor": "white",
           "landcolor": "#E5ECF6",
           "showlakes": true,
           "showland": true,
           "subunitcolor": "white"
          },
          "hoverlabel": {
           "align": "left"
          },
          "hovermode": "closest",
          "mapbox": {
           "style": "light"
          },
          "paper_bgcolor": "white",
          "plot_bgcolor": "#E5ECF6",
          "polar": {
           "angularaxis": {
            "gridcolor": "white",
            "linecolor": "white",
            "ticks": ""
           },
           "bgcolor": "#E5ECF6",
           "radialaxis": {
            "gridcolor": "white",
            "linecolor": "white",
            "ticks": ""
           }
          },
          "scene": {
           "xaxis": {
            "backgroundcolor": "#E5ECF6",
            "gridcolor": "white",
            "gridwidth": 2,
            "linecolor": "white",
            "showbackground": true,
            "ticks": "",
            "zerolinecolor": "white"
           },
           "yaxis": {
            "backgroundcolor": "#E5ECF6",
            "gridcolor": "white",
            "gridwidth": 2,
            "linecolor": "white",
            "showbackground": true,
            "ticks": "",
            "zerolinecolor": "white"
           },
           "zaxis": {
            "backgroundcolor": "#E5ECF6",
            "gridcolor": "white",
            "gridwidth": 2,
            "linecolor": "white",
            "showbackground": true,
            "ticks": "",
            "zerolinecolor": "white"
           }
          },
          "shapedefaults": {
           "line": {
            "color": "#2a3f5f"
           }
          },
          "ternary": {
           "aaxis": {
            "gridcolor": "white",
            "linecolor": "white",
            "ticks": ""
           },
           "baxis": {
            "gridcolor": "white",
            "linecolor": "white",
            "ticks": ""
           },
           "bgcolor": "#E5ECF6",
           "caxis": {
            "gridcolor": "white",
            "linecolor": "white",
            "ticks": ""
           }
          },
          "title": {
           "x": 0.05
          },
          "xaxis": {
           "automargin": true,
           "gridcolor": "white",
           "linecolor": "white",
           "ticks": "",
           "title": {
            "standoff": 15
           },
           "zerolinecolor": "white",
           "zerolinewidth": 2
          },
          "yaxis": {
           "automargin": true,
           "gridcolor": "white",
           "linecolor": "white",
           "ticks": "",
           "title": {
            "standoff": 15
           },
           "zerolinecolor": "white",
           "zerolinewidth": 2
          }
         }
        },
        "title": {
         "text": "Recipe Complexity: ingredients vs Steps"
        },
        "xaxis": {
         "anchor": "y",
         "domain": [
          0,
          1
         ],
         "title": {
          "text": "Number of ingredients"
         }
        },
        "yaxis": {
         "anchor": "x",
         "domain": [
          0,
          1
         ],
         "title": {
          "text": "Number of steps"
         }
        }
       }
      }
     },
     "metadata": {},
     "output_type": "display_data"
    }
   ],
   "source": [
    "fig = px.scatter(df_recipes, x='n_ingredients', y='n_steps',\n",
    "                 title='Recipe Complexity: ingredients vs Steps',\n",
    "                 labels={'n_ingredients': 'Number of ingredients', 'n_steps': 'Number of steps'},\n",
    "                 opacity=0.6)\n",
    "fig.show()"
   ]
  },
  {
   "cell_type": "markdown",
   "id": "4799f1d7",
   "metadata": {},
   "source": [
    "[plot](plots/rc_is.png)"
   ]
  },
  {
   "cell_type": "markdown",
   "id": "c5e9d06a",
   "metadata": {},
   "source": [
    "De flesta recept faller under < 30 steg och < 15 ingrediencer. Finns enstaka recept som har många steg + få ingrediencer och färre steg + många ingrediencer. Sen måste man komma ihåg att dessa recept är producerat av ett community, och olika personer kommer dela på stegen och ingrediencerna på olika vis."
   ]
  },
  {
   "cell_type": "code",
   "execution_count": 415,
   "id": "0ff2fc83",
   "metadata": {},
   "outputs": [
    {
     "data": {
      "application/vnd.plotly.v1+json": {
       "config": {
        "plotlyServerURL": "https://plot.ly"
       },
       "data": [
        {
         "hovertemplate": "Time to make (min)=%{x}<br>Number of steps=%{y}<extra></extra>",
         "legendgroup": "",
         "marker": {
          "color": "#636efa",
          "opacity": 0.6,
          "symbol": "circle"
         },
         "mode": "markers",
         "name": "",
         "showlegend": false,
         "type": "scattergl",
         "x": {
          "bdata": "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",
          "dtype": "i2"
         },
         "xaxis": "x",
         "y": {
          "bdata": "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",
          "dtype": "i1"
         },
         "yaxis": "y"
        }
       ],
       "layout": {
        "legend": {
         "tracegroupgap": 0
        },
        "template": {
         "data": {
          "bar": [
           {
            "error_x": {
             "color": "#2a3f5f"
            },
            "error_y": {
             "color": "#2a3f5f"
            },
            "marker": {
             "line": {
              "color": "#E5ECF6",
              "width": 0.5
             },
             "pattern": {
              "fillmode": "overlay",
              "size": 10,
              "solidity": 0.2
             }
            },
            "type": "bar"
           }
          ],
          "barpolar": [
           {
            "marker": {
             "line": {
              "color": "#E5ECF6",
              "width": 0.5
             },
             "pattern": {
              "fillmode": "overlay",
              "size": 10,
              "solidity": 0.2
             }
            },
            "type": "barpolar"
           }
          ],
          "carpet": [
           {
            "aaxis": {
             "endlinecolor": "#2a3f5f",
             "gridcolor": "white",
             "linecolor": "white",
             "minorgridcolor": "white",
             "startlinecolor": "#2a3f5f"
            },
            "baxis": {
             "endlinecolor": "#2a3f5f",
             "gridcolor": "white",
             "linecolor": "white",
             "minorgridcolor": "white",
             "startlinecolor": "#2a3f5f"
            },
            "type": "carpet"
           }
          ],
          "choropleth": [
           {
            "colorbar": {
             "outlinewidth": 0,
             "ticks": ""
            },
            "type": "choropleth"
           }
          ],
          "contour": [
           {
            "colorbar": {
             "outlinewidth": 0,
             "ticks": ""
            },
            "colorscale": [
             [
              0,
              "#0d0887"
             ],
             [
              0.1111111111111111,
              "#46039f"
             ],
             [
              0.2222222222222222,
              "#7201a8"
             ],
             [
              0.3333333333333333,
              "#9c179e"
             ],
             [
              0.4444444444444444,
              "#bd3786"
             ],
             [
              0.5555555555555556,
              "#d8576b"
             ],
             [
              0.6666666666666666,
              "#ed7953"
             ],
             [
              0.7777777777777778,
              "#fb9f3a"
             ],
             [
              0.8888888888888888,
              "#fdca26"
             ],
             [
              1,
              "#f0f921"
             ]
            ],
            "type": "contour"
           }
          ],
          "contourcarpet": [
           {
            "colorbar": {
             "outlinewidth": 0,
             "ticks": ""
            },
            "type": "contourcarpet"
           }
          ],
          "heatmap": [
           {
            "colorbar": {
             "outlinewidth": 0,
             "ticks": ""
            },
            "colorscale": [
             [
              0,
              "#0d0887"
             ],
             [
              0.1111111111111111,
              "#46039f"
             ],
             [
              0.2222222222222222,
              "#7201a8"
             ],
             [
              0.3333333333333333,
              "#9c179e"
             ],
             [
              0.4444444444444444,
              "#bd3786"
             ],
             [
              0.5555555555555556,
              "#d8576b"
             ],
             [
              0.6666666666666666,
              "#ed7953"
             ],
             [
              0.7777777777777778,
              "#fb9f3a"
             ],
             [
              0.8888888888888888,
              "#fdca26"
             ],
             [
              1,
              "#f0f921"
             ]
            ],
            "type": "heatmap"
           }
          ],
          "histogram": [
           {
            "marker": {
             "pattern": {
              "fillmode": "overlay",
              "size": 10,
              "solidity": 0.2
             }
            },
            "type": "histogram"
           }
          ],
          "histogram2d": [
           {
            "colorbar": {
             "outlinewidth": 0,
             "ticks": ""
            },
            "colorscale": [
             [
              0,
              "#0d0887"
             ],
             [
              0.1111111111111111,
              "#46039f"
             ],
             [
              0.2222222222222222,
              "#7201a8"
             ],
             [
              0.3333333333333333,
              "#9c179e"
             ],
             [
              0.4444444444444444,
              "#bd3786"
             ],
             [
              0.5555555555555556,
              "#d8576b"
             ],
             [
              0.6666666666666666,
              "#ed7953"
             ],
             [
              0.7777777777777778,
              "#fb9f3a"
             ],
             [
              0.8888888888888888,
              "#fdca26"
             ],
             [
              1,
              "#f0f921"
             ]
            ],
            "type": "histogram2d"
           }
          ],
          "histogram2dcontour": [
           {
            "colorbar": {
             "outlinewidth": 0,
             "ticks": ""
            },
            "colorscale": [
             [
              0,
              "#0d0887"
             ],
             [
              0.1111111111111111,
              "#46039f"
             ],
             [
              0.2222222222222222,
              "#7201a8"
             ],
             [
              0.3333333333333333,
              "#9c179e"
             ],
             [
              0.4444444444444444,
              "#bd3786"
             ],
             [
              0.5555555555555556,
              "#d8576b"
             ],
             [
              0.6666666666666666,
              "#ed7953"
             ],
             [
              0.7777777777777778,
              "#fb9f3a"
             ],
             [
              0.8888888888888888,
              "#fdca26"
             ],
             [
              1,
              "#f0f921"
             ]
            ],
            "type": "histogram2dcontour"
           }
          ],
          "mesh3d": [
           {
            "colorbar": {
             "outlinewidth": 0,
             "ticks": ""
            },
            "type": "mesh3d"
           }
          ],
          "parcoords": [
           {
            "line": {
             "colorbar": {
              "outlinewidth": 0,
              "ticks": ""
             }
            },
            "type": "parcoords"
           }
          ],
          "pie": [
           {
            "automargin": true,
            "type": "pie"
           }
          ],
          "scatter": [
           {
            "fillpattern": {
             "fillmode": "overlay",
             "size": 10,
             "solidity": 0.2
            },
            "type": "scatter"
           }
          ],
          "scatter3d": [
           {
            "line": {
             "colorbar": {
              "outlinewidth": 0,
              "ticks": ""
             }
            },
            "marker": {
             "colorbar": {
              "outlinewidth": 0,
              "ticks": ""
             }
            },
            "type": "scatter3d"
           }
          ],
          "scattercarpet": [
           {
            "marker": {
             "colorbar": {
              "outlinewidth": 0,
              "ticks": ""
             }
            },
            "type": "scattercarpet"
           }
          ],
          "scattergeo": [
           {
            "marker": {
             "colorbar": {
              "outlinewidth": 0,
              "ticks": ""
             }
            },
            "type": "scattergeo"
           }
          ],
          "scattergl": [
           {
            "marker": {
             "colorbar": {
              "outlinewidth": 0,
              "ticks": ""
             }
            },
            "type": "scattergl"
           }
          ],
          "scattermap": [
           {
            "marker": {
             "colorbar": {
              "outlinewidth": 0,
              "ticks": ""
             }
            },
            "type": "scattermap"
           }
          ],
          "scattermapbox": [
           {
            "marker": {
             "colorbar": {
              "outlinewidth": 0,
              "ticks": ""
             }
            },
            "type": "scattermapbox"
           }
          ],
          "scatterpolar": [
           {
            "marker": {
             "colorbar": {
              "outlinewidth": 0,
              "ticks": ""
             }
            },
            "type": "scatterpolar"
           }
          ],
          "scatterpolargl": [
           {
            "marker": {
             "colorbar": {
              "outlinewidth": 0,
              "ticks": ""
             }
            },
            "type": "scatterpolargl"
           }
          ],
          "scatterternary": [
           {
            "marker": {
             "colorbar": {
              "outlinewidth": 0,
              "ticks": ""
             }
            },
            "type": "scatterternary"
           }
          ],
          "surface": [
           {
            "colorbar": {
             "outlinewidth": 0,
             "ticks": ""
            },
            "colorscale": [
             [
              0,
              "#0d0887"
             ],
             [
              0.1111111111111111,
              "#46039f"
             ],
             [
              0.2222222222222222,
              "#7201a8"
             ],
             [
              0.3333333333333333,
              "#9c179e"
             ],
             [
              0.4444444444444444,
              "#bd3786"
             ],
             [
              0.5555555555555556,
              "#d8576b"
             ],
             [
              0.6666666666666666,
              "#ed7953"
             ],
             [
              0.7777777777777778,
              "#fb9f3a"
             ],
             [
              0.8888888888888888,
              "#fdca26"
             ],
             [
              1,
              "#f0f921"
             ]
            ],
            "type": "surface"
           }
          ],
          "table": [
           {
            "cells": {
             "fill": {
              "color": "#EBF0F8"
             },
             "line": {
              "color": "white"
             }
            },
            "header": {
             "fill": {
              "color": "#C8D4E3"
             },
             "line": {
              "color": "white"
             }
            },
            "type": "table"
           }
          ]
         },
         "layout": {
          "annotationdefaults": {
           "arrowcolor": "#2a3f5f",
           "arrowhead": 0,
           "arrowwidth": 1
          },
          "autotypenumbers": "strict",
          "coloraxis": {
           "colorbar": {
            "outlinewidth": 0,
            "ticks": ""
           }
          },
          "colorscale": {
           "diverging": [
            [
             0,
             "#8e0152"
            ],
            [
             0.1,
             "#c51b7d"
            ],
            [
             0.2,
             "#de77ae"
            ],
            [
             0.3,
             "#f1b6da"
            ],
            [
             0.4,
             "#fde0ef"
            ],
            [
             0.5,
             "#f7f7f7"
            ],
            [
             0.6,
             "#e6f5d0"
            ],
            [
             0.7,
             "#b8e186"
            ],
            [
             0.8,
             "#7fbc41"
            ],
            [
             0.9,
             "#4d9221"
            ],
            [
             1,
             "#276419"
            ]
           ],
           "sequential": [
            [
             0,
             "#0d0887"
            ],
            [
             0.1111111111111111,
             "#46039f"
            ],
            [
             0.2222222222222222,
             "#7201a8"
            ],
            [
             0.3333333333333333,
             "#9c179e"
            ],
            [
             0.4444444444444444,
             "#bd3786"
            ],
            [
             0.5555555555555556,
             "#d8576b"
            ],
            [
             0.6666666666666666,
             "#ed7953"
            ],
            [
             0.7777777777777778,
             "#fb9f3a"
            ],
            [
             0.8888888888888888,
             "#fdca26"
            ],
            [
             1,
             "#f0f921"
            ]
           ],
           "sequentialminus": [
            [
             0,
             "#0d0887"
            ],
            [
             0.1111111111111111,
             "#46039f"
            ],
            [
             0.2222222222222222,
             "#7201a8"
            ],
            [
             0.3333333333333333,
             "#9c179e"
            ],
            [
             0.4444444444444444,
             "#bd3786"
            ],
            [
             0.5555555555555556,
             "#d8576b"
            ],
            [
             0.6666666666666666,
             "#ed7953"
            ],
            [
             0.7777777777777778,
             "#fb9f3a"
            ],
            [
             0.8888888888888888,
             "#fdca26"
            ],
            [
             1,
             "#f0f921"
            ]
           ]
          },
          "colorway": [
           "#636efa",
           "#EF553B",
           "#00cc96",
           "#ab63fa",
           "#FFA15A",
           "#19d3f3",
           "#FF6692",
           "#B6E880",
           "#FF97FF",
           "#FECB52"
          ],
          "font": {
           "color": "#2a3f5f"
          },
          "geo": {
           "bgcolor": "white",
           "lakecolor": "white",
           "landcolor": "#E5ECF6",
           "showlakes": true,
           "showland": true,
           "subunitcolor": "white"
          },
          "hoverlabel": {
           "align": "left"
          },
          "hovermode": "closest",
          "mapbox": {
           "style": "light"
          },
          "paper_bgcolor": "white",
          "plot_bgcolor": "#E5ECF6",
          "polar": {
           "angularaxis": {
            "gridcolor": "white",
            "linecolor": "white",
            "ticks": ""
           },
           "bgcolor": "#E5ECF6",
           "radialaxis": {
            "gridcolor": "white",
            "linecolor": "white",
            "ticks": ""
           }
          },
          "scene": {
           "xaxis": {
            "backgroundcolor": "#E5ECF6",
            "gridcolor": "white",
            "gridwidth": 2,
            "linecolor": "white",
            "showbackground": true,
            "ticks": "",
            "zerolinecolor": "white"
           },
           "yaxis": {
            "backgroundcolor": "#E5ECF6",
            "gridcolor": "white",
            "gridwidth": 2,
            "linecolor": "white",
            "showbackground": true,
            "ticks": "",
            "zerolinecolor": "white"
           },
           "zaxis": {
            "backgroundcolor": "#E5ECF6",
            "gridcolor": "white",
            "gridwidth": 2,
            "linecolor": "white",
            "showbackground": true,
            "ticks": "",
            "zerolinecolor": "white"
           }
          },
          "shapedefaults": {
           "line": {
            "color": "#2a3f5f"
           }
          },
          "ternary": {
           "aaxis": {
            "gridcolor": "white",
            "linecolor": "white",
            "ticks": ""
           },
           "baxis": {
            "gridcolor": "white",
            "linecolor": "white",
            "ticks": ""
           },
           "bgcolor": "#E5ECF6",
           "caxis": {
            "gridcolor": "white",
            "linecolor": "white",
            "ticks": ""
           }
          },
          "title": {
           "x": 0.05
          },
          "xaxis": {
           "automargin": true,
           "gridcolor": "white",
           "linecolor": "white",
           "ticks": "",
           "title": {
            "standoff": 15
           },
           "zerolinecolor": "white",
           "zerolinewidth": 2
          },
          "yaxis": {
           "automargin": true,
           "gridcolor": "white",
           "linecolor": "white",
           "ticks": "",
           "title": {
            "standoff": 15
           },
           "zerolinecolor": "white",
           "zerolinewidth": 2
          }
         }
        },
        "title": {
         "text": "Recipe Complexity: Time vs Steps"
        },
        "xaxis": {
         "anchor": "y",
         "domain": [
          0,
          1
         ],
         "title": {
          "text": "Time to make (min)"
         }
        },
        "yaxis": {
         "anchor": "x",
         "domain": [
          0,
          1
         ],
         "title": {
          "text": "Number of steps"
         }
        }
       }
      }
     },
     "metadata": {},
     "output_type": "display_data"
    }
   ],
   "source": [
    "fig = px.scatter(df_recipes, x='minutes', y='n_steps',\n",
    "                 title='Recipe Complexity: Time vs Steps',\n",
    "                 labels={'minutes': 'Time to make (min)', 'n_steps': 'Number of steps'},\n",
    "                 opacity=0.6)\n",
    "fig.show()"
   ]
  },
  {
   "cell_type": "markdown",
   "id": "88d2c46f",
   "metadata": {},
   "source": [
    "[plot](plots/rc_ts.png)"
   ]
  },
  {
   "cell_type": "markdown",
   "id": "0a711de3",
   "metadata": {},
   "source": [
    "De flesta recepten är kortare med färre steg, men det finns ändå en hel del recept med färre steg och lång lagningstid – antagligen är de såna var man behöver vänta länge."
   ]
  },
  {
   "cell_type": "code",
   "execution_count": 390,
   "id": "eeb2add9",
   "metadata": {},
   "outputs": [
    {
     "data": {
      "text/html": [
       "<div>\n",
       "<style scoped>\n",
       "    .dataframe tbody tr th:only-of-type {\n",
       "        vertical-align: middle;\n",
       "    }\n",
       "\n",
       "    .dataframe tbody tr th {\n",
       "        vertical-align: top;\n",
       "    }\n",
       "\n",
       "    .dataframe thead th {\n",
       "        text-align: right;\n",
       "    }\n",
       "</style>\n",
       "<table border=\"1\" class=\"dataframe\">\n",
       "  <thead>\n",
       "    <tr style=\"text-align: right;\">\n",
       "      <th></th>\n",
       "      <th>user_id</th>\n",
       "      <th>recipe_id</th>\n",
       "      <th>date</th>\n",
       "      <th>rating</th>\n",
       "      <th>review</th>\n",
       "    </tr>\n",
       "  </thead>\n",
       "  <tbody>\n",
       "    <tr>\n",
       "      <th>0</th>\n",
       "      <td>28649</td>\n",
       "      <td>33096</td>\n",
       "      <td>2002-07-29</td>\n",
       "      <td>5</td>\n",
       "      <td>This was very simple and very refreshing.  Thi...</td>\n",
       "    </tr>\n",
       "    <tr>\n",
       "      <th>1</th>\n",
       "      <td>22973</td>\n",
       "      <td>33096</td>\n",
       "      <td>2003-08-11</td>\n",
       "      <td>5</td>\n",
       "      <td>Merlot,\\r\\n  I took the ingredients for making...</td>\n",
       "    </tr>\n",
       "    <tr>\n",
       "      <th>2</th>\n",
       "      <td>37449</td>\n",
       "      <td>33096</td>\n",
       "      <td>2003-08-31</td>\n",
       "      <td>5</td>\n",
       "      <td>So easy and so good! My husband and son scarfe...</td>\n",
       "    </tr>\n",
       "    <tr>\n",
       "      <th>3</th>\n",
       "      <td>89831</td>\n",
       "      <td>33096</td>\n",
       "      <td>2004-03-15</td>\n",
       "      <td>5</td>\n",
       "      <td>Merlot...this is the second time that I made y...</td>\n",
       "    </tr>\n",
       "    <tr>\n",
       "      <th>4</th>\n",
       "      <td>101034</td>\n",
       "      <td>33096</td>\n",
       "      <td>2004-06-15</td>\n",
       "      <td>5</td>\n",
       "      <td>What a great tasting, refreshing dessert this ...</td>\n",
       "    </tr>\n",
       "    <tr>\n",
       "      <th>...</th>\n",
       "      <td>...</td>\n",
       "      <td>...</td>\n",
       "      <td>...</td>\n",
       "      <td>...</td>\n",
       "      <td>...</td>\n",
       "    </tr>\n",
       "    <tr>\n",
       "      <th>106283</th>\n",
       "      <td>416985</td>\n",
       "      <td>31311</td>\n",
       "      <td>2010-05-13</td>\n",
       "      <td>5</td>\n",
       "      <td>These were great- made them for a \"key club\" (...</td>\n",
       "    </tr>\n",
       "    <tr>\n",
       "      <th>106284</th>\n",
       "      <td>985795</td>\n",
       "      <td>31311</td>\n",
       "      <td>2010-05-15</td>\n",
       "      <td>5</td>\n",
       "      <td>These went great to make for a pot luck I was ...</td>\n",
       "    </tr>\n",
       "    <tr>\n",
       "      <th>106285</th>\n",
       "      <td>407007</td>\n",
       "      <td>31311</td>\n",
       "      <td>2010-05-30</td>\n",
       "      <td>5</td>\n",
       "      <td>These are addictive! They are a little more ti...</td>\n",
       "    </tr>\n",
       "    <tr>\n",
       "      <th>106286</th>\n",
       "      <td>119956</td>\n",
       "      <td>31311</td>\n",
       "      <td>2011-12-21</td>\n",
       "      <td>3</td>\n",
       "      <td>I had a lot of trouble with this simple cookie...</td>\n",
       "    </tr>\n",
       "    <tr>\n",
       "      <th>106287</th>\n",
       "      <td>143318</td>\n",
       "      <td>31311</td>\n",
       "      <td>2014-12-27</td>\n",
       "      <td>5</td>\n",
       "      <td>Had some leftover peanut butter cups from Hall...</td>\n",
       "    </tr>\n",
       "  </tbody>\n",
       "</table>\n",
       "<p>106288 rows × 5 columns</p>\n",
       "</div>"
      ],
      "text/plain": [
       "        user_id  recipe_id        date  rating  \\\n",
       "0         28649      33096  2002-07-29       5   \n",
       "1         22973      33096  2003-08-11       5   \n",
       "2         37449      33096  2003-08-31       5   \n",
       "3         89831      33096  2004-03-15       5   \n",
       "4        101034      33096  2004-06-15       5   \n",
       "...         ...        ...         ...     ...   \n",
       "106283   416985      31311  2010-05-13       5   \n",
       "106284   985795      31311  2010-05-15       5   \n",
       "106285   407007      31311  2010-05-30       5   \n",
       "106286   119956      31311  2011-12-21       3   \n",
       "106287   143318      31311  2014-12-27       5   \n",
       "\n",
       "                                                   review  \n",
       "0       This was very simple and very refreshing.  Thi...  \n",
       "1       Merlot,\\r\\n  I took the ingredients for making...  \n",
       "2       So easy and so good! My husband and son scarfe...  \n",
       "3       Merlot...this is the second time that I made y...  \n",
       "4       What a great tasting, refreshing dessert this ...  \n",
       "...                                                   ...  \n",
       "106283  These were great- made them for a \"key club\" (...  \n",
       "106284  These went great to make for a pot luck I was ...  \n",
       "106285  These are addictive! They are a little more ti...  \n",
       "106286  I had a lot of trouble with this simple cookie...  \n",
       "106287  Had some leftover peanut butter cups from Hall...  \n",
       "\n",
       "[106288 rows x 5 columns]"
      ]
     },
     "execution_count": 390,
     "metadata": {},
     "output_type": "execute_result"
    }
   ],
   "source": [
    "df_ratings"
   ]
  },
  {
   "cell_type": "code",
   "execution_count": 391,
   "id": "b636846d",
   "metadata": {},
   "outputs": [
    {
     "data": {
      "application/vnd.plotly.v1+json": {
       "config": {
        "plotlyServerURL": "https://plot.ly"
       },
       "data": [
        {
         "hovertemplate": "rating=%{x}<br>count=%{y}<extra></extra>",
         "legendgroup": "",
         "marker": {
          "color": "#636efa",
          "pattern": {
           "shape": ""
          }
         },
         "name": "",
         "orientation": "v",
         "showlegend": false,
         "textposition": "auto",
         "type": "bar",
         "x": {
          "bdata": "BQQDAAIB",
          "dtype": "i1"
         },
         "xaxis": "x",
         "y": {
          "bdata": "rUUBAJdAAACeDQAAvAYAAFMDAAA/AQAA",
          "dtype": "i4"
         },
         "yaxis": "y"
        }
       ],
       "layout": {
        "bargap": 0.1,
        "barmode": "relative",
        "legend": {
         "tracegroupgap": 0
        },
        "template": {
         "data": {
          "bar": [
           {
            "error_x": {
             "color": "#2a3f5f"
            },
            "error_y": {
             "color": "#2a3f5f"
            },
            "marker": {
             "line": {
              "color": "#E5ECF6",
              "width": 0.5
             },
             "pattern": {
              "fillmode": "overlay",
              "size": 10,
              "solidity": 0.2
             }
            },
            "type": "bar"
           }
          ],
          "barpolar": [
           {
            "marker": {
             "line": {
              "color": "#E5ECF6",
              "width": 0.5
             },
             "pattern": {
              "fillmode": "overlay",
              "size": 10,
              "solidity": 0.2
             }
            },
            "type": "barpolar"
           }
          ],
          "carpet": [
           {
            "aaxis": {
             "endlinecolor": "#2a3f5f",
             "gridcolor": "white",
             "linecolor": "white",
             "minorgridcolor": "white",
             "startlinecolor": "#2a3f5f"
            },
            "baxis": {
             "endlinecolor": "#2a3f5f",
             "gridcolor": "white",
             "linecolor": "white",
             "minorgridcolor": "white",
             "startlinecolor": "#2a3f5f"
            },
            "type": "carpet"
           }
          ],
          "choropleth": [
           {
            "colorbar": {
             "outlinewidth": 0,
             "ticks": ""
            },
            "type": "choropleth"
           }
          ],
          "contour": [
           {
            "colorbar": {
             "outlinewidth": 0,
             "ticks": ""
            },
            "colorscale": [
             [
              0,
              "#0d0887"
             ],
             [
              0.1111111111111111,
              "#46039f"
             ],
             [
              0.2222222222222222,
              "#7201a8"
             ],
             [
              0.3333333333333333,
              "#9c179e"
             ],
             [
              0.4444444444444444,
              "#bd3786"
             ],
             [
              0.5555555555555556,
              "#d8576b"
             ],
             [
              0.6666666666666666,
              "#ed7953"
             ],
             [
              0.7777777777777778,
              "#fb9f3a"
             ],
             [
              0.8888888888888888,
              "#fdca26"
             ],
             [
              1,
              "#f0f921"
             ]
            ],
            "type": "contour"
           }
          ],
          "contourcarpet": [
           {
            "colorbar": {
             "outlinewidth": 0,
             "ticks": ""
            },
            "type": "contourcarpet"
           }
          ],
          "heatmap": [
           {
            "colorbar": {
             "outlinewidth": 0,
             "ticks": ""
            },
            "colorscale": [
             [
              0,
              "#0d0887"
             ],
             [
              0.1111111111111111,
              "#46039f"
             ],
             [
              0.2222222222222222,
              "#7201a8"
             ],
             [
              0.3333333333333333,
              "#9c179e"
             ],
             [
              0.4444444444444444,
              "#bd3786"
             ],
             [
              0.5555555555555556,
              "#d8576b"
             ],
             [
              0.6666666666666666,
              "#ed7953"
             ],
             [
              0.7777777777777778,
              "#fb9f3a"
             ],
             [
              0.8888888888888888,
              "#fdca26"
             ],
             [
              1,
              "#f0f921"
             ]
            ],
            "type": "heatmap"
           }
          ],
          "histogram": [
           {
            "marker": {
             "pattern": {
              "fillmode": "overlay",
              "size": 10,
              "solidity": 0.2
             }
            },
            "type": "histogram"
           }
          ],
          "histogram2d": [
           {
            "colorbar": {
             "outlinewidth": 0,
             "ticks": ""
            },
            "colorscale": [
             [
              0,
              "#0d0887"
             ],
             [
              0.1111111111111111,
              "#46039f"
             ],
             [
              0.2222222222222222,
              "#7201a8"
             ],
             [
              0.3333333333333333,
              "#9c179e"
             ],
             [
              0.4444444444444444,
              "#bd3786"
             ],
             [
              0.5555555555555556,
              "#d8576b"
             ],
             [
              0.6666666666666666,
              "#ed7953"
             ],
             [
              0.7777777777777778,
              "#fb9f3a"
             ],
             [
              0.8888888888888888,
              "#fdca26"
             ],
             [
              1,
              "#f0f921"
             ]
            ],
            "type": "histogram2d"
           }
          ],
          "histogram2dcontour": [
           {
            "colorbar": {
             "outlinewidth": 0,
             "ticks": ""
            },
            "colorscale": [
             [
              0,
              "#0d0887"
             ],
             [
              0.1111111111111111,
              "#46039f"
             ],
             [
              0.2222222222222222,
              "#7201a8"
             ],
             [
              0.3333333333333333,
              "#9c179e"
             ],
             [
              0.4444444444444444,
              "#bd3786"
             ],
             [
              0.5555555555555556,
              "#d8576b"
             ],
             [
              0.6666666666666666,
              "#ed7953"
             ],
             [
              0.7777777777777778,
              "#fb9f3a"
             ],
             [
              0.8888888888888888,
              "#fdca26"
             ],
             [
              1,
              "#f0f921"
             ]
            ],
            "type": "histogram2dcontour"
           }
          ],
          "mesh3d": [
           {
            "colorbar": {
             "outlinewidth": 0,
             "ticks": ""
            },
            "type": "mesh3d"
           }
          ],
          "parcoords": [
           {
            "line": {
             "colorbar": {
              "outlinewidth": 0,
              "ticks": ""
             }
            },
            "type": "parcoords"
           }
          ],
          "pie": [
           {
            "automargin": true,
            "type": "pie"
           }
          ],
          "scatter": [
           {
            "fillpattern": {
             "fillmode": "overlay",
             "size": 10,
             "solidity": 0.2
            },
            "type": "scatter"
           }
          ],
          "scatter3d": [
           {
            "line": {
             "colorbar": {
              "outlinewidth": 0,
              "ticks": ""
             }
            },
            "marker": {
             "colorbar": {
              "outlinewidth": 0,
              "ticks": ""
             }
            },
            "type": "scatter3d"
           }
          ],
          "scattercarpet": [
           {
            "marker": {
             "colorbar": {
              "outlinewidth": 0,
              "ticks": ""
             }
            },
            "type": "scattercarpet"
           }
          ],
          "scattergeo": [
           {
            "marker": {
             "colorbar": {
              "outlinewidth": 0,
              "ticks": ""
             }
            },
            "type": "scattergeo"
           }
          ],
          "scattergl": [
           {
            "marker": {
             "colorbar": {
              "outlinewidth": 0,
              "ticks": ""
             }
            },
            "type": "scattergl"
           }
          ],
          "scattermap": [
           {
            "marker": {
             "colorbar": {
              "outlinewidth": 0,
              "ticks": ""
             }
            },
            "type": "scattermap"
           }
          ],
          "scattermapbox": [
           {
            "marker": {
             "colorbar": {
              "outlinewidth": 0,
              "ticks": ""
             }
            },
            "type": "scattermapbox"
           }
          ],
          "scatterpolar": [
           {
            "marker": {
             "colorbar": {
              "outlinewidth": 0,
              "ticks": ""
             }
            },
            "type": "scatterpolar"
           }
          ],
          "scatterpolargl": [
           {
            "marker": {
             "colorbar": {
              "outlinewidth": 0,
              "ticks": ""
             }
            },
            "type": "scatterpolargl"
           }
          ],
          "scatterternary": [
           {
            "marker": {
             "colorbar": {
              "outlinewidth": 0,
              "ticks": ""
             }
            },
            "type": "scatterternary"
           }
          ],
          "surface": [
           {
            "colorbar": {
             "outlinewidth": 0,
             "ticks": ""
            },
            "colorscale": [
             [
              0,
              "#0d0887"
             ],
             [
              0.1111111111111111,
              "#46039f"
             ],
             [
              0.2222222222222222,
              "#7201a8"
             ],
             [
              0.3333333333333333,
              "#9c179e"
             ],
             [
              0.4444444444444444,
              "#bd3786"
             ],
             [
              0.5555555555555556,
              "#d8576b"
             ],
             [
              0.6666666666666666,
              "#ed7953"
             ],
             [
              0.7777777777777778,
              "#fb9f3a"
             ],
             [
              0.8888888888888888,
              "#fdca26"
             ],
             [
              1,
              "#f0f921"
             ]
            ],
            "type": "surface"
           }
          ],
          "table": [
           {
            "cells": {
             "fill": {
              "color": "#EBF0F8"
             },
             "line": {
              "color": "white"
             }
            },
            "header": {
             "fill": {
              "color": "#C8D4E3"
             },
             "line": {
              "color": "white"
             }
            },
            "type": "table"
           }
          ]
         },
         "layout": {
          "annotationdefaults": {
           "arrowcolor": "#2a3f5f",
           "arrowhead": 0,
           "arrowwidth": 1
          },
          "autotypenumbers": "strict",
          "coloraxis": {
           "colorbar": {
            "outlinewidth": 0,
            "ticks": ""
           }
          },
          "colorscale": {
           "diverging": [
            [
             0,
             "#8e0152"
            ],
            [
             0.1,
             "#c51b7d"
            ],
            [
             0.2,
             "#de77ae"
            ],
            [
             0.3,
             "#f1b6da"
            ],
            [
             0.4,
             "#fde0ef"
            ],
            [
             0.5,
             "#f7f7f7"
            ],
            [
             0.6,
             "#e6f5d0"
            ],
            [
             0.7,
             "#b8e186"
            ],
            [
             0.8,
             "#7fbc41"
            ],
            [
             0.9,
             "#4d9221"
            ],
            [
             1,
             "#276419"
            ]
           ],
           "sequential": [
            [
             0,
             "#0d0887"
            ],
            [
             0.1111111111111111,
             "#46039f"
            ],
            [
             0.2222222222222222,
             "#7201a8"
            ],
            [
             0.3333333333333333,
             "#9c179e"
            ],
            [
             0.4444444444444444,
             "#bd3786"
            ],
            [
             0.5555555555555556,
             "#d8576b"
            ],
            [
             0.6666666666666666,
             "#ed7953"
            ],
            [
             0.7777777777777778,
             "#fb9f3a"
            ],
            [
             0.8888888888888888,
             "#fdca26"
            ],
            [
             1,
             "#f0f921"
            ]
           ],
           "sequentialminus": [
            [
             0,
             "#0d0887"
            ],
            [
             0.1111111111111111,
             "#46039f"
            ],
            [
             0.2222222222222222,
             "#7201a8"
            ],
            [
             0.3333333333333333,
             "#9c179e"
            ],
            [
             0.4444444444444444,
             "#bd3786"
            ],
            [
             0.5555555555555556,
             "#d8576b"
            ],
            [
             0.6666666666666666,
             "#ed7953"
            ],
            [
             0.7777777777777778,
             "#fb9f3a"
            ],
            [
             0.8888888888888888,
             "#fdca26"
            ],
            [
             1,
             "#f0f921"
            ]
           ]
          },
          "colorway": [
           "#636efa",
           "#EF553B",
           "#00cc96",
           "#ab63fa",
           "#FFA15A",
           "#19d3f3",
           "#FF6692",
           "#B6E880",
           "#FF97FF",
           "#FECB52"
          ],
          "font": {
           "color": "#2a3f5f"
          },
          "geo": {
           "bgcolor": "white",
           "lakecolor": "white",
           "landcolor": "#E5ECF6",
           "showlakes": true,
           "showland": true,
           "subunitcolor": "white"
          },
          "hoverlabel": {
           "align": "left"
          },
          "hovermode": "closest",
          "mapbox": {
           "style": "light"
          },
          "paper_bgcolor": "white",
          "plot_bgcolor": "#E5ECF6",
          "polar": {
           "angularaxis": {
            "gridcolor": "white",
            "linecolor": "white",
            "ticks": ""
           },
           "bgcolor": "#E5ECF6",
           "radialaxis": {
            "gridcolor": "white",
            "linecolor": "white",
            "ticks": ""
           }
          },
          "scene": {
           "xaxis": {
            "backgroundcolor": "#E5ECF6",
            "gridcolor": "white",
            "gridwidth": 2,
            "linecolor": "white",
            "showbackground": true,
            "ticks": "",
            "zerolinecolor": "white"
           },
           "yaxis": {
            "backgroundcolor": "#E5ECF6",
            "gridcolor": "white",
            "gridwidth": 2,
            "linecolor": "white",
            "showbackground": true,
            "ticks": "",
            "zerolinecolor": "white"
           },
           "zaxis": {
            "backgroundcolor": "#E5ECF6",
            "gridcolor": "white",
            "gridwidth": 2,
            "linecolor": "white",
            "showbackground": true,
            "ticks": "",
            "zerolinecolor": "white"
           }
          },
          "shapedefaults": {
           "line": {
            "color": "#2a3f5f"
           }
          },
          "ternary": {
           "aaxis": {
            "gridcolor": "white",
            "linecolor": "white",
            "ticks": ""
           },
           "baxis": {
            "gridcolor": "white",
            "linecolor": "white",
            "ticks": ""
           },
           "bgcolor": "#E5ECF6",
           "caxis": {
            "gridcolor": "white",
            "linecolor": "white",
            "ticks": ""
           }
          },
          "title": {
           "x": 0.05
          },
          "xaxis": {
           "automargin": true,
           "gridcolor": "white",
           "linecolor": "white",
           "ticks": "",
           "title": {
            "standoff": 15
           },
           "zerolinecolor": "white",
           "zerolinewidth": 2
          },
          "yaxis": {
           "automargin": true,
           "gridcolor": "white",
           "linecolor": "white",
           "ticks": "",
           "title": {
            "standoff": 15
           },
           "zerolinecolor": "white",
           "zerolinewidth": 2
          }
         }
        },
        "title": {
         "text": "Rating count"
        },
        "xaxis": {
         "anchor": "y",
         "domain": [
          0,
          1
         ],
         "title": {
          "text": "rating"
         }
        },
        "yaxis": {
         "anchor": "x",
         "domain": [
          0,
          1
         ],
         "title": {
          "text": "count"
         }
        }
       }
      }
     },
     "metadata": {},
     "output_type": "display_data"
    }
   ],
   "source": [
    "fig = px.bar(x=df_ratings['rating'].value_counts().index, y=df_ratings['rating'].value_counts().values, \n",
    "             title='Rating count', labels={'x': 'rating', 'y': 'count'})\n",
    "fig.update_layout(bargap=0.1)\n",
    "fig.show()"
   ]
  },
  {
   "cell_type": "markdown",
   "id": "3a0d38fe",
   "metadata": {},
   "source": [
    "[plot](plots/rat_c.png)"
   ]
  },
  {
   "cell_type": "code",
   "execution_count": 392,
   "id": "7fa29308",
   "metadata": {},
   "outputs": [
    {
     "data": {
      "application/vnd.plotly.v1+json": {
       "config": {
        "plotlyServerURL": "https://plot.ly"
       },
       "data": [
        {
         "bingroup": "x",
         "hovertemplate": "Mean Rating=%{x}<br>count=%{y}<extra></extra>",
         "legendgroup": "",
         "marker": {
          "color": "#636efa",
          "pattern": {
           "shape": ""
          }
         },
         "name": "",
         "nbinsx": 20,
         "orientation": "v",
         "showlegend": false,
         "type": "histogram",
         "x": {
          "bdata": "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",
          "dtype": "f8"
         },
         "xaxis": "x",
         "yaxis": "y"
        }
       ],
       "layout": {
        "bargap": 0.1,
        "barmode": "relative",
        "legend": {
         "tracegroupgap": 0
        },
        "template": {
         "data": {
          "bar": [
           {
            "error_x": {
             "color": "#2a3f5f"
            },
            "error_y": {
             "color": "#2a3f5f"
            },
            "marker": {
             "line": {
              "color": "#E5ECF6",
              "width": 0.5
             },
             "pattern": {
              "fillmode": "overlay",
              "size": 10,
              "solidity": 0.2
             }
            },
            "type": "bar"
           }
          ],
          "barpolar": [
           {
            "marker": {
             "line": {
              "color": "#E5ECF6",
              "width": 0.5
             },
             "pattern": {
              "fillmode": "overlay",
              "size": 10,
              "solidity": 0.2
             }
            },
            "type": "barpolar"
           }
          ],
          "carpet": [
           {
            "aaxis": {
             "endlinecolor": "#2a3f5f",
             "gridcolor": "white",
             "linecolor": "white",
             "minorgridcolor": "white",
             "startlinecolor": "#2a3f5f"
            },
            "baxis": {
             "endlinecolor": "#2a3f5f",
             "gridcolor": "white",
             "linecolor": "white",
             "minorgridcolor": "white",
             "startlinecolor": "#2a3f5f"
            },
            "type": "carpet"
           }
          ],
          "choropleth": [
           {
            "colorbar": {
             "outlinewidth": 0,
             "ticks": ""
            },
            "type": "choropleth"
           }
          ],
          "contour": [
           {
            "colorbar": {
             "outlinewidth": 0,
             "ticks": ""
            },
            "colorscale": [
             [
              0,
              "#0d0887"
             ],
             [
              0.1111111111111111,
              "#46039f"
             ],
             [
              0.2222222222222222,
              "#7201a8"
             ],
             [
              0.3333333333333333,
              "#9c179e"
             ],
             [
              0.4444444444444444,
              "#bd3786"
             ],
             [
              0.5555555555555556,
              "#d8576b"
             ],
             [
              0.6666666666666666,
              "#ed7953"
             ],
             [
              0.7777777777777778,
              "#fb9f3a"
             ],
             [
              0.8888888888888888,
              "#fdca26"
             ],
             [
              1,
              "#f0f921"
             ]
            ],
            "type": "contour"
           }
          ],
          "contourcarpet": [
           {
            "colorbar": {
             "outlinewidth": 0,
             "ticks": ""
            },
            "type": "contourcarpet"
           }
          ],
          "heatmap": [
           {
            "colorbar": {
             "outlinewidth": 0,
             "ticks": ""
            },
            "colorscale": [
             [
              0,
              "#0d0887"
             ],
             [
              0.1111111111111111,
              "#46039f"
             ],
             [
              0.2222222222222222,
              "#7201a8"
             ],
             [
              0.3333333333333333,
              "#9c179e"
             ],
             [
              0.4444444444444444,
              "#bd3786"
             ],
             [
              0.5555555555555556,
              "#d8576b"
             ],
             [
              0.6666666666666666,
              "#ed7953"
             ],
             [
              0.7777777777777778,
              "#fb9f3a"
             ],
             [
              0.8888888888888888,
              "#fdca26"
             ],
             [
              1,
              "#f0f921"
             ]
            ],
            "type": "heatmap"
           }
          ],
          "histogram": [
           {
            "marker": {
             "pattern": {
              "fillmode": "overlay",
              "size": 10,
              "solidity": 0.2
             }
            },
            "type": "histogram"
           }
          ],
          "histogram2d": [
           {
            "colorbar": {
             "outlinewidth": 0,
             "ticks": ""
            },
            "colorscale": [
             [
              0,
              "#0d0887"
             ],
             [
              0.1111111111111111,
              "#46039f"
             ],
             [
              0.2222222222222222,
              "#7201a8"
             ],
             [
              0.3333333333333333,
              "#9c179e"
             ],
             [
              0.4444444444444444,
              "#bd3786"
             ],
             [
              0.5555555555555556,
              "#d8576b"
             ],
             [
              0.6666666666666666,
              "#ed7953"
             ],
             [
              0.7777777777777778,
              "#fb9f3a"
             ],
             [
              0.8888888888888888,
              "#fdca26"
             ],
             [
              1,
              "#f0f921"
             ]
            ],
            "type": "histogram2d"
           }
          ],
          "histogram2dcontour": [
           {
            "colorbar": {
             "outlinewidth": 0,
             "ticks": ""
            },
            "colorscale": [
             [
              0,
              "#0d0887"
             ],
             [
              0.1111111111111111,
              "#46039f"
             ],
             [
              0.2222222222222222,
              "#7201a8"
             ],
             [
              0.3333333333333333,
              "#9c179e"
             ],
             [
              0.4444444444444444,
              "#bd3786"
             ],
             [
              0.5555555555555556,
              "#d8576b"
             ],
             [
              0.6666666666666666,
              "#ed7953"
             ],
             [
              0.7777777777777778,
              "#fb9f3a"
             ],
             [
              0.8888888888888888,
              "#fdca26"
             ],
             [
              1,
              "#f0f921"
             ]
            ],
            "type": "histogram2dcontour"
           }
          ],
          "mesh3d": [
           {
            "colorbar": {
             "outlinewidth": 0,
             "ticks": ""
            },
            "type": "mesh3d"
           }
          ],
          "parcoords": [
           {
            "line": {
             "colorbar": {
              "outlinewidth": 0,
              "ticks": ""
             }
            },
            "type": "parcoords"
           }
          ],
          "pie": [
           {
            "automargin": true,
            "type": "pie"
           }
          ],
          "scatter": [
           {
            "fillpattern": {
             "fillmode": "overlay",
             "size": 10,
             "solidity": 0.2
            },
            "type": "scatter"
           }
          ],
          "scatter3d": [
           {
            "line": {
             "colorbar": {
              "outlinewidth": 0,
              "ticks": ""
             }
            },
            "marker": {
             "colorbar": {
              "outlinewidth": 0,
              "ticks": ""
             }
            },
            "type": "scatter3d"
           }
          ],
          "scattercarpet": [
           {
            "marker": {
             "colorbar": {
              "outlinewidth": 0,
              "ticks": ""
             }
            },
            "type": "scattercarpet"
           }
          ],
          "scattergeo": [
           {
            "marker": {
             "colorbar": {
              "outlinewidth": 0,
              "ticks": ""
             }
            },
            "type": "scattergeo"
           }
          ],
          "scattergl": [
           {
            "marker": {
             "colorbar": {
              "outlinewidth": 0,
              "ticks": ""
             }
            },
            "type": "scattergl"
           }
          ],
          "scattermap": [
           {
            "marker": {
             "colorbar": {
              "outlinewidth": 0,
              "ticks": ""
             }
            },
            "type": "scattermap"
           }
          ],
          "scattermapbox": [
           {
            "marker": {
             "colorbar": {
              "outlinewidth": 0,
              "ticks": ""
             }
            },
            "type": "scattermapbox"
           }
          ],
          "scatterpolar": [
           {
            "marker": {
             "colorbar": {
              "outlinewidth": 0,
              "ticks": ""
             }
            },
            "type": "scatterpolar"
           }
          ],
          "scatterpolargl": [
           {
            "marker": {
             "colorbar": {
              "outlinewidth": 0,
              "ticks": ""
             }
            },
            "type": "scatterpolargl"
           }
          ],
          "scatterternary": [
           {
            "marker": {
             "colorbar": {
              "outlinewidth": 0,
              "ticks": ""
             }
            },
            "type": "scatterternary"
           }
          ],
          "surface": [
           {
            "colorbar": {
             "outlinewidth": 0,
             "ticks": ""
            },
            "colorscale": [
             [
              0,
              "#0d0887"
             ],
             [
              0.1111111111111111,
              "#46039f"
             ],
             [
              0.2222222222222222,
              "#7201a8"
             ],
             [
              0.3333333333333333,
              "#9c179e"
             ],
             [
              0.4444444444444444,
              "#bd3786"
             ],
             [
              0.5555555555555556,
              "#d8576b"
             ],
             [
              0.6666666666666666,
              "#ed7953"
             ],
             [
              0.7777777777777778,
              "#fb9f3a"
             ],
             [
              0.8888888888888888,
              "#fdca26"
             ],
             [
              1,
              "#f0f921"
             ]
            ],
            "type": "surface"
           }
          ],
          "table": [
           {
            "cells": {
             "fill": {
              "color": "#EBF0F8"
             },
             "line": {
              "color": "white"
             }
            },
            "header": {
             "fill": {
              "color": "#C8D4E3"
             },
             "line": {
              "color": "white"
             }
            },
            "type": "table"
           }
          ]
         },
         "layout": {
          "annotationdefaults": {
           "arrowcolor": "#2a3f5f",
           "arrowhead": 0,
           "arrowwidth": 1
          },
          "autotypenumbers": "strict",
          "coloraxis": {
           "colorbar": {
            "outlinewidth": 0,
            "ticks": ""
           }
          },
          "colorscale": {
           "diverging": [
            [
             0,
             "#8e0152"
            ],
            [
             0.1,
             "#c51b7d"
            ],
            [
             0.2,
             "#de77ae"
            ],
            [
             0.3,
             "#f1b6da"
            ],
            [
             0.4,
             "#fde0ef"
            ],
            [
             0.5,
             "#f7f7f7"
            ],
            [
             0.6,
             "#e6f5d0"
            ],
            [
             0.7,
             "#b8e186"
            ],
            [
             0.8,
             "#7fbc41"
            ],
            [
             0.9,
             "#4d9221"
            ],
            [
             1,
             "#276419"
            ]
           ],
           "sequential": [
            [
             0,
             "#0d0887"
            ],
            [
             0.1111111111111111,
             "#46039f"
            ],
            [
             0.2222222222222222,
             "#7201a8"
            ],
            [
             0.3333333333333333,
             "#9c179e"
            ],
            [
             0.4444444444444444,
             "#bd3786"
            ],
            [
             0.5555555555555556,
             "#d8576b"
            ],
            [
             0.6666666666666666,
             "#ed7953"
            ],
            [
             0.7777777777777778,
             "#fb9f3a"
            ],
            [
             0.8888888888888888,
             "#fdca26"
            ],
            [
             1,
             "#f0f921"
            ]
           ],
           "sequentialminus": [
            [
             0,
             "#0d0887"
            ],
            [
             0.1111111111111111,
             "#46039f"
            ],
            [
             0.2222222222222222,
             "#7201a8"
            ],
            [
             0.3333333333333333,
             "#9c179e"
            ],
            [
             0.4444444444444444,
             "#bd3786"
            ],
            [
             0.5555555555555556,
             "#d8576b"
            ],
            [
             0.6666666666666666,
             "#ed7953"
            ],
            [
             0.7777777777777778,
             "#fb9f3a"
            ],
            [
             0.8888888888888888,
             "#fdca26"
            ],
            [
             1,
             "#f0f921"
            ]
           ]
          },
          "colorway": [
           "#636efa",
           "#EF553B",
           "#00cc96",
           "#ab63fa",
           "#FFA15A",
           "#19d3f3",
           "#FF6692",
           "#B6E880",
           "#FF97FF",
           "#FECB52"
          ],
          "font": {
           "color": "#2a3f5f"
          },
          "geo": {
           "bgcolor": "white",
           "lakecolor": "white",
           "landcolor": "#E5ECF6",
           "showlakes": true,
           "showland": true,
           "subunitcolor": "white"
          },
          "hoverlabel": {
           "align": "left"
          },
          "hovermode": "closest",
          "mapbox": {
           "style": "light"
          },
          "paper_bgcolor": "white",
          "plot_bgcolor": "#E5ECF6",
          "polar": {
           "angularaxis": {
            "gridcolor": "white",
            "linecolor": "white",
            "ticks": ""
           },
           "bgcolor": "#E5ECF6",
           "radialaxis": {
            "gridcolor": "white",
            "linecolor": "white",
            "ticks": ""
           }
          },
          "scene": {
           "xaxis": {
            "backgroundcolor": "#E5ECF6",
            "gridcolor": "white",
            "gridwidth": 2,
            "linecolor": "white",
            "showbackground": true,
            "ticks": "",
            "zerolinecolor": "white"
           },
           "yaxis": {
            "backgroundcolor": "#E5ECF6",
            "gridcolor": "white",
            "gridwidth": 2,
            "linecolor": "white",
            "showbackground": true,
            "ticks": "",
            "zerolinecolor": "white"
           },
           "zaxis": {
            "backgroundcolor": "#E5ECF6",
            "gridcolor": "white",
            "gridwidth": 2,
            "linecolor": "white",
            "showbackground": true,
            "ticks": "",
            "zerolinecolor": "white"
           }
          },
          "shapedefaults": {
           "line": {
            "color": "#2a3f5f"
           }
          },
          "ternary": {
           "aaxis": {
            "gridcolor": "white",
            "linecolor": "white",
            "ticks": ""
           },
           "baxis": {
            "gridcolor": "white",
            "linecolor": "white",
            "ticks": ""
           },
           "bgcolor": "#E5ECF6",
           "caxis": {
            "gridcolor": "white",
            "linecolor": "white",
            "ticks": ""
           }
          },
          "title": {
           "x": 0.05
          },
          "xaxis": {
           "automargin": true,
           "gridcolor": "white",
           "linecolor": "white",
           "ticks": "",
           "title": {
            "standoff": 15
           },
           "zerolinecolor": "white",
           "zerolinewidth": 2
          },
          "yaxis": {
           "automargin": true,
           "gridcolor": "white",
           "linecolor": "white",
           "ticks": "",
           "title": {
            "standoff": 15
           },
           "zerolinecolor": "white",
           "zerolinewidth": 2
          }
         }
        },
        "title": {
         "text": "Distribution of Mean Ratings per Recipe"
        },
        "xaxis": {
         "anchor": "y",
         "domain": [
          0,
          1
         ],
         "title": {
          "text": "Mean Rating"
         }
        },
        "yaxis": {
         "anchor": "x",
         "domain": [
          0,
          1
         ],
         "title": {
          "text": "count"
         }
        }
       }
      }
     },
     "metadata": {},
     "output_type": "display_data"
    }
   ],
   "source": [
    "fig = px.histogram(\n",
    "    df_ratings.groupby('recipe_id')['rating'].mean(), x='rating', nbins=20, \n",
    "    title='Distribution of Mean Ratings per Recipe', labels={'rating': 'Mean Rating'},\n",
    ")\n",
    "fig.update_layout(bargap=0.1)\n",
    "fig.show()"
   ]
  },
  {
   "cell_type": "markdown",
   "id": "fb625271",
   "metadata": {},
   "source": [
    "[plot](plots/dist_mr.png)"
   ]
  },
  {
   "cell_type": "markdown",
   "id": "14a09214",
   "metadata": {},
   "source": [
    "En rating på 5 är överlägset vanligast att ge, och de flesta recept har hög rating (>4). Kan det vara så att man endast ger en recension om receptet var bra, eller så kan filtreringen råkat radera recept med låg rating."
   ]
  },
  {
   "cell_type": "code",
   "execution_count": 393,
   "id": "4ff0a3fc",
   "metadata": {},
   "outputs": [
    {
     "data": {
      "text/html": [
       "<div>\n",
       "<style scoped>\n",
       "    .dataframe tbody tr th:only-of-type {\n",
       "        vertical-align: middle;\n",
       "    }\n",
       "\n",
       "    .dataframe tbody tr th {\n",
       "        vertical-align: top;\n",
       "    }\n",
       "\n",
       "    .dataframe thead th {\n",
       "        text-align: right;\n",
       "    }\n",
       "</style>\n",
       "<table border=\"1\" class=\"dataframe\">\n",
       "  <thead>\n",
       "    <tr style=\"text-align: right;\">\n",
       "      <th></th>\n",
       "      <th>mean</th>\n",
       "      <th>count</th>\n",
       "    </tr>\n",
       "    <tr>\n",
       "      <th>recipe_id</th>\n",
       "      <th></th>\n",
       "      <th></th>\n",
       "    </tr>\n",
       "  </thead>\n",
       "  <tbody>\n",
       "    <tr>\n",
       "      <th>27208</th>\n",
       "      <td>4.526582</td>\n",
       "      <td>395</td>\n",
       "    </tr>\n",
       "    <tr>\n",
       "      <th>89204</th>\n",
       "      <td>4.273273</td>\n",
       "      <td>333</td>\n",
       "    </tr>\n",
       "    <tr>\n",
       "      <th>39087</th>\n",
       "      <td>4.678808</td>\n",
       "      <td>302</td>\n",
       "    </tr>\n",
       "    <tr>\n",
       "      <th>22782</th>\n",
       "      <td>4.600000</td>\n",
       "      <td>300</td>\n",
       "    </tr>\n",
       "    <tr>\n",
       "      <th>69173</th>\n",
       "      <td>4.824916</td>\n",
       "      <td>297</td>\n",
       "    </tr>\n",
       "    <tr>\n",
       "      <th>...</th>\n",
       "      <td>...</td>\n",
       "      <td>...</td>\n",
       "    </tr>\n",
       "    <tr>\n",
       "      <th>7553</th>\n",
       "      <td>3.888889</td>\n",
       "      <td>18</td>\n",
       "    </tr>\n",
       "    <tr>\n",
       "      <th>41882</th>\n",
       "      <td>3.888889</td>\n",
       "      <td>18</td>\n",
       "    </tr>\n",
       "    <tr>\n",
       "      <th>44908</th>\n",
       "      <td>3.888889</td>\n",
       "      <td>18</td>\n",
       "    </tr>\n",
       "    <tr>\n",
       "      <th>179050</th>\n",
       "      <td>3.888889</td>\n",
       "      <td>18</td>\n",
       "    </tr>\n",
       "    <tr>\n",
       "      <th>95409</th>\n",
       "      <td>3.833333</td>\n",
       "      <td>18</td>\n",
       "    </tr>\n",
       "  </tbody>\n",
       "</table>\n",
       "<p>2908 rows × 2 columns</p>\n",
       "</div>"
      ],
      "text/plain": [
       "               mean  count\n",
       "recipe_id                 \n",
       "27208      4.526582    395\n",
       "89204      4.273273    333\n",
       "39087      4.678808    302\n",
       "22782      4.600000    300\n",
       "69173      4.824916    297\n",
       "...             ...    ...\n",
       "7553       3.888889     18\n",
       "41882      3.888889     18\n",
       "44908      3.888889     18\n",
       "179050     3.888889     18\n",
       "95409      3.833333     18\n",
       "\n",
       "[2908 rows x 2 columns]"
      ]
     },
     "execution_count": 393,
     "metadata": {},
     "output_type": "execute_result"
    }
   ],
   "source": [
    "df_ratings.groupby('recipe_id')['rating'] \\\n",
    "    .agg(['mean', 'count'])  \\\n",
    "    .sort_values(by=['count', 'mean'], ascending=[False, False])"
   ]
  },
  {
   "cell_type": "code",
   "execution_count": 394,
   "id": "c7094e83",
   "metadata": {},
   "outputs": [
    {
     "data": {
      "text/html": [
       "<div>\n",
       "<style scoped>\n",
       "    .dataframe tbody tr th:only-of-type {\n",
       "        vertical-align: middle;\n",
       "    }\n",
       "\n",
       "    .dataframe tbody tr th {\n",
       "        vertical-align: top;\n",
       "    }\n",
       "\n",
       "    .dataframe thead th {\n",
       "        text-align: right;\n",
       "    }\n",
       "</style>\n",
       "<table border=\"1\" class=\"dataframe\">\n",
       "  <thead>\n",
       "    <tr style=\"text-align: right;\">\n",
       "      <th></th>\n",
       "      <th>mean</th>\n",
       "      <th>count</th>\n",
       "    </tr>\n",
       "    <tr>\n",
       "      <th>recipe_id</th>\n",
       "      <th></th>\n",
       "      <th></th>\n",
       "    </tr>\n",
       "  </thead>\n",
       "  <tbody>\n",
       "    <tr>\n",
       "      <th>66947</th>\n",
       "      <td>5.000000</td>\n",
       "      <td>50</td>\n",
       "    </tr>\n",
       "    <tr>\n",
       "      <th>154351</th>\n",
       "      <td>5.000000</td>\n",
       "      <td>41</td>\n",
       "    </tr>\n",
       "    <tr>\n",
       "      <th>77497</th>\n",
       "      <td>5.000000</td>\n",
       "      <td>38</td>\n",
       "    </tr>\n",
       "    <tr>\n",
       "      <th>222166</th>\n",
       "      <td>5.000000</td>\n",
       "      <td>38</td>\n",
       "    </tr>\n",
       "    <tr>\n",
       "      <th>186029</th>\n",
       "      <td>5.000000</td>\n",
       "      <td>35</td>\n",
       "    </tr>\n",
       "    <tr>\n",
       "      <th>...</th>\n",
       "      <td>...</td>\n",
       "      <td>...</td>\n",
       "    </tr>\n",
       "    <tr>\n",
       "      <th>95409</th>\n",
       "      <td>3.833333</td>\n",
       "      <td>18</td>\n",
       "    </tr>\n",
       "    <tr>\n",
       "      <th>38584</th>\n",
       "      <td>3.821429</td>\n",
       "      <td>28</td>\n",
       "    </tr>\n",
       "    <tr>\n",
       "      <th>81853</th>\n",
       "      <td>3.736842</td>\n",
       "      <td>38</td>\n",
       "    </tr>\n",
       "    <tr>\n",
       "      <th>35331</th>\n",
       "      <td>3.736842</td>\n",
       "      <td>19</td>\n",
       "    </tr>\n",
       "    <tr>\n",
       "      <th>62236</th>\n",
       "      <td>3.650000</td>\n",
       "      <td>20</td>\n",
       "    </tr>\n",
       "  </tbody>\n",
       "</table>\n",
       "<p>2908 rows × 2 columns</p>\n",
       "</div>"
      ],
      "text/plain": [
       "               mean  count\n",
       "recipe_id                 \n",
       "66947      5.000000     50\n",
       "154351     5.000000     41\n",
       "77497      5.000000     38\n",
       "222166     5.000000     38\n",
       "186029     5.000000     35\n",
       "...             ...    ...\n",
       "95409      3.833333     18\n",
       "38584      3.821429     28\n",
       "81853      3.736842     38\n",
       "35331      3.736842     19\n",
       "62236      3.650000     20\n",
       "\n",
       "[2908 rows x 2 columns]"
      ]
     },
     "execution_count": 394,
     "metadata": {},
     "output_type": "execute_result"
    }
   ],
   "source": [
    "df_ratings.groupby('recipe_id')['rating'] \\\n",
    "    .agg(['mean', 'count'])  \\\n",
    "    .sort_values(by=['mean', 'count'], ascending=[False, False])"
   ]
  },
  {
   "cell_type": "code",
   "execution_count": 395,
   "id": "c4c5f448",
   "metadata": {},
   "outputs": [
    {
     "name": "stdout",
     "output_type": "stream",
     "text": [
      "         id                        name  minutes  n_steps  n_ingredients\n",
      "2690  27208  to die for crock pot roast      545        7              5\n",
      "         id                                       name  minutes  n_steps  \\\n",
      "2212  66947  refreshing mojito  by the pitcher mojitos       15        5   \n",
      "\n",
      "      n_ingredients  \n",
      "2212              5  \n"
     ]
    }
   ],
   "source": [
    "print(df_recipes[df_recipes['id'] == 27208][['id','name', 'minutes', 'n_steps', 'n_ingredients']])\n",
    "print(df_recipes[df_recipes['id'] == 66947][['id','name', 'minutes', 'n_steps', 'n_ingredients']])"
   ]
  },
  {
   "cell_type": "markdown",
   "id": "3ff3ede9",
   "metadata": {},
   "source": [
    "*to die for crock pot roast* har mest ratings och är gillat med en rating på 4.5, medans\n",
    "*refreshing mojito  by the pitcher mojitos* har högsta rating (med flest ratings)"
   ]
  },
  {
   "cell_type": "code",
   "execution_count": 396,
   "id": "fd02b71f",
   "metadata": {},
   "outputs": [
    {
     "data": {
      "text/html": [
       "<div>\n",
       "<style scoped>\n",
       "    .dataframe tbody tr th:only-of-type {\n",
       "        vertical-align: middle;\n",
       "    }\n",
       "\n",
       "    .dataframe tbody tr th {\n",
       "        vertical-align: top;\n",
       "    }\n",
       "\n",
       "    .dataframe thead th {\n",
       "        text-align: right;\n",
       "    }\n",
       "</style>\n",
       "<table border=\"1\" class=\"dataframe\">\n",
       "  <thead>\n",
       "    <tr style=\"text-align: right;\">\n",
       "      <th></th>\n",
       "      <th>mean</th>\n",
       "      <th>count</th>\n",
       "    </tr>\n",
       "    <tr>\n",
       "      <th>user_id</th>\n",
       "      <th></th>\n",
       "      <th></th>\n",
       "    </tr>\n",
       "  </thead>\n",
       "  <tbody>\n",
       "    <tr>\n",
       "      <th>140132</th>\n",
       "      <td>4.713204</td>\n",
       "      <td>1189</td>\n",
       "    </tr>\n",
       "    <tr>\n",
       "      <th>176615</th>\n",
       "      <td>4.895492</td>\n",
       "      <td>488</td>\n",
       "    </tr>\n",
       "    <tr>\n",
       "      <th>173579</th>\n",
       "      <td>4.908120</td>\n",
       "      <td>468</td>\n",
       "    </tr>\n",
       "    <tr>\n",
       "      <th>126440</th>\n",
       "      <td>4.868534</td>\n",
       "      <td>464</td>\n",
       "    </tr>\n",
       "    <tr>\n",
       "      <th>37449</th>\n",
       "      <td>4.927536</td>\n",
       "      <td>414</td>\n",
       "    </tr>\n",
       "    <tr>\n",
       "      <th>...</th>\n",
       "      <td>...</td>\n",
       "      <td>...</td>\n",
       "    </tr>\n",
       "    <tr>\n",
       "      <th>125524</th>\n",
       "      <td>4.875000</td>\n",
       "      <td>24</td>\n",
       "    </tr>\n",
       "    <tr>\n",
       "      <th>82772</th>\n",
       "      <td>4.958333</td>\n",
       "      <td>24</td>\n",
       "    </tr>\n",
       "    <tr>\n",
       "      <th>647466</th>\n",
       "      <td>4.666667</td>\n",
       "      <td>24</td>\n",
       "    </tr>\n",
       "    <tr>\n",
       "      <th>308434</th>\n",
       "      <td>4.541667</td>\n",
       "      <td>24</td>\n",
       "    </tr>\n",
       "    <tr>\n",
       "      <th>294215</th>\n",
       "      <td>4.583333</td>\n",
       "      <td>24</td>\n",
       "    </tr>\n",
       "  </tbody>\n",
       "</table>\n",
       "<p>1842 rows × 2 columns</p>\n",
       "</div>"
      ],
      "text/plain": [
       "             mean  count\n",
       "user_id                 \n",
       "140132   4.713204   1189\n",
       "176615   4.895492    488\n",
       "173579   4.908120    468\n",
       "126440   4.868534    464\n",
       "37449    4.927536    414\n",
       "...           ...    ...\n",
       "125524   4.875000     24\n",
       "82772    4.958333     24\n",
       "647466   4.666667     24\n",
       "308434   4.541667     24\n",
       "294215   4.583333     24\n",
       "\n",
       "[1842 rows x 2 columns]"
      ]
     },
     "execution_count": 396,
     "metadata": {},
     "output_type": "execute_result"
    }
   ],
   "source": [
    "df_ratings.groupby('user_id')['rating'] \\\n",
    "    .agg(['mean', 'count'])  \\\n",
    "    .sort_values(by='count', ascending=False)"
   ]
  },
  {
   "cell_type": "markdown",
   "id": "0b775c4a",
   "metadata": {},
   "source": [
    "Användare `140132` har gett flest reviews på recept och tydligen gillat de flesta, eller så skriver hen endast en review om det var bra"
   ]
  },
  {
   "cell_type": "code",
   "execution_count": 401,
   "id": "24b746db",
   "metadata": {},
   "outputs": [
    {
     "data": {
      "text/plain": [
       "count    1189.000000\n",
       "mean        4.713204\n",
       "std         0.549872\n",
       "min         0.000000\n",
       "25%         4.000000\n",
       "50%         5.000000\n",
       "75%         5.000000\n",
       "max         5.000000\n",
       "Name: rating, dtype: float64"
      ]
     },
     "execution_count": 401,
     "metadata": {},
     "output_type": "execute_result"
    }
   ],
   "source": [
    "df_ratings[df_ratings['user_id'] == 140132]['rating'].describe()"
   ]
  },
  {
   "cell_type": "code",
   "execution_count": 416,
   "id": "3cd95abd",
   "metadata": {},
   "outputs": [
    {
     "data": {
      "application/vnd.plotly.v1+json": {
       "config": {
        "plotlyServerURL": "https://plot.ly"
       },
       "data": [
        {
         "hovertemplate": "Time (minutes)=%{x}<br>Average Rating=%{y}<extra></extra>",
         "legendgroup": "",
         "marker": {
          "color": "#636efa",
          "opacity": 0.6,
          "symbol": "circle"
         },
         "mode": "markers",
         "name": "",
         "showlegend": false,
         "type": "scattergl",
         "x": {
          "bdata": "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",
          "dtype": "i2"
         },
         "xaxis": "x",
         "y": {
          "bdata": "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",
          "dtype": "f8"
         },
         "yaxis": "y"
        }
       ],
       "layout": {
        "legend": {
         "tracegroupgap": 0
        },
        "template": {
         "data": {
          "bar": [
           {
            "error_x": {
             "color": "#2a3f5f"
            },
            "error_y": {
             "color": "#2a3f5f"
            },
            "marker": {
             "line": {
              "color": "#E5ECF6",
              "width": 0.5
             },
             "pattern": {
              "fillmode": "overlay",
              "size": 10,
              "solidity": 0.2
             }
            },
            "type": "bar"
           }
          ],
          "barpolar": [
           {
            "marker": {
             "line": {
              "color": "#E5ECF6",
              "width": 0.5
             },
             "pattern": {
              "fillmode": "overlay",
              "size": 10,
              "solidity": 0.2
             }
            },
            "type": "barpolar"
           }
          ],
          "carpet": [
           {
            "aaxis": {
             "endlinecolor": "#2a3f5f",
             "gridcolor": "white",
             "linecolor": "white",
             "minorgridcolor": "white",
             "startlinecolor": "#2a3f5f"
            },
            "baxis": {
             "endlinecolor": "#2a3f5f",
             "gridcolor": "white",
             "linecolor": "white",
             "minorgridcolor": "white",
             "startlinecolor": "#2a3f5f"
            },
            "type": "carpet"
           }
          ],
          "choropleth": [
           {
            "colorbar": {
             "outlinewidth": 0,
             "ticks": ""
            },
            "type": "choropleth"
           }
          ],
          "contour": [
           {
            "colorbar": {
             "outlinewidth": 0,
             "ticks": ""
            },
            "colorscale": [
             [
              0,
              "#0d0887"
             ],
             [
              0.1111111111111111,
              "#46039f"
             ],
             [
              0.2222222222222222,
              "#7201a8"
             ],
             [
              0.3333333333333333,
              "#9c179e"
             ],
             [
              0.4444444444444444,
              "#bd3786"
             ],
             [
              0.5555555555555556,
              "#d8576b"
             ],
             [
              0.6666666666666666,
              "#ed7953"
             ],
             [
              0.7777777777777778,
              "#fb9f3a"
             ],
             [
              0.8888888888888888,
              "#fdca26"
             ],
             [
              1,
              "#f0f921"
             ]
            ],
            "type": "contour"
           }
          ],
          "contourcarpet": [
           {
            "colorbar": {
             "outlinewidth": 0,
             "ticks": ""
            },
            "type": "contourcarpet"
           }
          ],
          "heatmap": [
           {
            "colorbar": {
             "outlinewidth": 0,
             "ticks": ""
            },
            "colorscale": [
             [
              0,
              "#0d0887"
             ],
             [
              0.1111111111111111,
              "#46039f"
             ],
             [
              0.2222222222222222,
              "#7201a8"
             ],
             [
              0.3333333333333333,
              "#9c179e"
             ],
             [
              0.4444444444444444,
              "#bd3786"
             ],
             [
              0.5555555555555556,
              "#d8576b"
             ],
             [
              0.6666666666666666,
              "#ed7953"
             ],
             [
              0.7777777777777778,
              "#fb9f3a"
             ],
             [
              0.8888888888888888,
              "#fdca26"
             ],
             [
              1,
              "#f0f921"
             ]
            ],
            "type": "heatmap"
           }
          ],
          "histogram": [
           {
            "marker": {
             "pattern": {
              "fillmode": "overlay",
              "size": 10,
              "solidity": 0.2
             }
            },
            "type": "histogram"
           }
          ],
          "histogram2d": [
           {
            "colorbar": {
             "outlinewidth": 0,
             "ticks": ""
            },
            "colorscale": [
             [
              0,
              "#0d0887"
             ],
             [
              0.1111111111111111,
              "#46039f"
             ],
             [
              0.2222222222222222,
              "#7201a8"
             ],
             [
              0.3333333333333333,
              "#9c179e"
             ],
             [
              0.4444444444444444,
              "#bd3786"
             ],
             [
              0.5555555555555556,
              "#d8576b"
             ],
             [
              0.6666666666666666,
              "#ed7953"
             ],
             [
              0.7777777777777778,
              "#fb9f3a"
             ],
             [
              0.8888888888888888,
              "#fdca26"
             ],
             [
              1,
              "#f0f921"
             ]
            ],
            "type": "histogram2d"
           }
          ],
          "histogram2dcontour": [
           {
            "colorbar": {
             "outlinewidth": 0,
             "ticks": ""
            },
            "colorscale": [
             [
              0,
              "#0d0887"
             ],
             [
              0.1111111111111111,
              "#46039f"
             ],
             [
              0.2222222222222222,
              "#7201a8"
             ],
             [
              0.3333333333333333,
              "#9c179e"
             ],
             [
              0.4444444444444444,
              "#bd3786"
             ],
             [
              0.5555555555555556,
              "#d8576b"
             ],
             [
              0.6666666666666666,
              "#ed7953"
             ],
             [
              0.7777777777777778,
              "#fb9f3a"
             ],
             [
              0.8888888888888888,
              "#fdca26"
             ],
             [
              1,
              "#f0f921"
             ]
            ],
            "type": "histogram2dcontour"
           }
          ],
          "mesh3d": [
           {
            "colorbar": {
             "outlinewidth": 0,
             "ticks": ""
            },
            "type": "mesh3d"
           }
          ],
          "parcoords": [
           {
            "line": {
             "colorbar": {
              "outlinewidth": 0,
              "ticks": ""
             }
            },
            "type": "parcoords"
           }
          ],
          "pie": [
           {
            "automargin": true,
            "type": "pie"
           }
          ],
          "scatter": [
           {
            "fillpattern": {
             "fillmode": "overlay",
             "size": 10,
             "solidity": 0.2
            },
            "type": "scatter"
           }
          ],
          "scatter3d": [
           {
            "line": {
             "colorbar": {
              "outlinewidth": 0,
              "ticks": ""
             }
            },
            "marker": {
             "colorbar": {
              "outlinewidth": 0,
              "ticks": ""
             }
            },
            "type": "scatter3d"
           }
          ],
          "scattercarpet": [
           {
            "marker": {
             "colorbar": {
              "outlinewidth": 0,
              "ticks": ""
             }
            },
            "type": "scattercarpet"
           }
          ],
          "scattergeo": [
           {
            "marker": {
             "colorbar": {
              "outlinewidth": 0,
              "ticks": ""
             }
            },
            "type": "scattergeo"
           }
          ],
          "scattergl": [
           {
            "marker": {
             "colorbar": {
              "outlinewidth": 0,
              "ticks": ""
             }
            },
            "type": "scattergl"
           }
          ],
          "scattermap": [
           {
            "marker": {
             "colorbar": {
              "outlinewidth": 0,
              "ticks": ""
             }
            },
            "type": "scattermap"
           }
          ],
          "scattermapbox": [
           {
            "marker": {
             "colorbar": {
              "outlinewidth": 0,
              "ticks": ""
             }
            },
            "type": "scattermapbox"
           }
          ],
          "scatterpolar": [
           {
            "marker": {
             "colorbar": {
              "outlinewidth": 0,
              "ticks": ""
             }
            },
            "type": "scatterpolar"
           }
          ],
          "scatterpolargl": [
           {
            "marker": {
             "colorbar": {
              "outlinewidth": 0,
              "ticks": ""
             }
            },
            "type": "scatterpolargl"
           }
          ],
          "scatterternary": [
           {
            "marker": {
             "colorbar": {
              "outlinewidth": 0,
              "ticks": ""
             }
            },
            "type": "scatterternary"
           }
          ],
          "surface": [
           {
            "colorbar": {
             "outlinewidth": 0,
             "ticks": ""
            },
            "colorscale": [
             [
              0,
              "#0d0887"
             ],
             [
              0.1111111111111111,
              "#46039f"
             ],
             [
              0.2222222222222222,
              "#7201a8"
             ],
             [
              0.3333333333333333,
              "#9c179e"
             ],
             [
              0.4444444444444444,
              "#bd3786"
             ],
             [
              0.5555555555555556,
              "#d8576b"
             ],
             [
              0.6666666666666666,
              "#ed7953"
             ],
             [
              0.7777777777777778,
              "#fb9f3a"
             ],
             [
              0.8888888888888888,
              "#fdca26"
             ],
             [
              1,
              "#f0f921"
             ]
            ],
            "type": "surface"
           }
          ],
          "table": [
           {
            "cells": {
             "fill": {
              "color": "#EBF0F8"
             },
             "line": {
              "color": "white"
             }
            },
            "header": {
             "fill": {
              "color": "#C8D4E3"
             },
             "line": {
              "color": "white"
             }
            },
            "type": "table"
           }
          ]
         },
         "layout": {
          "annotationdefaults": {
           "arrowcolor": "#2a3f5f",
           "arrowhead": 0,
           "arrowwidth": 1
          },
          "autotypenumbers": "strict",
          "coloraxis": {
           "colorbar": {
            "outlinewidth": 0,
            "ticks": ""
           }
          },
          "colorscale": {
           "diverging": [
            [
             0,
             "#8e0152"
            ],
            [
             0.1,
             "#c51b7d"
            ],
            [
             0.2,
             "#de77ae"
            ],
            [
             0.3,
             "#f1b6da"
            ],
            [
             0.4,
             "#fde0ef"
            ],
            [
             0.5,
             "#f7f7f7"
            ],
            [
             0.6,
             "#e6f5d0"
            ],
            [
             0.7,
             "#b8e186"
            ],
            [
             0.8,
             "#7fbc41"
            ],
            [
             0.9,
             "#4d9221"
            ],
            [
             1,
             "#276419"
            ]
           ],
           "sequential": [
            [
             0,
             "#0d0887"
            ],
            [
             0.1111111111111111,
             "#46039f"
            ],
            [
             0.2222222222222222,
             "#7201a8"
            ],
            [
             0.3333333333333333,
             "#9c179e"
            ],
            [
             0.4444444444444444,
             "#bd3786"
            ],
            [
             0.5555555555555556,
             "#d8576b"
            ],
            [
             0.6666666666666666,
             "#ed7953"
            ],
            [
             0.7777777777777778,
             "#fb9f3a"
            ],
            [
             0.8888888888888888,
             "#fdca26"
            ],
            [
             1,
             "#f0f921"
            ]
           ],
           "sequentialminus": [
            [
             0,
             "#0d0887"
            ],
            [
             0.1111111111111111,
             "#46039f"
            ],
            [
             0.2222222222222222,
             "#7201a8"
            ],
            [
             0.3333333333333333,
             "#9c179e"
            ],
            [
             0.4444444444444444,
             "#bd3786"
            ],
            [
             0.5555555555555556,
             "#d8576b"
            ],
            [
             0.6666666666666666,
             "#ed7953"
            ],
            [
             0.7777777777777778,
             "#fb9f3a"
            ],
            [
             0.8888888888888888,
             "#fdca26"
            ],
            [
             1,
             "#f0f921"
            ]
           ]
          },
          "colorway": [
           "#636efa",
           "#EF553B",
           "#00cc96",
           "#ab63fa",
           "#FFA15A",
           "#19d3f3",
           "#FF6692",
           "#B6E880",
           "#FF97FF",
           "#FECB52"
          ],
          "font": {
           "color": "#2a3f5f"
          },
          "geo": {
           "bgcolor": "white",
           "lakecolor": "white",
           "landcolor": "#E5ECF6",
           "showlakes": true,
           "showland": true,
           "subunitcolor": "white"
          },
          "hoverlabel": {
           "align": "left"
          },
          "hovermode": "closest",
          "mapbox": {
           "style": "light"
          },
          "paper_bgcolor": "white",
          "plot_bgcolor": "#E5ECF6",
          "polar": {
           "angularaxis": {
            "gridcolor": "white",
            "linecolor": "white",
            "ticks": ""
           },
           "bgcolor": "#E5ECF6",
           "radialaxis": {
            "gridcolor": "white",
            "linecolor": "white",
            "ticks": ""
           }
          },
          "scene": {
           "xaxis": {
            "backgroundcolor": "#E5ECF6",
            "gridcolor": "white",
            "gridwidth": 2,
            "linecolor": "white",
            "showbackground": true,
            "ticks": "",
            "zerolinecolor": "white"
           },
           "yaxis": {
            "backgroundcolor": "#E5ECF6",
            "gridcolor": "white",
            "gridwidth": 2,
            "linecolor": "white",
            "showbackground": true,
            "ticks": "",
            "zerolinecolor": "white"
           },
           "zaxis": {
            "backgroundcolor": "#E5ECF6",
            "gridcolor": "white",
            "gridwidth": 2,
            "linecolor": "white",
            "showbackground": true,
            "ticks": "",
            "zerolinecolor": "white"
           }
          },
          "shapedefaults": {
           "line": {
            "color": "#2a3f5f"
           }
          },
          "ternary": {
           "aaxis": {
            "gridcolor": "white",
            "linecolor": "white",
            "ticks": ""
           },
           "baxis": {
            "gridcolor": "white",
            "linecolor": "white",
            "ticks": ""
           },
           "bgcolor": "#E5ECF6",
           "caxis": {
            "gridcolor": "white",
            "linecolor": "white",
            "ticks": ""
           }
          },
          "title": {
           "x": 0.05
          },
          "xaxis": {
           "automargin": true,
           "gridcolor": "white",
           "linecolor": "white",
           "ticks": "",
           "title": {
            "standoff": 15
           },
           "zerolinecolor": "white",
           "zerolinewidth": 2
          },
          "yaxis": {
           "automargin": true,
           "gridcolor": "white",
           "linecolor": "white",
           "ticks": "",
           "title": {
            "standoff": 15
           },
           "zerolinecolor": "white",
           "zerolinewidth": 2
          }
         }
        },
        "title": {
         "text": "Average Rating vs Time to make"
        },
        "xaxis": {
         "anchor": "y",
         "domain": [
          0,
          1
         ],
         "title": {
          "text": "Time (minutes)"
         }
        },
        "yaxis": {
         "anchor": "x",
         "domain": [
          0,
          1
         ],
         "title": {
          "text": "Average Rating"
         }
        }
       }
      }
     },
     "metadata": {},
     "output_type": "display_data"
    }
   ],
   "source": [
    "avg_ratings = df_ratings.groupby('recipe_id')['rating'].mean()\n",
    "merged = df_recipes.merge(avg_ratings, left_on='id', right_on='recipe_id')\n",
    "\n",
    "fig = px.scatter(merged, x='minutes', y='rating',\n",
    "                 title='Average Rating vs Time to make',\n",
    "                 labels={'minutes': 'Time (minutes)', 'rating': 'Average Rating'},\n",
    "                 opacity=0.6)\n",
    "fig.show()\n"
   ]
  },
  {
   "cell_type": "markdown",
   "id": "fa332f6e",
   "metadata": {},
   "source": [
    "[plot](plots/ar_tt.png)"
   ]
  },
  {
   "cell_type": "markdown",
   "id": "f0d4cf2c",
   "metadata": {},
   "source": [
    "Lagningstid verkar inte påverka allt för mycket på vad folk gillar – de flesta lagningstider har variation. Datan drar sig mot höga ratings och korta recept, men höga ratings och korta recept var annors också vanligast i datan."
   ]
  },
  {
   "cell_type": "code",
   "execution_count": 417,
   "id": "3f237434",
   "metadata": {},
   "outputs": [
    {
     "data": {
      "application/vnd.plotly.v1+json": {
       "config": {
        "plotlyServerURL": "https://plot.ly"
       },
       "data": [
        {
         "hovertemplate": "Number of ingredients=%{x}<br>Average Rating=%{y}<extra></extra>",
         "legendgroup": "",
         "marker": {
          "color": "#636efa",
          "opacity": 0.6,
          "symbol": "circle"
         },
         "mode": "markers",
         "name": "",
         "showlegend": false,
         "type": "scattergl",
         "x": {
          "bdata": "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",
          "dtype": "i1"
         },
         "xaxis": "x",
         "y": {
          "bdata": "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",
          "dtype": "f8"
         },
         "yaxis": "y"
        }
       ],
       "layout": {
        "legend": {
         "tracegroupgap": 0
        },
        "template": {
         "data": {
          "bar": [
           {
            "error_x": {
             "color": "#2a3f5f"
            },
            "error_y": {
             "color": "#2a3f5f"
            },
            "marker": {
             "line": {
              "color": "#E5ECF6",
              "width": 0.5
             },
             "pattern": {
              "fillmode": "overlay",
              "size": 10,
              "solidity": 0.2
             }
            },
            "type": "bar"
           }
          ],
          "barpolar": [
           {
            "marker": {
             "line": {
              "color": "#E5ECF6",
              "width": 0.5
             },
             "pattern": {
              "fillmode": "overlay",
              "size": 10,
              "solidity": 0.2
             }
            },
            "type": "barpolar"
           }
          ],
          "carpet": [
           {
            "aaxis": {
             "endlinecolor": "#2a3f5f",
             "gridcolor": "white",
             "linecolor": "white",
             "minorgridcolor": "white",
             "startlinecolor": "#2a3f5f"
            },
            "baxis": {
             "endlinecolor": "#2a3f5f",
             "gridcolor": "white",
             "linecolor": "white",
             "minorgridcolor": "white",
             "startlinecolor": "#2a3f5f"
            },
            "type": "carpet"
           }
          ],
          "choropleth": [
           {
            "colorbar": {
             "outlinewidth": 0,
             "ticks": ""
            },
            "type": "choropleth"
           }
          ],
          "contour": [
           {
            "colorbar": {
             "outlinewidth": 0,
             "ticks": ""
            },
            "colorscale": [
             [
              0,
              "#0d0887"
             ],
             [
              0.1111111111111111,
              "#46039f"
             ],
             [
              0.2222222222222222,
              "#7201a8"
             ],
             [
              0.3333333333333333,
              "#9c179e"
             ],
             [
              0.4444444444444444,
              "#bd3786"
             ],
             [
              0.5555555555555556,
              "#d8576b"
             ],
             [
              0.6666666666666666,
              "#ed7953"
             ],
             [
              0.7777777777777778,
              "#fb9f3a"
             ],
             [
              0.8888888888888888,
              "#fdca26"
             ],
             [
              1,
              "#f0f921"
             ]
            ],
            "type": "contour"
           }
          ],
          "contourcarpet": [
           {
            "colorbar": {
             "outlinewidth": 0,
             "ticks": ""
            },
            "type": "contourcarpet"
           }
          ],
          "heatmap": [
           {
            "colorbar": {
             "outlinewidth": 0,
             "ticks": ""
            },
            "colorscale": [
             [
              0,
              "#0d0887"
             ],
             [
              0.1111111111111111,
              "#46039f"
             ],
             [
              0.2222222222222222,
              "#7201a8"
             ],
             [
              0.3333333333333333,
              "#9c179e"
             ],
             [
              0.4444444444444444,
              "#bd3786"
             ],
             [
              0.5555555555555556,
              "#d8576b"
             ],
             [
              0.6666666666666666,
              "#ed7953"
             ],
             [
              0.7777777777777778,
              "#fb9f3a"
             ],
             [
              0.8888888888888888,
              "#fdca26"
             ],
             [
              1,
              "#f0f921"
             ]
            ],
            "type": "heatmap"
           }
          ],
          "histogram": [
           {
            "marker": {
             "pattern": {
              "fillmode": "overlay",
              "size": 10,
              "solidity": 0.2
             }
            },
            "type": "histogram"
           }
          ],
          "histogram2d": [
           {
            "colorbar": {
             "outlinewidth": 0,
             "ticks": ""
            },
            "colorscale": [
             [
              0,
              "#0d0887"
             ],
             [
              0.1111111111111111,
              "#46039f"
             ],
             [
              0.2222222222222222,
              "#7201a8"
             ],
             [
              0.3333333333333333,
              "#9c179e"
             ],
             [
              0.4444444444444444,
              "#bd3786"
             ],
             [
              0.5555555555555556,
              "#d8576b"
             ],
             [
              0.6666666666666666,
              "#ed7953"
             ],
             [
              0.7777777777777778,
              "#fb9f3a"
             ],
             [
              0.8888888888888888,
              "#fdca26"
             ],
             [
              1,
              "#f0f921"
             ]
            ],
            "type": "histogram2d"
           }
          ],
          "histogram2dcontour": [
           {
            "colorbar": {
             "outlinewidth": 0,
             "ticks": ""
            },
            "colorscale": [
             [
              0,
              "#0d0887"
             ],
             [
              0.1111111111111111,
              "#46039f"
             ],
             [
              0.2222222222222222,
              "#7201a8"
             ],
             [
              0.3333333333333333,
              "#9c179e"
             ],
             [
              0.4444444444444444,
              "#bd3786"
             ],
             [
              0.5555555555555556,
              "#d8576b"
             ],
             [
              0.6666666666666666,
              "#ed7953"
             ],
             [
              0.7777777777777778,
              "#fb9f3a"
             ],
             [
              0.8888888888888888,
              "#fdca26"
             ],
             [
              1,
              "#f0f921"
             ]
            ],
            "type": "histogram2dcontour"
           }
          ],
          "mesh3d": [
           {
            "colorbar": {
             "outlinewidth": 0,
             "ticks": ""
            },
            "type": "mesh3d"
           }
          ],
          "parcoords": [
           {
            "line": {
             "colorbar": {
              "outlinewidth": 0,
              "ticks": ""
             }
            },
            "type": "parcoords"
           }
          ],
          "pie": [
           {
            "automargin": true,
            "type": "pie"
           }
          ],
          "scatter": [
           {
            "fillpattern": {
             "fillmode": "overlay",
             "size": 10,
             "solidity": 0.2
            },
            "type": "scatter"
           }
          ],
          "scatter3d": [
           {
            "line": {
             "colorbar": {
              "outlinewidth": 0,
              "ticks": ""
             }
            },
            "marker": {
             "colorbar": {
              "outlinewidth": 0,
              "ticks": ""
             }
            },
            "type": "scatter3d"
           }
          ],
          "scattercarpet": [
           {
            "marker": {
             "colorbar": {
              "outlinewidth": 0,
              "ticks": ""
             }
            },
            "type": "scattercarpet"
           }
          ],
          "scattergeo": [
           {
            "marker": {
             "colorbar": {
              "outlinewidth": 0,
              "ticks": ""
             }
            },
            "type": "scattergeo"
           }
          ],
          "scattergl": [
           {
            "marker": {
             "colorbar": {
              "outlinewidth": 0,
              "ticks": ""
             }
            },
            "type": "scattergl"
           }
          ],
          "scattermap": [
           {
            "marker": {
             "colorbar": {
              "outlinewidth": 0,
              "ticks": ""
             }
            },
            "type": "scattermap"
           }
          ],
          "scattermapbox": [
           {
            "marker": {
             "colorbar": {
              "outlinewidth": 0,
              "ticks": ""
             }
            },
            "type": "scattermapbox"
           }
          ],
          "scatterpolar": [
           {
            "marker": {
             "colorbar": {
              "outlinewidth": 0,
              "ticks": ""
             }
            },
            "type": "scatterpolar"
           }
          ],
          "scatterpolargl": [
           {
            "marker": {
             "colorbar": {
              "outlinewidth": 0,
              "ticks": ""
             }
            },
            "type": "scatterpolargl"
           }
          ],
          "scatterternary": [
           {
            "marker": {
             "colorbar": {
              "outlinewidth": 0,
              "ticks": ""
             }
            },
            "type": "scatterternary"
           }
          ],
          "surface": [
           {
            "colorbar": {
             "outlinewidth": 0,
             "ticks": ""
            },
            "colorscale": [
             [
              0,
              "#0d0887"
             ],
             [
              0.1111111111111111,
              "#46039f"
             ],
             [
              0.2222222222222222,
              "#7201a8"
             ],
             [
              0.3333333333333333,
              "#9c179e"
             ],
             [
              0.4444444444444444,
              "#bd3786"
             ],
             [
              0.5555555555555556,
              "#d8576b"
             ],
             [
              0.6666666666666666,
              "#ed7953"
             ],
             [
              0.7777777777777778,
              "#fb9f3a"
             ],
             [
              0.8888888888888888,
              "#fdca26"
             ],
             [
              1,
              "#f0f921"
             ]
            ],
            "type": "surface"
           }
          ],
          "table": [
           {
            "cells": {
             "fill": {
              "color": "#EBF0F8"
             },
             "line": {
              "color": "white"
             }
            },
            "header": {
             "fill": {
              "color": "#C8D4E3"
             },
             "line": {
              "color": "white"
             }
            },
            "type": "table"
           }
          ]
         },
         "layout": {
          "annotationdefaults": {
           "arrowcolor": "#2a3f5f",
           "arrowhead": 0,
           "arrowwidth": 1
          },
          "autotypenumbers": "strict",
          "coloraxis": {
           "colorbar": {
            "outlinewidth": 0,
            "ticks": ""
           }
          },
          "colorscale": {
           "diverging": [
            [
             0,
             "#8e0152"
            ],
            [
             0.1,
             "#c51b7d"
            ],
            [
             0.2,
             "#de77ae"
            ],
            [
             0.3,
             "#f1b6da"
            ],
            [
             0.4,
             "#fde0ef"
            ],
            [
             0.5,
             "#f7f7f7"
            ],
            [
             0.6,
             "#e6f5d0"
            ],
            [
             0.7,
             "#b8e186"
            ],
            [
             0.8,
             "#7fbc41"
            ],
            [
             0.9,
             "#4d9221"
            ],
            [
             1,
             "#276419"
            ]
           ],
           "sequential": [
            [
             0,
             "#0d0887"
            ],
            [
             0.1111111111111111,
             "#46039f"
            ],
            [
             0.2222222222222222,
             "#7201a8"
            ],
            [
             0.3333333333333333,
             "#9c179e"
            ],
            [
             0.4444444444444444,
             "#bd3786"
            ],
            [
             0.5555555555555556,
             "#d8576b"
            ],
            [
             0.6666666666666666,
             "#ed7953"
            ],
            [
             0.7777777777777778,
             "#fb9f3a"
            ],
            [
             0.8888888888888888,
             "#fdca26"
            ],
            [
             1,
             "#f0f921"
            ]
           ],
           "sequentialminus": [
            [
             0,
             "#0d0887"
            ],
            [
             0.1111111111111111,
             "#46039f"
            ],
            [
             0.2222222222222222,
             "#7201a8"
            ],
            [
             0.3333333333333333,
             "#9c179e"
            ],
            [
             0.4444444444444444,
             "#bd3786"
            ],
            [
             0.5555555555555556,
             "#d8576b"
            ],
            [
             0.6666666666666666,
             "#ed7953"
            ],
            [
             0.7777777777777778,
             "#fb9f3a"
            ],
            [
             0.8888888888888888,
             "#fdca26"
            ],
            [
             1,
             "#f0f921"
            ]
           ]
          },
          "colorway": [
           "#636efa",
           "#EF553B",
           "#00cc96",
           "#ab63fa",
           "#FFA15A",
           "#19d3f3",
           "#FF6692",
           "#B6E880",
           "#FF97FF",
           "#FECB52"
          ],
          "font": {
           "color": "#2a3f5f"
          },
          "geo": {
           "bgcolor": "white",
           "lakecolor": "white",
           "landcolor": "#E5ECF6",
           "showlakes": true,
           "showland": true,
           "subunitcolor": "white"
          },
          "hoverlabel": {
           "align": "left"
          },
          "hovermode": "closest",
          "mapbox": {
           "style": "light"
          },
          "paper_bgcolor": "white",
          "plot_bgcolor": "#E5ECF6",
          "polar": {
           "angularaxis": {
            "gridcolor": "white",
            "linecolor": "white",
            "ticks": ""
           },
           "bgcolor": "#E5ECF6",
           "radialaxis": {
            "gridcolor": "white",
            "linecolor": "white",
            "ticks": ""
           }
          },
          "scene": {
           "xaxis": {
            "backgroundcolor": "#E5ECF6",
            "gridcolor": "white",
            "gridwidth": 2,
            "linecolor": "white",
            "showbackground": true,
            "ticks": "",
            "zerolinecolor": "white"
           },
           "yaxis": {
            "backgroundcolor": "#E5ECF6",
            "gridcolor": "white",
            "gridwidth": 2,
            "linecolor": "white",
            "showbackground": true,
            "ticks": "",
            "zerolinecolor": "white"
           },
           "zaxis": {
            "backgroundcolor": "#E5ECF6",
            "gridcolor": "white",
            "gridwidth": 2,
            "linecolor": "white",
            "showbackground": true,
            "ticks": "",
            "zerolinecolor": "white"
           }
          },
          "shapedefaults": {
           "line": {
            "color": "#2a3f5f"
           }
          },
          "ternary": {
           "aaxis": {
            "gridcolor": "white",
            "linecolor": "white",
            "ticks": ""
           },
           "baxis": {
            "gridcolor": "white",
            "linecolor": "white",
            "ticks": ""
           },
           "bgcolor": "#E5ECF6",
           "caxis": {
            "gridcolor": "white",
            "linecolor": "white",
            "ticks": ""
           }
          },
          "title": {
           "x": 0.05
          },
          "xaxis": {
           "automargin": true,
           "gridcolor": "white",
           "linecolor": "white",
           "ticks": "",
           "title": {
            "standoff": 15
           },
           "zerolinecolor": "white",
           "zerolinewidth": 2
          },
          "yaxis": {
           "automargin": true,
           "gridcolor": "white",
           "linecolor": "white",
           "ticks": "",
           "title": {
            "standoff": 15
           },
           "zerolinecolor": "white",
           "zerolinewidth": 2
          }
         }
        },
        "title": {
         "text": "Average Rating vs Number of ingredients"
        },
        "xaxis": {
         "anchor": "y",
         "domain": [
          0,
          1
         ],
         "title": {
          "text": "Number of ingredients"
         }
        },
        "yaxis": {
         "anchor": "x",
         "domain": [
          0,
          1
         ],
         "title": {
          "text": "Average Rating"
         }
        }
       }
      }
     },
     "metadata": {},
     "output_type": "display_data"
    }
   ],
   "source": [
    "avg_ratings = df_ratings.groupby('recipe_id')['rating'].mean()\n",
    "merged = df_recipes.merge(avg_ratings, left_on='id', right_on='recipe_id')\n",
    "\n",
    "fig = px.scatter(merged, x='n_ingredients', y='rating',\n",
    "                 title='Average Rating vs Number of ingredients',\n",
    "                 labels={'n_ingredients': 'Number of ingredients', 'rating': 'Average Rating'},\n",
    "                 opacity=0.6)\n",
    "fig.show()"
   ]
  },
  {
   "cell_type": "markdown",
   "id": "8badeab1",
   "metadata": {},
   "source": [
    "[plot](plots/ar_ni.png)"
   ]
  },
  {
   "cell_type": "markdown",
   "id": "09ebdf2e",
   "metadata": {},
   "source": [
    "Antalet steg i ett recept verkar inte heller spela allt för stor roll i dens popularitet"
   ]
  },
  {
   "cell_type": "code",
   "execution_count": 413,
   "id": "c48e163f",
   "metadata": {},
   "outputs": [
    {
     "data": {
      "application/vnd.plotly.v1+json": {
       "config": {
        "plotlyServerURL": "https://plot.ly"
       },
       "data": [
        {
         "bingroup": "x",
         "hovertemplate": "Number of Reviews=%{x}<br>count=%{y}<extra></extra>",
         "legendgroup": "",
         "marker": {
          "color": "#636efa",
          "pattern": {
           "shape": ""
          }
         },
         "name": "",
         "nbinsx": 50,
         "orientation": "v",
         "showlegend": false,
         "type": "histogram",
         "x": {
          "bdata": "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",
          "dtype": "i2"
         },
         "xaxis": "x",
         "yaxis": "y"
        }
       ],
       "layout": {
        "bargap": 0.1,
        "barmode": "relative",
        "legend": {
         "tracegroupgap": 0
        },
        "template": {
         "data": {
          "bar": [
           {
            "error_x": {
             "color": "#2a3f5f"
            },
            "error_y": {
             "color": "#2a3f5f"
            },
            "marker": {
             "line": {
              "color": "#E5ECF6",
              "width": 0.5
             },
             "pattern": {
              "fillmode": "overlay",
              "size": 10,
              "solidity": 0.2
             }
            },
            "type": "bar"
           }
          ],
          "barpolar": [
           {
            "marker": {
             "line": {
              "color": "#E5ECF6",
              "width": 0.5
             },
             "pattern": {
              "fillmode": "overlay",
              "size": 10,
              "solidity": 0.2
             }
            },
            "type": "barpolar"
           }
          ],
          "carpet": [
           {
            "aaxis": {
             "endlinecolor": "#2a3f5f",
             "gridcolor": "white",
             "linecolor": "white",
             "minorgridcolor": "white",
             "startlinecolor": "#2a3f5f"
            },
            "baxis": {
             "endlinecolor": "#2a3f5f",
             "gridcolor": "white",
             "linecolor": "white",
             "minorgridcolor": "white",
             "startlinecolor": "#2a3f5f"
            },
            "type": "carpet"
           }
          ],
          "choropleth": [
           {
            "colorbar": {
             "outlinewidth": 0,
             "ticks": ""
            },
            "type": "choropleth"
           }
          ],
          "contour": [
           {
            "colorbar": {
             "outlinewidth": 0,
             "ticks": ""
            },
            "colorscale": [
             [
              0,
              "#0d0887"
             ],
             [
              0.1111111111111111,
              "#46039f"
             ],
             [
              0.2222222222222222,
              "#7201a8"
             ],
             [
              0.3333333333333333,
              "#9c179e"
             ],
             [
              0.4444444444444444,
              "#bd3786"
             ],
             [
              0.5555555555555556,
              "#d8576b"
             ],
             [
              0.6666666666666666,
              "#ed7953"
             ],
             [
              0.7777777777777778,
              "#fb9f3a"
             ],
             [
              0.8888888888888888,
              "#fdca26"
             ],
             [
              1,
              "#f0f921"
             ]
            ],
            "type": "contour"
           }
          ],
          "contourcarpet": [
           {
            "colorbar": {
             "outlinewidth": 0,
             "ticks": ""
            },
            "type": "contourcarpet"
           }
          ],
          "heatmap": [
           {
            "colorbar": {
             "outlinewidth": 0,
             "ticks": ""
            },
            "colorscale": [
             [
              0,
              "#0d0887"
             ],
             [
              0.1111111111111111,
              "#46039f"
             ],
             [
              0.2222222222222222,
              "#7201a8"
             ],
             [
              0.3333333333333333,
              "#9c179e"
             ],
             [
              0.4444444444444444,
              "#bd3786"
             ],
             [
              0.5555555555555556,
              "#d8576b"
             ],
             [
              0.6666666666666666,
              "#ed7953"
             ],
             [
              0.7777777777777778,
              "#fb9f3a"
             ],
             [
              0.8888888888888888,
              "#fdca26"
             ],
             [
              1,
              "#f0f921"
             ]
            ],
            "type": "heatmap"
           }
          ],
          "histogram": [
           {
            "marker": {
             "pattern": {
              "fillmode": "overlay",
              "size": 10,
              "solidity": 0.2
             }
            },
            "type": "histogram"
           }
          ],
          "histogram2d": [
           {
            "colorbar": {
             "outlinewidth": 0,
             "ticks": ""
            },
            "colorscale": [
             [
              0,
              "#0d0887"
             ],
             [
              0.1111111111111111,
              "#46039f"
             ],
             [
              0.2222222222222222,
              "#7201a8"
             ],
             [
              0.3333333333333333,
              "#9c179e"
             ],
             [
              0.4444444444444444,
              "#bd3786"
             ],
             [
              0.5555555555555556,
              "#d8576b"
             ],
             [
              0.6666666666666666,
              "#ed7953"
             ],
             [
              0.7777777777777778,
              "#fb9f3a"
             ],
             [
              0.8888888888888888,
              "#fdca26"
             ],
             [
              1,
              "#f0f921"
             ]
            ],
            "type": "histogram2d"
           }
          ],
          "histogram2dcontour": [
           {
            "colorbar": {
             "outlinewidth": 0,
             "ticks": ""
            },
            "colorscale": [
             [
              0,
              "#0d0887"
             ],
             [
              0.1111111111111111,
              "#46039f"
             ],
             [
              0.2222222222222222,
              "#7201a8"
             ],
             [
              0.3333333333333333,
              "#9c179e"
             ],
             [
              0.4444444444444444,
              "#bd3786"
             ],
             [
              0.5555555555555556,
              "#d8576b"
             ],
             [
              0.6666666666666666,
              "#ed7953"
             ],
             [
              0.7777777777777778,
              "#fb9f3a"
             ],
             [
              0.8888888888888888,
              "#fdca26"
             ],
             [
              1,
              "#f0f921"
             ]
            ],
            "type": "histogram2dcontour"
           }
          ],
          "mesh3d": [
           {
            "colorbar": {
             "outlinewidth": 0,
             "ticks": ""
            },
            "type": "mesh3d"
           }
          ],
          "parcoords": [
           {
            "line": {
             "colorbar": {
              "outlinewidth": 0,
              "ticks": ""
             }
            },
            "type": "parcoords"
           }
          ],
          "pie": [
           {
            "automargin": true,
            "type": "pie"
           }
          ],
          "scatter": [
           {
            "fillpattern": {
             "fillmode": "overlay",
             "size": 10,
             "solidity": 0.2
            },
            "type": "scatter"
           }
          ],
          "scatter3d": [
           {
            "line": {
             "colorbar": {
              "outlinewidth": 0,
              "ticks": ""
             }
            },
            "marker": {
             "colorbar": {
              "outlinewidth": 0,
              "ticks": ""
             }
            },
            "type": "scatter3d"
           }
          ],
          "scattercarpet": [
           {
            "marker": {
             "colorbar": {
              "outlinewidth": 0,
              "ticks": ""
             }
            },
            "type": "scattercarpet"
           }
          ],
          "scattergeo": [
           {
            "marker": {
             "colorbar": {
              "outlinewidth": 0,
              "ticks": ""
             }
            },
            "type": "scattergeo"
           }
          ],
          "scattergl": [
           {
            "marker": {
             "colorbar": {
              "outlinewidth": 0,
              "ticks": ""
             }
            },
            "type": "scattergl"
           }
          ],
          "scattermap": [
           {
            "marker": {
             "colorbar": {
              "outlinewidth": 0,
              "ticks": ""
             }
            },
            "type": "scattermap"
           }
          ],
          "scattermapbox": [
           {
            "marker": {
             "colorbar": {
              "outlinewidth": 0,
              "ticks": ""
             }
            },
            "type": "scattermapbox"
           }
          ],
          "scatterpolar": [
           {
            "marker": {
             "colorbar": {
              "outlinewidth": 0,
              "ticks": ""
             }
            },
            "type": "scatterpolar"
           }
          ],
          "scatterpolargl": [
           {
            "marker": {
             "colorbar": {
              "outlinewidth": 0,
              "ticks": ""
             }
            },
            "type": "scatterpolargl"
           }
          ],
          "scatterternary": [
           {
            "marker": {
             "colorbar": {
              "outlinewidth": 0,
              "ticks": ""
             }
            },
            "type": "scatterternary"
           }
          ],
          "surface": [
           {
            "colorbar": {
             "outlinewidth": 0,
             "ticks": ""
            },
            "colorscale": [
             [
              0,
              "#0d0887"
             ],
             [
              0.1111111111111111,
              "#46039f"
             ],
             [
              0.2222222222222222,
              "#7201a8"
             ],
             [
              0.3333333333333333,
              "#9c179e"
             ],
             [
              0.4444444444444444,
              "#bd3786"
             ],
             [
              0.5555555555555556,
              "#d8576b"
             ],
             [
              0.6666666666666666,
              "#ed7953"
             ],
             [
              0.7777777777777778,
              "#fb9f3a"
             ],
             [
              0.8888888888888888,
              "#fdca26"
             ],
             [
              1,
              "#f0f921"
             ]
            ],
            "type": "surface"
           }
          ],
          "table": [
           {
            "cells": {
             "fill": {
              "color": "#EBF0F8"
             },
             "line": {
              "color": "white"
             }
            },
            "header": {
             "fill": {
              "color": "#C8D4E3"
             },
             "line": {
              "color": "white"
             }
            },
            "type": "table"
           }
          ]
         },
         "layout": {
          "annotationdefaults": {
           "arrowcolor": "#2a3f5f",
           "arrowhead": 0,
           "arrowwidth": 1
          },
          "autotypenumbers": "strict",
          "coloraxis": {
           "colorbar": {
            "outlinewidth": 0,
            "ticks": ""
           }
          },
          "colorscale": {
           "diverging": [
            [
             0,
             "#8e0152"
            ],
            [
             0.1,
             "#c51b7d"
            ],
            [
             0.2,
             "#de77ae"
            ],
            [
             0.3,
             "#f1b6da"
            ],
            [
             0.4,
             "#fde0ef"
            ],
            [
             0.5,
             "#f7f7f7"
            ],
            [
             0.6,
             "#e6f5d0"
            ],
            [
             0.7,
             "#b8e186"
            ],
            [
             0.8,
             "#7fbc41"
            ],
            [
             0.9,
             "#4d9221"
            ],
            [
             1,
             "#276419"
            ]
           ],
           "sequential": [
            [
             0,
             "#0d0887"
            ],
            [
             0.1111111111111111,
             "#46039f"
            ],
            [
             0.2222222222222222,
             "#7201a8"
            ],
            [
             0.3333333333333333,
             "#9c179e"
            ],
            [
             0.4444444444444444,
             "#bd3786"
            ],
            [
             0.5555555555555556,
             "#d8576b"
            ],
            [
             0.6666666666666666,
             "#ed7953"
            ],
            [
             0.7777777777777778,
             "#fb9f3a"
            ],
            [
             0.8888888888888888,
             "#fdca26"
            ],
            [
             1,
             "#f0f921"
            ]
           ],
           "sequentialminus": [
            [
             0,
             "#0d0887"
            ],
            [
             0.1111111111111111,
             "#46039f"
            ],
            [
             0.2222222222222222,
             "#7201a8"
            ],
            [
             0.3333333333333333,
             "#9c179e"
            ],
            [
             0.4444444444444444,
             "#bd3786"
            ],
            [
             0.5555555555555556,
             "#d8576b"
            ],
            [
             0.6666666666666666,
             "#ed7953"
            ],
            [
             0.7777777777777778,
             "#fb9f3a"
            ],
            [
             0.8888888888888888,
             "#fdca26"
            ],
            [
             1,
             "#f0f921"
            ]
           ]
          },
          "colorway": [
           "#636efa",
           "#EF553B",
           "#00cc96",
           "#ab63fa",
           "#FFA15A",
           "#19d3f3",
           "#FF6692",
           "#B6E880",
           "#FF97FF",
           "#FECB52"
          ],
          "font": {
           "color": "#2a3f5f"
          },
          "geo": {
           "bgcolor": "white",
           "lakecolor": "white",
           "landcolor": "#E5ECF6",
           "showlakes": true,
           "showland": true,
           "subunitcolor": "white"
          },
          "hoverlabel": {
           "align": "left"
          },
          "hovermode": "closest",
          "mapbox": {
           "style": "light"
          },
          "paper_bgcolor": "white",
          "plot_bgcolor": "#E5ECF6",
          "polar": {
           "angularaxis": {
            "gridcolor": "white",
            "linecolor": "white",
            "ticks": ""
           },
           "bgcolor": "#E5ECF6",
           "radialaxis": {
            "gridcolor": "white",
            "linecolor": "white",
            "ticks": ""
           }
          },
          "scene": {
           "xaxis": {
            "backgroundcolor": "#E5ECF6",
            "gridcolor": "white",
            "gridwidth": 2,
            "linecolor": "white",
            "showbackground": true,
            "ticks": "",
            "zerolinecolor": "white"
           },
           "yaxis": {
            "backgroundcolor": "#E5ECF6",
            "gridcolor": "white",
            "gridwidth": 2,
            "linecolor": "white",
            "showbackground": true,
            "ticks": "",
            "zerolinecolor": "white"
           },
           "zaxis": {
            "backgroundcolor": "#E5ECF6",
            "gridcolor": "white",
            "gridwidth": 2,
            "linecolor": "white",
            "showbackground": true,
            "ticks": "",
            "zerolinecolor": "white"
           }
          },
          "shapedefaults": {
           "line": {
            "color": "#2a3f5f"
           }
          },
          "ternary": {
           "aaxis": {
            "gridcolor": "white",
            "linecolor": "white",
            "ticks": ""
           },
           "baxis": {
            "gridcolor": "white",
            "linecolor": "white",
            "ticks": ""
           },
           "bgcolor": "#E5ECF6",
           "caxis": {
            "gridcolor": "white",
            "linecolor": "white",
            "ticks": ""
           }
          },
          "title": {
           "x": 0.05
          },
          "xaxis": {
           "automargin": true,
           "gridcolor": "white",
           "linecolor": "white",
           "ticks": "",
           "title": {
            "standoff": 15
           },
           "zerolinecolor": "white",
           "zerolinewidth": 2
          },
          "yaxis": {
           "automargin": true,
           "gridcolor": "white",
           "linecolor": "white",
           "ticks": "",
           "title": {
            "standoff": 15
           },
           "zerolinecolor": "white",
           "zerolinewidth": 2
          }
         }
        },
        "title": {
         "text": "Distribution of Number of Reviews per Recipe"
        },
        "xaxis": {
         "anchor": "y",
         "domain": [
          0,
          1
         ],
         "title": {
          "text": "Number of Reviews"
         }
        },
        "yaxis": {
         "anchor": "x",
         "domain": [
          0,
          1
         ],
         "title": {
          "text": "count"
         }
        }
       }
      }
     },
     "metadata": {},
     "output_type": "display_data"
    }
   ],
   "source": [
    "review_counts = df_ratings['recipe_id'].value_counts().reset_index()\n",
    "review_counts.columns = ['recipe_id', 'num_reviews']\n",
    "\n",
    "fig = px.histogram(review_counts, x='num_reviews', nbins=50,\n",
    "                   title='Distribution of Number of Reviews per Recipe',\n",
    "                   labels={'num_reviews': 'Number of Reviews', 'count': 'Number of Recipes'})\n",
    "fig.update_layout(bargap=0.1)\n",
    "fig.show()"
   ]
  },
  {
   "cell_type": "markdown",
   "id": "534d0c97",
   "metadata": {},
   "source": [
    "[plot](plots/dist_nr.png)"
   ]
  },
  {
   "cell_type": "markdown",
   "id": "c5d7848c",
   "metadata": {},
   "source": [
    "De flesta recept har få reviews"
   ]
  },
  {
   "cell_type": "code",
   "execution_count": 420,
   "id": "8594abf7",
   "metadata": {},
   "outputs": [
    {
     "data": {
      "application/vnd.plotly.v1+json": {
       "config": {
        "plotlyServerURL": "https://plot.ly"
       },
       "data": [
        {
         "bingroup": "x",
         "hovertemplate": "Number of Reviews=%{x}<br>count=%{y}<extra></extra>",
         "legendgroup": "",
         "marker": {
          "color": "#636efa",
          "pattern": {
           "shape": ""
          }
         },
         "name": "",
         "nbinsx": 60,
         "orientation": "v",
         "showlegend": false,
         "type": "histogram",
         "x": {
          "bdata": "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",
          "dtype": "i2"
         },
         "xaxis": "x",
         "yaxis": "y"
        }
       ],
       "layout": {
        "bargap": 0.1,
        "barmode": "relative",
        "legend": {
         "tracegroupgap": 0
        },
        "template": {
         "data": {
          "bar": [
           {
            "error_x": {
             "color": "#2a3f5f"
            },
            "error_y": {
             "color": "#2a3f5f"
            },
            "marker": {
             "line": {
              "color": "#E5ECF6",
              "width": 0.5
             },
             "pattern": {
              "fillmode": "overlay",
              "size": 10,
              "solidity": 0.2
             }
            },
            "type": "bar"
           }
          ],
          "barpolar": [
           {
            "marker": {
             "line": {
              "color": "#E5ECF6",
              "width": 0.5
             },
             "pattern": {
              "fillmode": "overlay",
              "size": 10,
              "solidity": 0.2
             }
            },
            "type": "barpolar"
           }
          ],
          "carpet": [
           {
            "aaxis": {
             "endlinecolor": "#2a3f5f",
             "gridcolor": "white",
             "linecolor": "white",
             "minorgridcolor": "white",
             "startlinecolor": "#2a3f5f"
            },
            "baxis": {
             "endlinecolor": "#2a3f5f",
             "gridcolor": "white",
             "linecolor": "white",
             "minorgridcolor": "white",
             "startlinecolor": "#2a3f5f"
            },
            "type": "carpet"
           }
          ],
          "choropleth": [
           {
            "colorbar": {
             "outlinewidth": 0,
             "ticks": ""
            },
            "type": "choropleth"
           }
          ],
          "contour": [
           {
            "colorbar": {
             "outlinewidth": 0,
             "ticks": ""
            },
            "colorscale": [
             [
              0,
              "#0d0887"
             ],
             [
              0.1111111111111111,
              "#46039f"
             ],
             [
              0.2222222222222222,
              "#7201a8"
             ],
             [
              0.3333333333333333,
              "#9c179e"
             ],
             [
              0.4444444444444444,
              "#bd3786"
             ],
             [
              0.5555555555555556,
              "#d8576b"
             ],
             [
              0.6666666666666666,
              "#ed7953"
             ],
             [
              0.7777777777777778,
              "#fb9f3a"
             ],
             [
              0.8888888888888888,
              "#fdca26"
             ],
             [
              1,
              "#f0f921"
             ]
            ],
            "type": "contour"
           }
          ],
          "contourcarpet": [
           {
            "colorbar": {
             "outlinewidth": 0,
             "ticks": ""
            },
            "type": "contourcarpet"
           }
          ],
          "heatmap": [
           {
            "colorbar": {
             "outlinewidth": 0,
             "ticks": ""
            },
            "colorscale": [
             [
              0,
              "#0d0887"
             ],
             [
              0.1111111111111111,
              "#46039f"
             ],
             [
              0.2222222222222222,
              "#7201a8"
             ],
             [
              0.3333333333333333,
              "#9c179e"
             ],
             [
              0.4444444444444444,
              "#bd3786"
             ],
             [
              0.5555555555555556,
              "#d8576b"
             ],
             [
              0.6666666666666666,
              "#ed7953"
             ],
             [
              0.7777777777777778,
              "#fb9f3a"
             ],
             [
              0.8888888888888888,
              "#fdca26"
             ],
             [
              1,
              "#f0f921"
             ]
            ],
            "type": "heatmap"
           }
          ],
          "histogram": [
           {
            "marker": {
             "pattern": {
              "fillmode": "overlay",
              "size": 10,
              "solidity": 0.2
             }
            },
            "type": "histogram"
           }
          ],
          "histogram2d": [
           {
            "colorbar": {
             "outlinewidth": 0,
             "ticks": ""
            },
            "colorscale": [
             [
              0,
              "#0d0887"
             ],
             [
              0.1111111111111111,
              "#46039f"
             ],
             [
              0.2222222222222222,
              "#7201a8"
             ],
             [
              0.3333333333333333,
              "#9c179e"
             ],
             [
              0.4444444444444444,
              "#bd3786"
             ],
             [
              0.5555555555555556,
              "#d8576b"
             ],
             [
              0.6666666666666666,
              "#ed7953"
             ],
             [
              0.7777777777777778,
              "#fb9f3a"
             ],
             [
              0.8888888888888888,
              "#fdca26"
             ],
             [
              1,
              "#f0f921"
             ]
            ],
            "type": "histogram2d"
           }
          ],
          "histogram2dcontour": [
           {
            "colorbar": {
             "outlinewidth": 0,
             "ticks": ""
            },
            "colorscale": [
             [
              0,
              "#0d0887"
             ],
             [
              0.1111111111111111,
              "#46039f"
             ],
             [
              0.2222222222222222,
              "#7201a8"
             ],
             [
              0.3333333333333333,
              "#9c179e"
             ],
             [
              0.4444444444444444,
              "#bd3786"
             ],
             [
              0.5555555555555556,
              "#d8576b"
             ],
             [
              0.6666666666666666,
              "#ed7953"
             ],
             [
              0.7777777777777778,
              "#fb9f3a"
             ],
             [
              0.8888888888888888,
              "#fdca26"
             ],
             [
              1,
              "#f0f921"
             ]
            ],
            "type": "histogram2dcontour"
           }
          ],
          "mesh3d": [
           {
            "colorbar": {
             "outlinewidth": 0,
             "ticks": ""
            },
            "type": "mesh3d"
           }
          ],
          "parcoords": [
           {
            "line": {
             "colorbar": {
              "outlinewidth": 0,
              "ticks": ""
             }
            },
            "type": "parcoords"
           }
          ],
          "pie": [
           {
            "automargin": true,
            "type": "pie"
           }
          ],
          "scatter": [
           {
            "fillpattern": {
             "fillmode": "overlay",
             "size": 10,
             "solidity": 0.2
            },
            "type": "scatter"
           }
          ],
          "scatter3d": [
           {
            "line": {
             "colorbar": {
              "outlinewidth": 0,
              "ticks": ""
             }
            },
            "marker": {
             "colorbar": {
              "outlinewidth": 0,
              "ticks": ""
             }
            },
            "type": "scatter3d"
           }
          ],
          "scattercarpet": [
           {
            "marker": {
             "colorbar": {
              "outlinewidth": 0,
              "ticks": ""
             }
            },
            "type": "scattercarpet"
           }
          ],
          "scattergeo": [
           {
            "marker": {
             "colorbar": {
              "outlinewidth": 0,
              "ticks": ""
             }
            },
            "type": "scattergeo"
           }
          ],
          "scattergl": [
           {
            "marker": {
             "colorbar": {
              "outlinewidth": 0,
              "ticks": ""
             }
            },
            "type": "scattergl"
           }
          ],
          "scattermap": [
           {
            "marker": {
             "colorbar": {
              "outlinewidth": 0,
              "ticks": ""
             }
            },
            "type": "scattermap"
           }
          ],
          "scattermapbox": [
           {
            "marker": {
             "colorbar": {
              "outlinewidth": 0,
              "ticks": ""
             }
            },
            "type": "scattermapbox"
           }
          ],
          "scatterpolar": [
           {
            "marker": {
             "colorbar": {
              "outlinewidth": 0,
              "ticks": ""
             }
            },
            "type": "scatterpolar"
           }
          ],
          "scatterpolargl": [
           {
            "marker": {
             "colorbar": {
              "outlinewidth": 0,
              "ticks": ""
             }
            },
            "type": "scatterpolargl"
           }
          ],
          "scatterternary": [
           {
            "marker": {
             "colorbar": {
              "outlinewidth": 0,
              "ticks": ""
             }
            },
            "type": "scatterternary"
           }
          ],
          "surface": [
           {
            "colorbar": {
             "outlinewidth": 0,
             "ticks": ""
            },
            "colorscale": [
             [
              0,
              "#0d0887"
             ],
             [
              0.1111111111111111,
              "#46039f"
             ],
             [
              0.2222222222222222,
              "#7201a8"
             ],
             [
              0.3333333333333333,
              "#9c179e"
             ],
             [
              0.4444444444444444,
              "#bd3786"
             ],
             [
              0.5555555555555556,
              "#d8576b"
             ],
             [
              0.6666666666666666,
              "#ed7953"
             ],
             [
              0.7777777777777778,
              "#fb9f3a"
             ],
             [
              0.8888888888888888,
              "#fdca26"
             ],
             [
              1,
              "#f0f921"
             ]
            ],
            "type": "surface"
           }
          ],
          "table": [
           {
            "cells": {
             "fill": {
              "color": "#EBF0F8"
             },
             "line": {
              "color": "white"
             }
            },
            "header": {
             "fill": {
              "color": "#C8D4E3"
             },
             "line": {
              "color": "white"
             }
            },
            "type": "table"
           }
          ]
         },
         "layout": {
          "annotationdefaults": {
           "arrowcolor": "#2a3f5f",
           "arrowhead": 0,
           "arrowwidth": 1
          },
          "autotypenumbers": "strict",
          "coloraxis": {
           "colorbar": {
            "outlinewidth": 0,
            "ticks": ""
           }
          },
          "colorscale": {
           "diverging": [
            [
             0,
             "#8e0152"
            ],
            [
             0.1,
             "#c51b7d"
            ],
            [
             0.2,
             "#de77ae"
            ],
            [
             0.3,
             "#f1b6da"
            ],
            [
             0.4,
             "#fde0ef"
            ],
            [
             0.5,
             "#f7f7f7"
            ],
            [
             0.6,
             "#e6f5d0"
            ],
            [
             0.7,
             "#b8e186"
            ],
            [
             0.8,
             "#7fbc41"
            ],
            [
             0.9,
             "#4d9221"
            ],
            [
             1,
             "#276419"
            ]
           ],
           "sequential": [
            [
             0,
             "#0d0887"
            ],
            [
             0.1111111111111111,
             "#46039f"
            ],
            [
             0.2222222222222222,
             "#7201a8"
            ],
            [
             0.3333333333333333,
             "#9c179e"
            ],
            [
             0.4444444444444444,
             "#bd3786"
            ],
            [
             0.5555555555555556,
             "#d8576b"
            ],
            [
             0.6666666666666666,
             "#ed7953"
            ],
            [
             0.7777777777777778,
             "#fb9f3a"
            ],
            [
             0.8888888888888888,
             "#fdca26"
            ],
            [
             1,
             "#f0f921"
            ]
           ],
           "sequentialminus": [
            [
             0,
             "#0d0887"
            ],
            [
             0.1111111111111111,
             "#46039f"
            ],
            [
             0.2222222222222222,
             "#7201a8"
            ],
            [
             0.3333333333333333,
             "#9c179e"
            ],
            [
             0.4444444444444444,
             "#bd3786"
            ],
            [
             0.5555555555555556,
             "#d8576b"
            ],
            [
             0.6666666666666666,
             "#ed7953"
            ],
            [
             0.7777777777777778,
             "#fb9f3a"
            ],
            [
             0.8888888888888888,
             "#fdca26"
            ],
            [
             1,
             "#f0f921"
            ]
           ]
          },
          "colorway": [
           "#636efa",
           "#EF553B",
           "#00cc96",
           "#ab63fa",
           "#FFA15A",
           "#19d3f3",
           "#FF6692",
           "#B6E880",
           "#FF97FF",
           "#FECB52"
          ],
          "font": {
           "color": "#2a3f5f"
          },
          "geo": {
           "bgcolor": "white",
           "lakecolor": "white",
           "landcolor": "#E5ECF6",
           "showlakes": true,
           "showland": true,
           "subunitcolor": "white"
          },
          "hoverlabel": {
           "align": "left"
          },
          "hovermode": "closest",
          "mapbox": {
           "style": "light"
          },
          "paper_bgcolor": "white",
          "plot_bgcolor": "#E5ECF6",
          "polar": {
           "angularaxis": {
            "gridcolor": "white",
            "linecolor": "white",
            "ticks": ""
           },
           "bgcolor": "#E5ECF6",
           "radialaxis": {
            "gridcolor": "white",
            "linecolor": "white",
            "ticks": ""
           }
          },
          "scene": {
           "xaxis": {
            "backgroundcolor": "#E5ECF6",
            "gridcolor": "white",
            "gridwidth": 2,
            "linecolor": "white",
            "showbackground": true,
            "ticks": "",
            "zerolinecolor": "white"
           },
           "yaxis": {
            "backgroundcolor": "#E5ECF6",
            "gridcolor": "white",
            "gridwidth": 2,
            "linecolor": "white",
            "showbackground": true,
            "ticks": "",
            "zerolinecolor": "white"
           },
           "zaxis": {
            "backgroundcolor": "#E5ECF6",
            "gridcolor": "white",
            "gridwidth": 2,
            "linecolor": "white",
            "showbackground": true,
            "ticks": "",
            "zerolinecolor": "white"
           }
          },
          "shapedefaults": {
           "line": {
            "color": "#2a3f5f"
           }
          },
          "ternary": {
           "aaxis": {
            "gridcolor": "white",
            "linecolor": "white",
            "ticks": ""
           },
           "baxis": {
            "gridcolor": "white",
            "linecolor": "white",
            "ticks": ""
           },
           "bgcolor": "#E5ECF6",
           "caxis": {
            "gridcolor": "white",
            "linecolor": "white",
            "ticks": ""
           }
          },
          "title": {
           "x": 0.05
          },
          "xaxis": {
           "automargin": true,
           "gridcolor": "white",
           "linecolor": "white",
           "ticks": "",
           "title": {
            "standoff": 15
           },
           "zerolinecolor": "white",
           "zerolinewidth": 2
          },
          "yaxis": {
           "automargin": true,
           "gridcolor": "white",
           "linecolor": "white",
           "ticks": "",
           "title": {
            "standoff": 15
           },
           "zerolinecolor": "white",
           "zerolinewidth": 2
          }
         }
        },
        "title": {
         "text": "Distribution of Number of Reviews per User"
        },
        "xaxis": {
         "anchor": "y",
         "domain": [
          0,
          1
         ],
         "title": {
          "text": "Number of Reviews"
         }
        },
        "yaxis": {
         "anchor": "x",
         "domain": [
          0,
          1
         ],
         "title": {
          "text": "count"
         }
        }
       }
      }
     },
     "metadata": {},
     "output_type": "display_data"
    }
   ],
   "source": [
    "review_counts = df_ratings['user_id'].value_counts().reset_index()\n",
    "review_counts.columns = ['user_id', 'num_reviews']\n",
    "\n",
    "fig = px.histogram(review_counts, x='num_reviews', nbins=60,\n",
    "                   title='Distribution of Number of Reviews per User',\n",
    "                   labels={'num_reviews': 'Number of Reviews', 'count': 'Number of Reviews Given'})\n",
    "fig.update_layout(bargap=0.1)\n",
    "fig.show()"
   ]
  },
  {
   "cell_type": "markdown",
   "id": "f317b205",
   "metadata": {},
   "source": [
    "[plot](plots/dist_ru.png)"
   ]
  },
  {
   "cell_type": "markdown",
   "id": "e4a896a8",
   "metadata": {},
   "source": [
    "De flesta användare har gett ett fåtal recensioner. Detta i kombination att de flesta recept har också fått få recensioner kan göra att det finns möjligen inte så mycket överlappning bland användare, vilket kan leda till att speciellt att den kollaborativa rekommendationssystmet kan ha svårigheter att göra bra rekommendationer. "
   ]
  }
 ],
 "metadata": {
  "kernelspec": {
   "display_name": ".venv (3.12.8)",
   "language": "python",
   "name": "python3"
  },
  "language_info": {
   "codemirror_mode": {
    "name": "ipython",
    "version": 3
   },
   "file_extension": ".py",
   "mimetype": "text/x-python",
   "name": "python",
   "nbconvert_exporter": "python",
   "pygments_lexer": "ipython3",
   "version": "3.12.8"
  }
 },
 "nbformat": 4,
 "nbformat_minor": 5
}
